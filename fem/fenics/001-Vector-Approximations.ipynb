{
 "cells": [
  {
   "cell_type": "markdown",
   "metadata": {},
   "source": [
    "# Vector Approximation Methods"
   ]
  },
  {
   "cell_type": "code",
   "execution_count": 22,
   "metadata": {},
   "outputs": [],
   "source": [
    "from casadi import SX\n",
    "from casadi import vertcat\n",
    "from casadi import dot\n",
    "from casadi import gradient\n",
    "from casadi import qpsol"
   ]
  },
  {
   "cell_type": "code",
   "execution_count": 5,
   "metadata": {},
   "outputs": [],
   "source": []
  },
  {
   "cell_type": "code",
   "execution_count": 43,
   "metadata": {},
   "outputs": [],
   "source": [
    "f = SX.sym(\"f\", 2)\n",
    "psi = SX.sym(\"psi\", 2)\n",
    "c0 = SX.sym(\"c0\", 2)\n",
    "\n",
    "e = f - c0 * psi\n",
    "E = dot(e, e)\n",
    "\n",
    "problem = {\"f\": E, \"x\": c0, \"p\": vertcat(f, psi)}\n",
    "solver = qpsol(\"solver\", \"qpoases\", problem)"
   ]
  },
  {
   "cell_type": "code",
   "execution_count": 48,
   "metadata": {},
   "outputs": [
    {
     "name": "stdout",
     "output_type": "stream",
     "text": [
      "WARNING:   Stepsize is 0.000000000000000e+00\n",
      "\n",
      "\n",
      "#################   qpOASES  --  QP NO.   4   ##################\n",
      "\n",
      "    Iter   |    StepLength    |       Info       |   nFX    \n",
      " ----------+------------------+------------------+--------- \n",
      "       0   |   0.000000e+00   |   REM BND    0   |     1   \n",
      "       1   |   2.777775e-08   |   REM BND    1   |     0   \n",
      "       2   |   1.000000e+00   |    QP SOLVED     |     0   \n"
     ]
    },
    {
     "data": {
      "text/plain": [
       "DM([1.5, 1.66667])"
      ]
     },
     "execution_count": 48,
     "metadata": {},
     "output_type": "execute_result"
    }
   ],
   "source": [
    "f_num = vertcat(3, 5)\n",
    "psi_num = vertcat(2, 3)\n",
    "\n",
    "solution = solver(p=vertcat(f_num, psi_num))\n",
    "solution[\"x\"]"
   ]
  },
  {
   "cell_type": "code",
   "execution_count": null,
   "metadata": {},
   "outputs": [],
   "source": []
  }
 ],
 "metadata": {
  "kernelspec": {
   "display_name": "Python 3",
   "language": "python",
   "name": "python3"
  },
  "language_info": {
   "codemirror_mode": {
    "name": "ipython",
    "version": 3
   },
   "file_extension": ".py",
   "mimetype": "text/x-python",
   "name": "python",
   "nbconvert_exporter": "python",
   "pygments_lexer": "ipython3",
   "version": "3.6.9"
  }
 },
 "nbformat": 4,
 "nbformat_minor": 4
}
