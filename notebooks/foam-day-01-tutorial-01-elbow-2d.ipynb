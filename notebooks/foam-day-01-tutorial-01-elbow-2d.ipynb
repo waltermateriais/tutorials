{
 "cells": [
  {
   "cell_type": "markdown",
   "id": "807d081e-d259-47dc-9517-157e8942bddf",
   "metadata": {},
   "source": [
    "# Day 01 - Tutorial 01 - Elbow 2D"
   ]
  },
  {
   "cell_type": "markdown",
   "id": "8848dd4f-c044-4849-867d-c053b73058ff",
   "metadata": {},
   "source": [
    "This series of [OpenFOAM](https://www.openfoam.com) tutorials is intended to be an extension of the classical [3-week series](https://wiki.openfoam.com/index.php?title=%223_weeks%22_series) but it is not limited to those cases. You are expected to have minimal *NIX* skills for dealing with commands in a Linux terminal and have basic knowledge of Python programming. For later tutorials some C++ knowledge is welcomed. Supported version is currently *v2106* of ESI extended version of OpenFOAM.\n",
    "\n",
    "A different approach to the management of OpenFOAM cases is provided here. Instead of creating cases as structured directories as expected by OpenFOAM, we reunite all the files in a Jupyter Notebook and we make use of Python for generating the project structure. This is intended to make navigation easier (recent versions of JupyterLab have a good *Table of Contents* navigation) and allow for easily generating experimental cases varying parameters. During the conception of these tutorials a Python package `foamutils` is developped to cover the required data manipulations. Please notice that there is already a [`PyFoam`](https://openfoamwiki.net/index.php/Contrib/PyFoam) package for manipulating OpenFOAM data but it does not satify us as a *pythonic* package in terms of documentation and style.\n",
    "\n",
    "With this series we propose to *sysadmins* to consider hosting [JupyterHub](https://jupyterhub.readthedocs.io/en/stable/) instances in host machines allowing access to OpenFOAM clusters/HPC for users to launch calculations based on our approach and provide VNC access for later visualization.\n",
    "\n",
    "Since `foamutils` is in active development while these tutorials are written, `autoreload` is enabled before the package is imported. This and other details regarding the import phase early in each tutorial will not be mentioned again in later tutorials. We also preconise defining the case name early in the notebook so that whenever we want to write a file this name is available for the root directory. Needless to say given this comments, basic OpenFOAM usage will be covered less and less as tutorials get more advanced, so following them in order is a requirement for beginners."
   ]
  },
  {
   "cell_type": "code",
   "execution_count": 1,
   "id": "0b2fd092-4e0c-4132-8440-833d0b44fafe",
   "metadata": {},
   "outputs": [],
   "source": [
    "%load_ext autoreload\n",
    "%autoreload 2"
   ]
  },
  {
   "cell_type": "code",
   "execution_count": 2,
   "id": "17fb8e13-55e5-4694-9124-6727e51ffe8a",
   "metadata": {},
   "outputs": [],
   "source": [
    "import cfdtoolbox as cfd\n",
    "import cfdtoolbox.foam as fu"
   ]
  },
  {
   "cell_type": "markdown",
   "id": "1fa6ba60-79a6-48d1-a773-605057de4ebb",
   "metadata": {},
   "source": [
    "This tutorial extending [this elbow 2D tutorial](https://wiki.openfoam.com/index.php?title=First_simulation_by_Jozsef_Nagy) is complemented by the following materials:\n",
    "- [How to run your first simulation in OpenFOAM® - Part 1 - tutorial (József Nagy)](https://www.youtube.com/watch?v=KznljrgWSvo)\n",
    "- [How to run your first simulation in OpenFOAM® - Part 2 - tutorial (József Nagy)](https://www.youtube.com/watch?v=bJTSKaxG58Y)\n",
    "- [PDF version of elbow 2D tutorial](https://www.cfd.at/downloads/FoamTutorial_1-ExampleOne.pdf)"
   ]
  },
  {
   "cell_type": "code",
   "execution_count": 3,
   "id": "1eacb86d-8366-4939-9ea0-f3ec817bd573",
   "metadata": {},
   "outputs": [],
   "source": [
    "case = \"cases/foam-day-01-tutorial-01-elbow-2d\""
   ]
  },
  {
   "cell_type": "markdown",
   "id": "2d8cb59b-6255-4d73-a391-b2152df930d0",
   "metadata": {},
   "source": [
    "## Basics of OpenFOAM"
   ]
  },
  {
   "cell_type": "markdown",
   "id": "7b98b04d-023a-4848-94a6-3c461c8ee2d8",
   "metadata": {},
   "source": [
    "As any CFD or other physics-based simulation, a project in OpenFOAM requires the following steps:\n",
    "1. Pre-processing:\n",
    "    - Conception of geometry and a grid, this might involve multiple regions definition.\n",
    "    - Select thermophysical properties for the fluids/media being simulated, including possibly chemical kinetics.\n",
    "2. Modeling:\n",
    "    - Select the governing equation representing the phenomena to be simulated and an adapted solver.\n",
    "    - Provide adequate boundary conditions for the limits of the field and initialize internal state.\n",
    "    - Select discretization schemes for the equation (notice this is not the same as meshing) and solution scheme.\n",
    "    - Solve the problem or integrate in time and space and check convergence.\n",
    "3. Post-processing:\n",
    "    - Select regions of interest to provide visualization of results.\n",
    "    - Plot contours, streamlines, vectors, etc, as applicable/required.\n",
    "    - Compute other quantities from the fields."
   ]
  },
  {
   "cell_type": "markdown",
   "id": "d724ccd7-a07a-4fb4-bea1-d4a99f23af1f",
   "metadata": {},
   "source": [
    "A particularity of OpenFOAM is the way these steps are organized and how the files are stored. Although you might conceive your own solver (as we will study later in this series) that does not respect strictly what is present next, you are highly discouraged to do so, otherwise it will look weird and difficult to learn for other OpenFOAM users. An OpenFOAM case is composed, at least, of the following directories:\n",
    "- `0/` (or zeros expressed in any precision you like, we discuss about that later eventually): this directory contains the boundary conditions and initial states for the patches defined in the mesh. Each physical field (pressure, velocity, temperature...) is defined in a sort of *dictionary* file, with one file per field. The required files vary from solver to solver depending on the modelled physics, but generally the naming convention is homogeneous so that velocity is `U` and pressure is `p`, for instance.\n",
    "- `constant/`: this directory hosts the generated mesh in a sub-directory `polyMesh` and other files corresponding to thermophysical properties of the fluids (transport properties, heat capacities, chemical kinetics,...), definitions regarding the turbulence modelling (but not the boundary conditions, which are found under `0/`), and other problem-specific files. One important file that might appear in some cases is `fvOptions`, through which we might provide heat sources, moving reference frames, etc.\n",
    "- `system/`: here go the solution control `controlDict` which is the entry point to the case, the selection of numerical schemes `fvSchemes` and the solver controls and convergence criteria in `fvSolution`. If geometry/meshing is done with OpenFOAM built-in tools, related files can also be found here. In multi-region simulations we might find sub-directories with `fvSchemes` and `fvSolutions` for different regions of the domain. Other files that might be here relate initialization of multi-phase simulations, partitioning for parallel computing, among others.\n",
    "\n",
    "In the present tutorial we are more interested in running a first simulation, so aspects of geometry and meshing will not be covered here in depth."
   ]
  },
  {
   "cell_type": "markdown",
   "id": "8e2617c0-9091-4cbe-af56-a5439fe66f31",
   "metadata": {},
   "source": [
    "## Problem geometry"
   ]
  },
  {
   "cell_type": "markdown",
   "id": "ae971226-9ace-4102-98d3-9b7549ef25c3",
   "metadata": {},
   "source": [
    "The mesh is provided in `${FOAM_TUTORIALS}/resources/geometry/elbow.msh` and will later be copied to the case to convert to OpenFOAM format. In this case a `.msh` file generated with Gambit &reg; is used. The domain is composed of a large elbow with a main inlet `velocity-inlet-5` on the left side and a small channel inlet `velocity-inlet-6` coming from the bottom part. On the top we see the system outlet `pressure-outlet-7`. The other regions are treated as walls (main duct and inlet channel). A coarse mesh is used for a quick illustrative simulation. An important feature of OpenFOAM meshes that must be emphasized here is that the front and back planes `frontAndBackPlanes` in a 2D simulation as this must be separated by at least one cell over the domain thickness. In OpenFOAM a 0D simulation (`chemFoam`) is performed in a single 3D cell, 1D simulations are actually a stack of 3D cells, 2D meshes are actually extruded planes... and nothing needs to be said about 3D meshes. We will come back to this point later when we actually perform the meshing of another case.\n",
    "\n",
    "<center>\n",
    "    <img src=\"media/day-01-tutorial-01-elbow-2d-mesh.png\" width=\"400px\" />\n",
    "</center>"
   ]
  },
  {
   "cell_type": "markdown",
   "id": "568b15e9-3a9c-47ca-9b19-9f37854a13fc",
   "metadata": {},
   "source": [
    "## Initial conditions"
   ]
  },
  {
   "cell_type": "markdown",
   "id": "a8e912fa-fa8f-4266-b7d0-e9b26f5b5d25",
   "metadata": {},
   "source": [
    "In this study we make use of `icoFoam`, a solver for solution of transient incompressible laminar flows of Newtonian fluids. A complete list of standard OpenFOAM solvers can be found [here](https://www.openfoam.com/documentation/user-guide/a-reference/a.1-standard-solvers#x32-135000A.1). In this case we need only the pressure `p` and velocity `U` boundary conditions, as discussed next."
   ]
  },
  {
   "cell_type": "markdown",
   "id": "371945bd-1d0b-490d-a26c-8bba173cee47",
   "metadata": {},
   "source": [
    "### Pressure conditions"
   ]
  },
  {
   "cell_type": "markdown",
   "id": "ab64937c-d3cf-4693-ae77-d8cadc45168d",
   "metadata": {},
   "source": [
    "Before entering the details of file contents we must say that all files in OpenFOAM start with a standard banned and a `FoamFile` describing what type of data it contains, the *object* it models, and some metadata. In the case of pressure we should see something as follows. Notice the `class volScalarField`, which means that we as handling a volumetric scalar quantity."
   ]
  },
  {
   "cell_type": "code",
   "execution_count": 4,
   "id": "d9b337eb-3f32-4cf2-9d0c-d2be09fdb1ba",
   "metadata": {},
   "outputs": [
    {
     "name": "stdout",
     "output_type": "stream",
     "text": [
      "/*--------------------------------*- C++ -*----------------------------------*\\\n",
      "| =========                 |                                                 |\n",
      "| \\\\      /  F ield         | OpenFOAM: The Open Source CFD Toolbox           |\n",
      "|  \\\\    /   O peration     | Version:  v2106                                 |\n",
      "|   \\\\  /    A nd           | Website:  www.openfoam.com                      |\n",
      "|    \\\\/     M anipulation  |                                                 |\n",
      "\\*---------------------------------------------------------------------------*/\n",
      "FoamFile\n",
      "{\n",
      "    version     2.0;\n",
      "    format      ascii;\n",
      "    class       volScalarField;\n",
      "    object      p;\n",
      "}\n",
      "// * * * * * * * * * * * * * * * * * * * * * * * * * * * * * * * * * * * * * //\n",
      "\n"
     ]
    }
   ],
   "source": [
    "print(fu.make_header(\"p\", None))"
   ]
  },
  {
   "cell_type": "markdown",
   "id": "5f6f9bc9-3efd-41aa-be4d-908ba759bc99",
   "metadata": {},
   "source": [
    "Since this is an incompressible solver, pressure is actually represented by the reduced pressure (pressure divided by density), thus its units are not in pascal, but $(m/s)^2$, as well as viscosity, as we see later, is provided by kinematic viscosity. With this we introduce you to the first element inside the body of any OpenFOAM conditions file, the `dimensions`, which is documented [here](https://www.openfoam.com/documentation/user-guide/2-openfoam-cases/2-2-basic-inputoutput-file-format). It is an array with the exponents used for each of the basic SI units. From the pressure units provided before, we guess that the second element represent length $L$ in meters and the third time $T$ in second seconds. The others will be presented later or you can read the link with the documentation.\n",
    "\n",
    "The second element of this file is the `internalField`, which provides the initial condition of the quantity in the volume. Here we declare the pressure to be `uniform` and equal to zero. It can also be `nonuniform` and provided for each cell in the mesh individually. That means that you can re-use solutions of simpler problems (for instance, approximate the velocity/pressure field in steady state) to initialize more complex problems, such as multiphase or enabling chemistry. This will be discussed in a more advanced case.\n",
    "\n",
    "Finally we declare the `boundaryField`, which as it name says, provides the boundary conditions. All patches in de domain must be provided. In the case of pressure a common wall condition is `zeroGradient` meaning what its name say... and in the outlet `pressure-outlet-7` we provide a constant `fixedValue` a and `uniform` zero value reference pressure. Notice that when specifying inlets, it is common and physical to provide boundary conditions as zero gradient, meaning that the solver will find a compatible pressure with the imposed velocities.\n",
    "\n",
    "The fact that the case is 2D is imposed by the `empty` type applied to `frontAndBackPlanes`, what will remain the same in any other file.\n",
    "\n",
    "The last point to keep about syntax is that any dictionary entry must be closed by a semi-colon `;` and files are nested with braces in a `C`-looking style."
   ]
  },
  {
   "cell_type": "code",
   "execution_count": 5,
   "id": "3f146ed0-c900-44db-ae4c-2bcf252d44bf",
   "metadata": {},
   "outputs": [],
   "source": [
    "body_p = \"\"\"\\\n",
    "dimensions      [0 2 -2 0 0 0 0];\n",
    "\n",
    "internalField   uniform 0;\n",
    "\n",
    "boundaryField\n",
    "{\n",
    "    wall-4\n",
    "    {\n",
    "        type            zeroGradient;\n",
    "    }\n",
    "\n",
    "    velocity-inlet-5\n",
    "    {\n",
    "        type            zeroGradient;\n",
    "    }\n",
    "\n",
    "    velocity-inlet-6\n",
    "    {\n",
    "        type            zeroGradient;\n",
    "    }\n",
    "\n",
    "    pressure-outlet-7\n",
    "    {\n",
    "        type            fixedValue;\n",
    "        value           uniform 0;\n",
    "    }\n",
    "\n",
    "    wall-8\n",
    "    {\n",
    "        type            zeroGradient;\n",
    "    }\n",
    "\n",
    "    frontAndBackPlanes\n",
    "    {\n",
    "        type            empty;\n",
    "    }\n",
    "}\n",
    "\"\"\""
   ]
  },
  {
   "cell_type": "markdown",
   "id": "5347716b-3f0e-41b2-b2cf-f52448df107c",
   "metadata": {},
   "source": [
    "### Velocity conditions"
   ]
  },
  {
   "cell_type": "markdown",
   "id": "72ae79e0-9380-4429-af16-5b2808f351ab",
   "metadata": {},
   "source": [
    "For velocity `U` file we observe the change of class to `volVectorField`, as one should expect since velocity is fully described by its components."
   ]
  },
  {
   "cell_type": "code",
   "execution_count": 6,
   "id": "0aee6d6a-ead4-493c-a6c1-40d2cb8cc03e",
   "metadata": {},
   "outputs": [
    {
     "name": "stdout",
     "output_type": "stream",
     "text": [
      "/*--------------------------------*- C++ -*----------------------------------*\\\n",
      "| =========                 |                                                 |\n",
      "| \\\\      /  F ield         | OpenFOAM: The Open Source CFD Toolbox           |\n",
      "|  \\\\    /   O peration     | Version:  v2106                                 |\n",
      "|   \\\\  /    A nd           | Website:  www.openfoam.com                      |\n",
      "|    \\\\/     M anipulation  |                                                 |\n",
      "\\*---------------------------------------------------------------------------*/\n",
      "FoamFile\n",
      "{\n",
      "    version     2.0;\n",
      "    format      ascii;\n",
      "    class       volVectorField;\n",
      "    object      U;\n",
      "}\n",
      "// * * * * * * * * * * * * * * * * * * * * * * * * * * * * * * * * * * * * * //\n",
      "\n"
     ]
    }
   ],
   "source": [
    "print(fu.make_header(\"U\", None))"
   ]
  },
  {
   "cell_type": "markdown",
   "id": "3de4e1c1-3b9e-4c3e-b5d3-88f17cdf6279",
   "metadata": {},
   "source": [
    "The major progress from Euler's equation to Navier-Stokes' solved by `icoFoam` (and the vast majority of OpenFOAM solvers) is the treatment of viscosity, which in turn imply `noSlip` boundary conditions over walls. In the case of `internalField` and the velocity inlets notice that we declare the vector entries within parenthesis as $(V_x\\;V_y\\;V_z)$. Pressure outlet is modeled by a zero gradient velocity boundary condition. For now this is all regarding conditions to intialize the problem, more complex boundary conditions and non-constant profiles being discussed in the up-coming tutorials."
   ]
  },
  {
   "cell_type": "code",
   "execution_count": 7,
   "id": "c7af06c7-519c-4be2-b621-d291b55732d8",
   "metadata": {},
   "outputs": [],
   "source": [
    "body_U = \"\"\"\\\n",
    "dimensions      [0 1 -1 0 0 0 0];\n",
    "\n",
    "internalField   uniform (0 0 0);\n",
    "\n",
    "boundaryField\n",
    "{\n",
    "    wall-4\n",
    "    {\n",
    "        type            noSlip;\n",
    "    }\n",
    "\n",
    "    velocity-inlet-5\n",
    "    {\n",
    "        type            fixedValue;\n",
    "        value           uniform (1 0 0);\n",
    "    }\n",
    "\n",
    "    velocity-inlet-6\n",
    "    {\n",
    "        type            fixedValue;\n",
    "        value           uniform (0 3 0);\n",
    "    }\n",
    "\n",
    "    pressure-outlet-7\n",
    "    {\n",
    "        type            zeroGradient;\n",
    "    }\n",
    "\n",
    "    wall-8\n",
    "    {\n",
    "        type            noSlip;\n",
    "    }\n",
    "\n",
    "    frontAndBackPlanes\n",
    "    {\n",
    "        type            empty;\n",
    "    }\n",
    "}\n",
    "\"\"\""
   ]
  },
  {
   "cell_type": "markdown",
   "id": "d29cd8f0-d7c8-44d4-89e5-b3190ebe1fcf",
   "metadata": {},
   "source": [
    "## Constant files"
   ]
  },
  {
   "cell_type": "markdown",
   "id": "38f70885-254b-41eb-9227-a69d35c754bb",
   "metadata": {},
   "source": [
    "This being a very simple and laminar case, the only file required under `constant/` other then the mesh is `transportProperties`, which is of class `dictionary`. As it has been stated, here we make use of kinematic viscosity `nu` ($\\nu$) with units in SI. The current version of OpenFOAM no longer require units for this (although we disagree with this poor design choice), previously you had a `[ 0 2 -1 0 0 0 0 ]` in front of the value. To provide this quantity we simply declare its keyword and value, as provided below."
   ]
  },
  {
   "cell_type": "code",
   "execution_count": 8,
   "id": "8b95b206-8573-4779-b24f-47f80d1038e5",
   "metadata": {},
   "outputs": [
    {
     "name": "stdout",
     "output_type": "stream",
     "text": [
      "/*--------------------------------*- C++ -*----------------------------------*\\\n",
      "| =========                 |                                                 |\n",
      "| \\\\      /  F ield         | OpenFOAM: The Open Source CFD Toolbox           |\n",
      "|  \\\\    /   O peration     | Version:  v2106                                 |\n",
      "|   \\\\  /    A nd           | Website:  www.openfoam.com                      |\n",
      "|    \\\\/     M anipulation  |                                                 |\n",
      "\\*---------------------------------------------------------------------------*/\n",
      "FoamFile\n",
      "{\n",
      "    version     2.0;\n",
      "    format      ascii;\n",
      "    class       dictionary;\n",
      "    object      transportProperties;\n",
      "}\n",
      "// * * * * * * * * * * * * * * * * * * * * * * * * * * * * * * * * * * * * * //\n",
      "\n"
     ]
    }
   ],
   "source": [
    "print(fu.make_header(\"transportProperties\", None))"
   ]
  },
  {
   "cell_type": "code",
   "execution_count": 9,
   "id": "f8b710d1-af8b-46c9-bfd9-5ac2860af910",
   "metadata": {},
   "outputs": [],
   "source": [
    "body_transportProperties = \"nu              0.01;\""
   ]
  },
  {
   "cell_type": "markdown",
   "id": "4fa44075-7e34-496a-b9b2-d0c502f63bb8",
   "metadata": {},
   "source": [
    "## System files"
   ]
  },
  {
   "cell_type": "markdown",
   "id": "b12994c6-4651-4126-887c-3b21c0037671",
   "metadata": {},
   "source": [
    "A last group of files that an OpenFOAM simulation requires is those located under `system/`. These files are related to solution control, solver methods, convergence control, parallel decomposition, meshing, etc. Here we describe the files present in our case, more files will be added in the upcoming tutorials as applicable."
   ]
  },
  {
   "cell_type": "markdown",
   "id": "19d67f3a-d531-47ef-a84b-6cef4e369fbd",
   "metadata": {},
   "source": [
    "### Control dictionary"
   ]
  },
  {
   "cell_type": "markdown",
   "id": "2244d3e3-2111-4814-8450-5b57ae929c10",
   "metadata": {},
   "source": [
    "The `controlDict` dictionary deals with time data and input/output control and is documented [here](https://www.openfoam.com/documentation/user-guide/6-solving/6.1-time-and-data-inputoutput-control#x22-830006.1). It allows you to restart simulations from latest time if you had to stop running for some reason and eventually decrease time-step `deltaT` if convergence is not doing fine (requires `runTimeModifiable` set to `true` so the file is reinterpreted during a calculation). We can also link functions for post-processing *function objects* and other functionalities here.\n",
    "\n",
    "**TIP:** you can add comments to OpenFOAM files with `//` or add block comments with `/* comment */` as in C/C++. This is the file that I personally make use of comments quite often to keep track of changes I do in runtime or to remmember the meaning of some less used options. You can also keep not of available options, *e.g.* as a reminder that `writeFormat` can be `ascii` for plain text results or `binary`."
   ]
  },
  {
   "cell_type": "code",
   "execution_count": 10,
   "id": "cfa4cc74-3a27-48df-a6d4-cca6c1eb3678",
   "metadata": {},
   "outputs": [],
   "source": [
    "body_controlDict = \"\"\"\\\n",
    "application       icoFoam;\n",
    "\n",
    "startFrom         latestTime;\n",
    "\n",
    "startTime         0;\n",
    "\n",
    "stopAt            endTime;\n",
    "\n",
    "endTime           100;\n",
    "\n",
    "deltaT            0.05;\n",
    "\n",
    "writeControl      timeStep;\n",
    "\n",
    "writeInterval     200;\n",
    "\n",
    "purgeWrite        0;\n",
    "\n",
    "writeFormat       ascii;\n",
    "\n",
    "writePrecision    6;\n",
    "\n",
    "writeCompression  off;\n",
    "\n",
    "timeFormat        general;\n",
    "\n",
    "timePrecision     6;\n",
    "\n",
    "runTimeModifiable true;\n",
    "\"\"\""
   ]
  },
  {
   "cell_type": "markdown",
   "id": "3c75113f-a88e-4fe9-8fa8-804a266860e8",
   "metadata": {},
   "source": [
    "### Finite volume schemes"
   ]
  },
  {
   "cell_type": "markdown",
   "id": "4c39704f-7dc0-4162-8040-d3de7c74769f",
   "metadata": {},
   "source": [
    "Numerical schemes are provided in `fvSchemes` dictionary and all available options are provided [here](https://www.openfoam.com/documentation/user-guide/6-solving/6.2-numerical-schemes). The names of the sub-dictionaries are probably self explanatory, otherwise you can check the recommended documentation. It is considered a good practice to provide `default none;` where applicable so you explicitly provide all schemes being used in the solution. Some problems become unstable under a poor selection of numerical schemes and often domain knowledge is required to provide a proper configuration. In this case we follow the sample tutorial provided with OpenFOAM leaving more details for later."
   ]
  },
  {
   "cell_type": "code",
   "execution_count": 11,
   "id": "9ac29085-d997-4abe-b4d8-727d47839a4f",
   "metadata": {},
   "outputs": [],
   "source": [
    "body_fvSchemes = \"\"\"\\\n",
    "ddtSchemes\n",
    "{\n",
    "    default         Euler;\n",
    "}\n",
    "\n",
    "gradSchemes\n",
    "{\n",
    "    default         Gauss linear;\n",
    "}\n",
    "\n",
    "divSchemes\n",
    "{\n",
    "    default         none;\n",
    "    div(phi,U)      Gauss limitedLinearV 1;\n",
    "}\n",
    "\n",
    "laplacianSchemes\n",
    "{\n",
    "    default         Gauss linear corrected;\n",
    "}\n",
    "\n",
    "interpolationSchemes\n",
    "{\n",
    "    default         linear;\n",
    "}\n",
    "\n",
    "snGradSchemes\n",
    "{\n",
    "    default         corrected;\n",
    "}\n",
    "\"\"\""
   ]
  },
  {
   "cell_type": "markdown",
   "id": "20370dce-4f0a-4c72-9ef1-b3e878d6eb97",
   "metadata": {},
   "source": [
    "### Finite volume solution"
   ]
  },
  {
   "cell_type": "markdown",
   "id": "7f784a64-a747-4f94-a63e-398124c9e12c",
   "metadata": {},
   "source": [
    "The last common file in this tutorial is `fvSolution`, responsible by convergence and solver control. Its documentation is provided [here](https://www.openfoam.com/documentation/user-guide/6-solving/6.3-solution-and-algorithm-control). Notice in `solvers` sub-dictionary the presence of the variables we are solving in the problem and associated solvers/preconditioners linked to them. Another sub-dictionary `PISO` provides the control for the underlining algorithm used by `icoFoam` to integrate the problem. Depending on the solver we might have `relaxationFactors` and `SIMPLE` parameters in this file."
   ]
  },
  {
   "cell_type": "code",
   "execution_count": 12,
   "id": "4d27e251-24cc-4514-bce3-738571cfc1b9",
   "metadata": {},
   "outputs": [],
   "source": [
    "body_fvSolution = \"\"\"\\\n",
    "solvers\n",
    "{\n",
    "    p\n",
    "    {\n",
    "        solver          PCG;\n",
    "        preconditioner  DIC;\n",
    "        tolerance       1e-06;\n",
    "        relTol          0.05;\n",
    "    }\n",
    "\n",
    "    pFinal\n",
    "    {\n",
    "        $p;\n",
    "        relTol          0;\n",
    "    }\n",
    "\n",
    "    U\n",
    "    {\n",
    "        solver          smoothSolver;\n",
    "        smoother        symGaussSeidel;\n",
    "        tolerance       1e-05;\n",
    "        relTol          0;\n",
    "    }\n",
    "}\n",
    "\n",
    "PISO\n",
    "{\n",
    "    nCorrectors     2;\n",
    "    nNonOrthogonalCorrectors 2;\n",
    "}\n",
    "\"\"\""
   ]
  },
  {
   "cell_type": "markdown",
   "id": "6190eb61-6a89-4075-b970-65a82feeceb3",
   "metadata": {},
   "source": [
    "### Fluent mesh conversion"
   ]
  },
  {
   "cell_type": "markdown",
   "id": "d1b7e3e9-e547-45a2-b02c-e1b517a7b075",
   "metadata": {},
   "source": [
    "This dictionary is specific to Fluent file conversion, we propose you look-up the documentation to get used with OpenFOAM by yourself."
   ]
  },
  {
   "cell_type": "code",
   "execution_count": 13,
   "id": "9e5df148-5969-418f-a7af-8ed142dcf858",
   "metadata": {},
   "outputs": [],
   "source": [
    "body_foamDataToFluentDict = \"\"\"\\\n",
    "p               1;\n",
    "\n",
    "U               2;\n",
    "\n",
    "T               3;\n",
    "\n",
    "h               4;\n",
    "\n",
    "k               5;\n",
    "\n",
    "epsilon         6;\n",
    "\n",
    "alpha1          150;\n",
    "\"\"\""
   ]
  },
  {
   "cell_type": "markdown",
   "id": "38d9f52d-15a7-4c5c-8053-ade4b7601879",
   "metadata": {},
   "source": [
    "## Write case files"
   ]
  },
  {
   "cell_type": "markdown",
   "id": "b58e77bc-3fe2-472f-9a08-92afb6115ff7",
   "metadata": {},
   "source": [
    "This is an extremely simple simulation case so we have decided to write all the files here in the end. This was done to remind you once again about the minimum set of directories and where each configuration file must go. Adding files to the `case` is done through `fu.make_file`, which will take at least the case path, directory in the case, file name, and the string with case data as arguments. More complex uses of this function will appear later. So dump our case to file and we are prepared to run it."
   ]
  },
  {
   "cell_type": "code",
   "execution_count": 14,
   "id": "aa6f9f3e-8412-41f1-9c99-93645ab881c0",
   "metadata": {},
   "outputs": [],
   "source": [
    "fu.make_file(case, \"0\",        \"p\",                     body_p)\n",
    "fu.make_file(case, \"0\",        \"U\",                     body_U)\n",
    "fu.make_file(case, \"constant\", \"transportProperties\",   body_transportProperties)\n",
    "fu.make_file(case, \"system\",   \"controlDict\",           body_controlDict)\n",
    "fu.make_file(case, \"system\",   \"fvSchemes\",             body_fvSchemes)\n",
    "fu.make_file(case, \"system\",   \"fvSolution\",            body_fvSolution)\n",
    "fu.make_file(case, \"system\",   \"foamDataToFluentDict\",  body_foamDataToFluentDict)"
   ]
  },
  {
   "cell_type": "markdown",
   "id": "df5ac068-c0a1-4cb4-bc03-5452a87086da",
   "metadata": {},
   "source": [
    "## Run simulation"
   ]
  },
  {
   "cell_type": "markdown",
   "id": "2cb60714-8a3b-4e38-95ae-65dbc698b273",
   "metadata": {},
   "source": [
    "So far we have only discussed about the configurations for the case, but not about how to *actually* use OpenFOAM. Now it is time to do the dirty work. We did not provide a mesh or `blockMeshDict` because this case is based on an external mesh file. We copy this from the `FOAM_TUTORIALS` directory and perform the conversion to a format OpenFOAM solvers are capable to interpret. Since the provided mesh was originally conceived to be used with Ansys Fluent &reg; we do make use of `fluentMeshToFoam`.\n",
    "\n",
    "For running commands we can use `fu.run_cmd`, which takes the case path (the working directory), a log-file name, and the command to run as arguments.\n",
    "\n",
    "**TIP:** most OpenFOAM programs support a `-help` flag (notice the single hyphen, sometimes Linux users get confused by this convention). Try running `fluentMeshToFoam -help` to check the available options by yourself. Do the same with `icoFoam` or any other solver and supporting tool."
   ]
  },
  {
   "cell_type": "code",
   "execution_count": 15,
   "id": "9edaa477-1220-4ef0-9754-94f718f6a9ee",
   "metadata": {},
   "outputs": [],
   "source": [
    "source = \"/usr/lib/openfoam/openfoam2112/etc/bashrc\""
   ]
  },
  {
   "cell_type": "code",
   "execution_count": 16,
   "id": "47779e09-3de8-42da-948d-52d58045df3c",
   "metadata": {},
   "outputs": [
    {
     "name": "stdout",
     "output_type": "stream",
     "text": [
      "Running from cases/foam-day-01-tutorial-01-elbow-2d\n",
      "Running from cases/foam-day-01-tutorial-01-elbow-2d\n"
     ]
    }
   ],
   "source": [
    "cfd.run_cmd(case, \"log.tmp\", f\". {source} && cp ${{FOAM_TUTORIALS}}/resources/geometry/elbow.msh .\")\n",
    "cfd.run_cmd(case, \"log.fluentMeshToFoam\", f\". {source} && fluentMeshToFoam elbow.msh\")"
   ]
  },
  {
   "cell_type": "markdown",
   "id": "334156c3-5559-435c-85ca-c80a2eb4c680",
   "metadata": {},
   "source": [
    "Now you should have a `constant/polyMesh/` directory in the case. It is important to know about the `boundary` file within `polyMesh` since often we may need to modify patches (named regions of our boundaries) to be able to apply certain boundary conditions to it, such as symmetry, periodic, etc. With that we are ready to launch the simulation. Notice the ampersand `&` in the end of the command so that we can keep editing our notebook, *e.g* watching the `log.icoFoam` file and eventually fix controls on runtime (this case will run in seconds, you won't have time to do that)."
   ]
  },
  {
   "cell_type": "code",
   "execution_count": 17,
   "id": "12d9b40c-c42a-4cc2-b81f-df38401c0bc8",
   "metadata": {},
   "outputs": [
    {
     "name": "stdout",
     "output_type": "stream",
     "text": [
      "Running from cases/foam-day-01-tutorial-01-elbow-2d\n"
     ]
    }
   ],
   "source": [
    "cfd.run_cmd(case, \"log.icoFoam\", f\". {source} && icoFoam\")"
   ]
  },
  {
   "cell_type": "markdown",
   "id": "884f595c-2027-4cb8-b456-b3c1505484d7",
   "metadata": {},
   "source": [
    "OpenFOAM also provides tools to allow exporting results to other software. You could try the following to get back to Ansys Fluent &reg;."
   ]
  },
  {
   "cell_type": "code",
   "execution_count": 18,
   "id": "cfae07ba-4e41-4166-8f2b-fd512d4cb387",
   "metadata": {},
   "outputs": [
    {
     "name": "stdout",
     "output_type": "stream",
     "text": [
      "Running from cases/foam-day-01-tutorial-01-elbow-2d\n",
      "Running from cases/foam-day-01-tutorial-01-elbow-2d\n"
     ]
    }
   ],
   "source": [
    "cfd.run_cmd(case, \"log.foamMeshToFluent\", f\". {source} && foamMeshToFluent\")\n",
    "cfd.run_cmd(case, \"log.foamDataToFluent\", f\". {source} && foamDataToFluent\")"
   ]
  },
  {
   "cell_type": "markdown",
   "id": "16fce94d-9492-42cf-bf46-a3d1fc6ccfd7",
   "metadata": {},
   "source": [
    "After completing you can run `paraFoam` from terminal for post-processing. For the final time of this simulation we get the following velocity magnitude profile. Did you get something similar? Don't know how to use `paraview`? Try [this video series](https://www.youtube.com/playlist?list=PLvkU6i2iQ2fpcVsqaKXJT5Wjb9_ttRLK-).\n",
    "\n",
    "<center>\n",
    "    <img src=\"media/day-01-tutorial-01-elbow-2d-U-final.png\" width=\"400px\" />\n",
    "</center>"
   ]
  },
  {
   "cell_type": "markdown",
   "id": "c733aec0-cd34-4f8c-a3e5-5897b384e23a",
   "metadata": {},
   "source": [
    "## Additional learning\n",
    "\n",
    "- Check the use of `foamToVTK` to use plain `paraview` instead of `paraFoam`.\n",
    "- Explore alternative meshes with different refinement for this case as provided [here](https://github.com/jnmlujnmlu/OpenFOAMTeaching/tree/master/JozsefNagy).\n",
    "- Compare the solutions and start studying mesh convergence as proposed in the [original tutorial](https://www.cfd.at/downloads/FoamTutorial_1-ExampleOne.pdf)."
   ]
  },
  {
   "cell_type": "markdown",
   "id": "ca5213e7-3f92-4a80-b8ad-a14a26e4c045",
   "metadata": {},
   "source": [
    "Hope you have enjoyed and keep watching for more tutorials!"
   ]
  }
 ],
 "metadata": {
  "kernelspec": {
   "display_name": "Python 3 (ipykernel)",
   "language": "python",
   "name": "python3"
  },
  "language_info": {
   "codemirror_mode": {
    "name": "ipython",
    "version": 3
   },
   "file_extension": ".py",
   "mimetype": "text/x-python",
   "name": "python",
   "nbconvert_exporter": "python",
   "pygments_lexer": "ipython3",
   "version": "3.9.9"
  }
 },
 "nbformat": 4,
 "nbformat_minor": 5
}
