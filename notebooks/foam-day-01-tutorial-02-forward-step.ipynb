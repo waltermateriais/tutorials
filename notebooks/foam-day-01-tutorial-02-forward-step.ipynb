{
 "cells": [
  {
   "cell_type": "code",
   "execution_count": null,
   "id": "e49ffd9f-b4cb-4a9a-b338-86ea7c64cb30",
   "metadata": {},
   "outputs": [],
   "source": []
  },
  {
   "cell_type": "code",
   "execution_count": null,
   "id": "6567ec3c-205b-4990-b4d7-572a939c59e6",
   "metadata": {},
   "outputs": [],
   "source": [
    "%load_ext autoreload\n",
    "%autoreload 2"
   ]
  },
  {
   "cell_type": "code",
   "execution_count": null,
   "id": "91fa7a38-7d99-4852-ab54-a3d5b834fb66",
   "metadata": {},
   "outputs": [],
   "source": [
    "import cfdtoolbox.foam as fu"
   ]
  },
  {
   "cell_type": "markdown",
   "id": "41062f00-109a-409a-8998-e28143bd57ff",
   "metadata": {},
   "source": [
    "- [Original tutorial](https://www.cfd.at/downloads/FoamTutorial_2-ExampleTwo.pdf)\n",
    "- [Video tutorial (Jozséf Nagy)](https://www.youtube.com/watch?v=Ds0eK1wXMks)"
   ]
  },
  {
   "cell_type": "code",
   "execution_count": null,
   "id": "4eb3ec5e-b47c-444d-98c5-15b0767dadd9",
   "metadata": {},
   "outputs": [],
   "source": []
  }
 ],
 "metadata": {
  "kernelspec": {
   "display_name": "Python 3 (ipykernel)",
   "language": "python",
   "name": "python3"
  },
  "language_info": {
   "codemirror_mode": {
    "name": "ipython",
    "version": 3
   },
   "file_extension": ".py",
   "mimetype": "text/x-python",
   "name": "python",
   "nbconvert_exporter": "python",
   "pygments_lexer": "ipython3",
   "version": "3.8.10"
  }
 },
 "nbformat": 4,
 "nbformat_minor": 5
}
