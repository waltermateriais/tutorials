{
 "cells": [
  {
   "cell_type": "markdown",
   "id": "7b6f8742-bc17-4674-9d6a-6dfc2ad90204",
   "metadata": {},
   "source": [
    "# Day 16 - Tutorial 01 - Pyrolysis of hydrocarbons\n",
    "\n",
    "In this tutorial we validate a chemical kinetics mechanism established in this [thesis](http://docnum.univ-lorraine.fr/public/DDOC_T_2017_0158_DAL_MAZ_SILVA.pdf) to be used next in an actual CFD computation. That said, we are benchmarking solver `chemFoam` against chemical kinetics package [Cantera](https://cantera.org/). We import everything on top as usual."
   ]
  },
  {
   "cell_type": "code",
   "execution_count": 1,
   "id": "a6c7c46b-0383-4593-bc6e-6bf6ff178120",
   "metadata": {},
   "outputs": [],
   "source": [
    "%load_ext autoreload\n",
    "%autoreload 2"
   ]
  },
  {
   "cell_type": "code",
   "execution_count": 2,
   "id": "54c9ceaf-c752-454d-8f82-936059037ffb",
   "metadata": {},
   "outputs": [],
   "source": [
    "import shutil\n",
    "import pandas as pd\n",
    "import cantera as ct\n",
    "import cfdtoolbox.foam as fu\n",
    "\n",
    "ct.suppress_thermo_warnings()"
   ]
  },
  {
   "cell_type": "markdown",
   "id": "5008a42a-f37c-4f26-91e9-b40fd951bacc",
   "metadata": {},
   "source": [
    "There are two cases to be run, a first with original mechanism (243 species) by [Norinaga, 2009] - see thesis for detailed references - and the one obtained in the reference thesis through extensive DRG skeletal combinations. Next we declare the cases, associated mechanisms (provided in both OpenFOAM and Cantera formats) and thermodynamic properties (in OpenFOAM this is a separate file from the mechanism itself).\n",
    "\n",
    "**TODO:** remplace Cantera XML files by newer format YAML."
   ]
  },
  {
   "cell_type": "code",
   "execution_count": 3,
   "id": "3842a38d-c00b-49e6-a46c-217fa98738a8",
   "metadata": {},
   "outputs": [],
   "source": [
    "cases = [\"cases/foam-day-16-tutorial-01-pyrolysis-norinaga-2009\",\n",
    "         \"cases/foam-day-16-tutorial-01-pyrolysis-dalmazsi-2017\"]\n",
    "case_ther_of = [\"kinetics/OF-hydrocarbon-norinaga-2009-ther.foam\",\n",
    "                \"kinetics/OF-hydrocarbon-dalmazsi-2017-ther.foam\"]\n",
    "case_mech_of = [\"kinetics/OF-hydrocarbon-norinaga-2009-mech.foam\",\n",
    "                \"kinetics/OF-hydrocarbon-dalmazsi-2017-mech.foam\"]\n",
    "case_mech_ct = [\"kinetics/CT-hydrocarbon-norinaga-2009-mech.xml\",\n",
    "                \"kinetics/CT-hydrocarbon-dalmazsi-2017-mech.xml\"]"
   ]
  },
  {
   "cell_type": "markdown",
   "id": "a3c3247e-2611-4cc6-93de-01c9af7e99f2",
   "metadata": {},
   "source": [
    "## Initial conditions"
   ]
  },
  {
   "cell_type": "markdown",
   "id": "f597acec-d815-40e0-92dd-a2cb2e9a2143",
   "metadata": {},
   "source": [
    "Next we compute the reference initial conditions in required units. Since acetylene is stored in liquid acetone, pollution of the gas is expected are discussed by [Noringa, 2009]. Chemical composition is provided in mole fractions, a more convenient quantity when dealing with low pressure gas phases."
   ]
  },
  {
   "cell_type": "code",
   "execution_count": 4,
   "id": "64ba4896-48b4-4814-bab7-7cc8f6558c27",
   "metadata": {},
   "outputs": [
    {
     "data": {
      "text/html": [
       "<div>\n",
       "<style scoped>\n",
       "    .dataframe tbody tr th:only-of-type {\n",
       "        vertical-align: middle;\n",
       "    }\n",
       "\n",
       "    .dataframe tbody tr th {\n",
       "        vertical-align: top;\n",
       "    }\n",
       "\n",
       "    .dataframe thead th {\n",
       "        text-align: right;\n",
       "    }\n",
       "</style>\n",
       "<table border=\"1\" class=\"dataframe\">\n",
       "  <thead>\n",
       "    <tr style=\"text-align: right;\">\n",
       "      <th></th>\n",
       "      <th>N2</th>\n",
       "      <th>C2H2</th>\n",
       "      <th>CH3COCH3</th>\n",
       "      <th>CH4</th>\n",
       "    </tr>\n",
       "  </thead>\n",
       "  <tbody>\n",
       "    <tr>\n",
       "      <th>0</th>\n",
       "      <td>0.64</td>\n",
       "      <td>0.3528</td>\n",
       "      <td>0.00648</td>\n",
       "      <td>0.00072</td>\n",
       "    </tr>\n",
       "  </tbody>\n",
       "</table>\n",
       "</div>"
      ],
      "text/plain": [
       "     N2    C2H2  CH3COCH3      CH4\n",
       "0  0.64  0.3528   0.00648  0.00072"
      ]
     },
     "execution_count": 4,
     "metadata": {},
     "output_type": "execute_result"
    }
   ],
   "source": [
    "T = 900.0 + 273.15\n",
    "P = 5000.0\n",
    "\n",
    "C = 0.36\n",
    "X = {\"N2\":       0.64,\n",
    "     \"C2H2\":     0.980 * C,\n",
    "     \"CH3COCH3\": 0.018 * C,\n",
    "     \"CH4\":      0.002 * C}\n",
    "\n",
    "pd.DataFrame.from_dict([X])"
   ]
  },
  {
   "cell_type": "markdown",
   "id": "871a85b4-47e1-43dc-9d83-d1382fc71a34",
   "metadata": {},
   "source": [
    "## System dictionaries"
   ]
  },
  {
   "cell_type": "markdown",
   "id": "cb8002ab-44ff-4959-8f27-ff50342b88c7",
   "metadata": {},
   "source": [
    "System dictionaries for `chemFoam` are quite simple. A traditional `controlDict` is expected and the other files are pretty basic, as we see below. Here we set the system to integrate over one physical second and store only the final state."
   ]
  },
  {
   "cell_type": "code",
   "execution_count": 5,
   "id": "6f99882f-056a-4487-af48-e2df5e1c767c",
   "metadata": {},
   "outputs": [],
   "source": [
    "body_controlDict = \"\"\"\\\n",
    "application       chemFoam;\n",
    "\n",
    "startFrom         startTime;\n",
    "\n",
    "startTime         0;\n",
    "\n",
    "stopAt            endTime;\n",
    "\n",
    "endTime           1.00;\n",
    "\n",
    "deltaT            0.10;\n",
    "\n",
    "maxDeltaT         0.01;\n",
    "\n",
    "adjustTimeStep    on;\n",
    "\n",
    "writeControl      adjustableRunTime;\n",
    "\n",
    "writeInterval     1.0;\n",
    "\n",
    "purgeWrite        0;\n",
    "\n",
    "writeFormat       ascii;\n",
    "\n",
    "writeCompression  off;\n",
    "\n",
    "timeFormat        fixed;\n",
    "\n",
    "timePrecision     6;\n",
    "\n",
    "runTimeModifiable yes;\n",
    "\n",
    "DebugSwitches\n",
    "{\n",
    "    SolverPerformance   0;\n",
    "}\n",
    "\"\"\""
   ]
  },
  {
   "cell_type": "markdown",
   "id": "d30ef327-bc4e-49cd-b3ea-a27cf910c155",
   "metadata": {},
   "source": [
    "The only definition in `fvSchemes` regards the time-derivative. Explicit solver `Euler` is expected here."
   ]
  },
  {
   "cell_type": "code",
   "execution_count": 6,
   "id": "14de1525-a36a-4d54-a8b6-09a70bdcb46b",
   "metadata": {},
   "outputs": [],
   "source": [
    "body_fvSchemes = \"\"\"\\\n",
    "ddtSchemes\n",
    "{\n",
    "    default         Euler;\n",
    "}\n",
    "\n",
    "gradSchemes\n",
    "{}\n",
    "\n",
    "divSchemes\n",
    "{}\n",
    "\n",
    "laplacianSchemes\n",
    "{}\n",
    "\"\"\""
   ]
  },
  {
   "cell_type": "markdown",
   "id": "9bb09c56-29cb-4602-bc22-4183ff28d0da",
   "metadata": {},
   "source": [
    "In the case of `fvSolution` only the integrated species content `Yi` is required."
   ]
  },
  {
   "cell_type": "code",
   "execution_count": 7,
   "id": "5f7a24cc-8363-4407-96ac-8ec5680d7efb",
   "metadata": {},
   "outputs": [],
   "source": [
    "body_fvSolution = \"\"\"\\\n",
    "solvers\n",
    "{\n",
    "    Yi\n",
    "    {\n",
    "        solver          PBiCGStab;\n",
    "        preconditioner  DILU;\n",
    "        tolerance       1.0e-12;\n",
    "        relTol          0;\n",
    "    }\n",
    "}\n",
    "\"\"\""
   ]
  },
  {
   "cell_type": "markdown",
   "id": "960216e9-55b3-4410-ad5d-304f25a025aa",
   "metadata": {},
   "source": [
    "## Constants"
   ]
  },
  {
   "cell_type": "markdown",
   "id": "6d6d2826-b8b1-4b16-8f31-989555a95e44",
   "metadata": {},
   "source": [
    "In terms of `constants/` directory, the solver has specific requirements. We start with `chemistryProperties`, where ODE problem parameters are provided. The most important feature here is the use of `seulex` integrator, this being reported to provide the best treatment of stiff systems from chemical kinetics."
   ]
  },
  {
   "cell_type": "code",
   "execution_count": 8,
   "id": "f4241b6f-ecab-4d23-840c-365d6a673606",
   "metadata": {},
   "outputs": [],
   "source": [
    "body_chemistryProperties = \"\"\"\\\n",
    "chemistryType\n",
    "{\n",
    "    solver                 ode;\n",
    "}\n",
    "\n",
    "chemistry                  on;\n",
    "\n",
    "initialChemicalTimeStep    1.0e-06;\n",
    "\n",
    "EulerImplicitCoeffs\n",
    "{\n",
    "    cTauChem               1;\n",
    "    equilibriumRateLimiter off;\n",
    "}\n",
    "\n",
    "odeCoeffs\n",
    "{\n",
    "    solver                 seulex;\n",
    "    absTol                 1.0e-15;\n",
    "    relTol                 1.0e-03;\n",
    "}\n",
    "\"\"\""
   ]
  },
  {
   "cell_type": "markdown",
   "id": "bfb42de9-1fe3-4b09-98ec-ea12909af40a",
   "metadata": {},
   "source": [
    "In `initialConditions` we provide the values for generation of `0/` directory. It is a particularity of `chemFoam` that it generates that directory by processing this dictionary. Here we define the reactor to be held at constant pressure and state that composition is provided in mole fractions."
   ]
  },
  {
   "cell_type": "code",
   "execution_count": 9,
   "id": "e04118a8-e20d-49c8-be3f-24284d969d5a",
   "metadata": {},
   "outputs": [],
   "source": [
    "body_initialConditions = \"\"\"\\\n",
    "constantProperty    pressure;\n",
    "\n",
    "fractionBasis       mole;\n",
    "\n",
    "fractions\n",
    "{{\n",
    "    N2              {0:.6f};\n",
    "    C2H2            {1:.6f};\n",
    "    CH3COCH3        {2:.6f};\n",
    "    CH4             {3:.6f};\n",
    "}}\n",
    "\n",
    "p                   {4:.1f};\n",
    "\n",
    "T                   {5:.2f};\n",
    "\"\"\".format(*X.values(), P, T)"
   ]
  },
  {
   "cell_type": "markdown",
   "id": "931d604d-258b-4b3f-b0b3-c46141979808",
   "metadata": {},
   "source": [
    "The case is closed by the `thermophysicalProperties`. A `chemistryReader` is provided to be able to interpret mechanism files in the good format. It is recommended to perform conversion for Chemkin II format and check files for any errors, giving preference to OpenFOAM own format here. The use of `<constant>` means the files are to be stored in the `constant/` case directory. Default names are kept here and before running we copy the files to the good location respecting this names."
   ]
  },
  {
   "cell_type": "code",
   "execution_count": 10,
   "id": "32a71764-3c0b-4443-8c9f-7c0f238d6917",
   "metadata": {},
   "outputs": [],
   "source": [
    "body_thermophysicalProperties = \"\"\"\\\n",
    "thermoType\n",
    "{\n",
    "    type                hePsiThermo;\n",
    "    mixture             reactingMixture;\n",
    "    transport           sutherland;\n",
    "    thermo              janaf;\n",
    "    energy              sensibleEnthalpy;\n",
    "    equationOfState     perfectGas;\n",
    "    specie              specie;\n",
    "}\n",
    "\n",
    "chemistryReader         foamChemistryReader;\n",
    "foamChemistryFile       \"<constant>/reactions\";\n",
    "foamChemistryThermoFile \"<constant>/thermo\";\n",
    "\"\"\""
   ]
  },
  {
   "cell_type": "markdown",
   "id": "4ace800e-7081-4989-b92d-89705d157911",
   "metadata": {},
   "source": [
    "## Run case"
   ]
  },
  {
   "cell_type": "markdown",
   "id": "333bfa7a-1d42-4a8a-ac87-19d71f7b46d5",
   "metadata": {},
   "source": [
    "Both cases are built and run in the following loop."
   ]
  },
  {
   "cell_type": "code",
   "execution_count": 11,
   "id": "ee3c06ff-3703-4589-8b3b-2af39365b40a",
   "metadata": {},
   "outputs": [
    {
     "name": "stdout",
     "output_type": "stream",
     "text": [
      "Running from cases/foam-day-16-tutorial-01-pyrolysis-norinaga-2009\n",
      "Running from cases/foam-day-16-tutorial-01-pyrolysis-dalmazsi-2017\n"
     ]
    }
   ],
   "source": [
    "source = \"/usr/lib/openfoam/openfoam2106/etc/bashrc\"\n",
    "\n",
    "for k, case in enumerate(cases):\n",
    "    fu.make_file(case, \"constant\", \"chemistryProperties\",\n",
    "                 body_chemistryProperties)\n",
    "    fu.make_file(case, \"constant\", \"initialConditions\",\n",
    "                 body_initialConditions)\n",
    "    fu.make_file(case, \"constant\", \"thermophysicalProperties\",\n",
    "                 body_thermophysicalProperties)\n",
    "    fu.make_file(case, \"system\",   \"controlDict\",\n",
    "                 body_controlDict)\n",
    "    fu.make_file(case, \"system\",   \"fvSchemes\",\n",
    "                 body_fvSchemes)\n",
    "    fu.make_file(case, \"system\",   \"fvSolution\",\n",
    "                 body_fvSolution)\n",
    "    \n",
    "    shutil.copy(case_mech_of[k], f\"{case}/constant/reactions\")\n",
    "    shutil.copy(case_ther_of[k], f\"{case}/constant/thermo\")\n",
    "\n",
    "    fu.run_cmd(case, \"log.chemFoam\", f\". {source} && chemFoam\")"
   ]
  },
  {
   "cell_type": "markdown",
   "id": "fd828a03-ab97-4f36-892b-0987d58ce660",
   "metadata": {},
   "source": [
    "## Validation"
   ]
  },
  {
   "cell_type": "markdown",
   "id": "2894b4ef-62a8-4184-9ff9-8782d1f3e05c",
   "metadata": {},
   "source": [
    "To validate the case we use Cantera with similar simulation conditions. Function `cantera_baseline` implements the integration of the provided mechanisms under constant pressure and reports back the final composition in mass fractions. Here mass fractions are used because this is the only output format of OpenFOAM and will allow us to directly compare values next."
   ]
  },
  {
   "cell_type": "code",
   "execution_count": 12,
   "id": "058029a3-4bc0-4b3b-9f2b-2aa34122359a",
   "metadata": {},
   "outputs": [],
   "source": [
    "def cantera_baseline(mechanism, T, P, X, tend=1.0, phase=\"gas\"):\n",
    "    \"\"\" Compute solution for comparison with OpenFOAM. \"\"\"\n",
    "    gas = ct.Solution(mechanism)\n",
    "    gas.TPX = T, P, X\n",
    "\n",
    "    reactor = ct.IdealGasConstPressureReactor(energy=\"on\")\n",
    "    reactor.insert(gas)\n",
    "\n",
    "    net = ct.ReactorNet([reactor])\n",
    "    net.advance(tend)\n",
    "    net.atol = 1.0e-15\n",
    "    net.rtol = 1.0e-01\n",
    "    \n",
    "    Y_new = gas.mass_fraction_dict()\n",
    "    Y_new = {f\"Y_{k}\": x for k, x in Y_new.items() if k in X}\n",
    "    return {\"T\": reactor.thermo.T, \"P\": reactor.thermo.P, **Y_new}"
   ]
  },
  {
   "cell_type": "markdown",
   "id": "8c1fb22d-9f70-4cfe-a85a-77b96e5a670e",
   "metadata": {},
   "source": [
    "Below we run both cases and compare values from the solvers, showing good aggreement between temperature and chemical composition for major species."
   ]
  },
  {
   "cell_type": "code",
   "execution_count": 13,
   "id": "275a5122-c404-4aa5-b987-38d284517c8f",
   "metadata": {},
   "outputs": [
    {
     "name": "stdout",
     "output_type": "stream",
     "text": [
      "Cantera:\n",
      "              T       P    Y_C2H2    Y_CH3COCH3     Y_CH4      Y_N2\n",
      "0  1299.720452  5000.0  0.240127  6.989481e-12  0.001216  0.651889\n",
      "\n",
      "OpenFOAM:\n",
      "Time = 1.000000\n",
      "\n",
      "Qdot = 75587, T = 1301.02, p = 5000, C2H2 = 0.239335\n",
      "ExecutionTime = 5.84 s  ClockTime = 6 s\n",
      "\n",
      "Number of steps = 265\n",
      "End\n",
      "\n",
      "CH4\n",
      "internalField   uniform 0.00121622;\n",
      "CPU times: user 11.7 s, sys: 11.4 s, total: 23.2 s\n",
      "Wall time: 3.41 s\n"
     ]
    }
   ],
   "source": [
    "%%time\n",
    "X_new = cantera_baseline(case_mech_ct[0], T, P, X)\n",
    "print(\"Cantera:\\n\", pd.DataFrame.from_dict([X_new]))\n",
    "\n",
    "print(\"\\nOpenFOAM:\")\n",
    "!tail -8 cases/foam-day-16-tutorial-01-pyrolysis-norinaga-2009/log.chemFoam\n",
    "\n",
    "print(\"CH4\")\n",
    "!cat cases/foam-day-16-tutorial-01-pyrolysis-norinaga-2009/1.000000/CH4 | grep internalField"
   ]
  },
  {
   "cell_type": "code",
   "execution_count": 14,
   "id": "774c98f1-f234-42e3-a13e-fafc83f5d3f8",
   "metadata": {},
   "outputs": [
    {
     "name": "stdout",
     "output_type": "stream",
     "text": [
      "Cantera:\n",
      "              T       P    Y_C2H2    Y_CH3COCH3    Y_CH4      Y_N2\n",
      "0  1298.819974  5000.0  0.242607  7.582015e-12  0.00141  0.651889\n",
      "\n",
      "OpenFOAM:\n",
      "Time = 1.000000\n",
      "\n",
      "Qdot = 53036.8, T = 1299.9, p = 5000, C2H2 = 0.24196\n",
      "ExecutionTime = 0.23 s  ClockTime = 0 s\n",
      "\n",
      "Number of steps = 217\n",
      "End\n",
      "\n",
      "CH4\n",
      "internalField   uniform 0.00141113;\n",
      "CPU times: user 425 ms, sys: 260 ms, total: 685 ms\n",
      "Wall time: 398 ms\n"
     ]
    }
   ],
   "source": [
    "%%time\n",
    "X_new = cantera_baseline(case_mech_ct[1], T, P, X)\n",
    "print(\"Cantera:\\n\", pd.DataFrame.from_dict([X_new]))\n",
    "\n",
    "print(\"\\nOpenFOAM:\")\n",
    "!tail -8 cases/foam-day-16-tutorial-01-pyrolysis-dalmazsi-2017/log.chemFoam\n",
    "\n",
    "print(\"CH4\")\n",
    "!cat cases/foam-day-16-tutorial-01-pyrolysis-dalmazsi-2017/1.000000/CH4 | grep internalField"
   ]
  },
  {
   "cell_type": "markdown",
   "id": "d1429644-64aa-4b16-9907-de869f2abe36",
   "metadata": {},
   "source": [
    "With these results in hands we can now use the mechanisms to reproduce the reference thesis simulations in higher dimension.\n",
    "\n",
    "Hope you have enjoyed, see you next time!"
   ]
  }
 ],
 "metadata": {
  "kernelspec": {
   "display_name": "Python 3 (ipykernel)",
   "language": "python",
   "name": "python3"
  },
  "language_info": {
   "codemirror_mode": {
    "name": "ipython",
    "version": 3
   },
   "file_extension": ".py",
   "mimetype": "text/x-python",
   "name": "python",
   "nbconvert_exporter": "python",
   "pygments_lexer": "ipython3",
   "version": "3.8.10"
  }
 },
 "nbformat": 4,
 "nbformat_minor": 5
}
