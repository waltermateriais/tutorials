{
 "cells": [
  {
   "cell_type": "markdown",
   "id": "7e0cc6b3-09f5-48d6-8d16-fff69f01dd19",
   "metadata": {},
   "source": [
    "# Day 16 - Tutorial 02 - Pyrolysis of hydrocarbons\n",
    "\n",
    "In the previous tutorial we validated the conversion from [Cantera](https://cantera.org/) to OpenFOAM of a chemical kinetics mechanism established in this [thesis](http://docnum.univ-lorraine.fr/public/DDOC_T_2017_0158_DAL_MAZ_SILVA.pdf). Here we make use of that mechanism to simulate the behavior of acetylene pyrolysis under low pressure conditions relevant to vacuum carburizing of steel. More specifically we will reproduce conditions provided in table 5.9 of the document and simulations will be carried out with the skeletal DRG mechanism only.\n",
    "\n",
    "<center><img src=\"media/foam-day-16-tutorial-02-pyrolysis-table.png\" width=\"500px!\"/></center>\n",
    "\n",
    "We import everything on top as usual, usage of packages being discussed as they come."
   ]
  },
  {
   "cell_type": "code",
   "execution_count": 1,
   "id": "a6c7c46b-0383-4593-bc6e-6bf6ff178120",
   "metadata": {},
   "outputs": [],
   "source": [
    "%load_ext autoreload\n",
    "%autoreload 2"
   ]
  },
  {
   "cell_type": "code",
   "execution_count": 2,
   "id": "54c9ceaf-c752-454d-8f82-936059037ffb",
   "metadata": {},
   "outputs": [],
   "source": [
    "from pathlib import Path\n",
    "from textwrap import dedent\n",
    "from scipy.optimize import curve_fit\n",
    "from skimage.io import imsave\n",
    "from jinja2 import Template\n",
    "import re\n",
    "import shutil\n",
    "import warnings\n",
    "import numpy as np\n",
    "import pandas as pd\n",
    "import pyvista as pv\n",
    "import cantera as ct\n",
    "import matplotlib.pyplot as plt\n",
    "import cfdtoolbox as cfd\n",
    "import cfdtoolbox.foam as fu\n",
    "import cfdtoolbox.prep as prep\n",
    "\n",
    "ct.suppress_thermo_warnings()\n",
    "pv.set_jupyter_backend(\"static\")\n",
    "pv.start_xvfb()"
   ]
  },
  {
   "cell_type": "markdown",
   "id": "9787701e-e405-48c7-b497-53e035dd7890",
   "metadata": {},
   "source": [
    "This notebook was conceived to allow management of all cases from the reference.\n",
    "\n",
    "Below we select the case to generate and in what follows the `selected` conditions will be used.\n",
    "\n",
    "Since this notebook is not written in a functional style (for didactical reasons) it is not straighforward to get a loop for generating all cases at once.\n",
    "\n",
    "Cases below 1073 K may be skipped because there is no decomposition of acetylene for the given residence times."
   ]
  },
  {
   "cell_type": "code",
   "execution_count": 3,
   "id": "cc59131e-b69a-402d-bb8d-938e0d959b58",
   "metadata": {},
   "outputs": [
    {
     "data": {
      "text/plain": [
       "P    10000.000\n",
       "Q      222.000\n",
       "T     1273.000\n",
       "X        0.201\n",
       "Name: 12, dtype: float64"
      ]
     },
     "execution_count": 3,
     "metadata": {},
     "output_type": "execute_result"
    }
   ],
   "source": [
    "selected = 12\n",
    "\n",
    "conditions = pd.DataFrame([\n",
    "    {\"N\":  1, \"P\":  5000, \"Q\": 222, \"T\":  773, \"X\": 0.352},\n",
    "    {\"N\":  2, \"P\":  5000, \"Q\": 222, \"T\":  873, \"X\": 0.364},\n",
    "    {\"N\":  3, \"P\":  5000, \"Q\": 222, \"T\":  973, \"X\": 0.364},\n",
    "    {\"N\":  4, \"P\":  5000, \"Q\": 222, \"T\": 1073, \"X\": 0.346},\n",
    "    {\"N\":  5, \"P\":  5000, \"Q\": 222, \"T\": 1123, \"X\": 0.312},\n",
    "    {\"N\":  6, \"P\":  5000, \"Q\": 222, \"T\": 1173, \"X\": 0.307},\n",
    "    {\"N\":  7, \"P\":  5000, \"Q\": 222, \"T\": 1273, \"X\": 0.298},\n",
    "    {\"N\":  8, \"P\":  3000, \"Q\": 222, \"T\": 1173, \"X\": 0.323},\n",
    "    {\"N\":  9, \"P\":  3000, \"Q\": 222, \"T\": 1223, \"X\": 0.314},\n",
    "    {\"N\": 10, \"P\": 10000, \"Q\": 222, \"T\": 1173, \"X\": 0.249},\n",
    "    {\"N\": 11, \"P\": 10000, \"Q\": 222, \"T\": 1223, \"X\": 0.226},\n",
    "    {\"N\": 12, \"P\": 10000, \"Q\": 222, \"T\": 1273, \"X\": 0.201},\n",
    "    {\"N\": 13, \"P\": 10000, \"Q\": 378, \"T\": 1023, \"X\": 0.343},\n",
    "    {\"N\": 14, \"P\": 10000, \"Q\": 378, \"T\": 1123, \"X\": 0.298},\n",
    "]).set_index(\"N\")\n",
    "\n",
    "setup = conditions.loc[selected]\n",
    "setup"
   ]
  },
  {
   "cell_type": "markdown",
   "id": "3a0db7e4-17ad-4f5d-a2ac-952c9f428891",
   "metadata": {},
   "source": [
    "Before starting the case construction we define external materials/names for common use throughout the notebook. That means the *name* of this case under directory `case/` so that results are not tracked by `git`, the mesh file, and chemical kinetics mechanism. Here both OpenFOAM and Cantera formats are required because post-processing will be done with the latter. We also have a file with actual measurements of wall temperature, which will be fit to a functional format and implemented as a coded boundary condition.\n",
    "\n",
    "**TODO:** remplace Cantera XML files by newer format YAML."
   ]
  },
  {
   "cell_type": "code",
   "execution_count": 4,
   "id": "3842a38d-c00b-49e6-a46c-217fa98738a8",
   "metadata": {},
   "outputs": [],
   "source": [
    "case = f\"cases/foam-day-16-tutorial-02-pyrolysis_{selected}\"\n",
    "\n",
    "case_mesh_of = \"meshes/mesh_wedge_phd.msh\"\n",
    "case_ther_of = \"kinetics/OF-hydrocarbon-dalmazsi-2017-ther.foam\"\n",
    "case_mech_of = \"kinetics/OF-hydrocarbon-dalmazsi-2017-mech.foam\"\n",
    "case_mech_ct = \"kinetics/CT-hydrocarbon-dalmazsi-2017-mech.xml\"\n",
    "\n",
    "case_wall_tm = \"data/foam-day-16-tutorial-02-pyrolisys-wall-temperature.csv\""
   ]
  },
  {
   "cell_type": "markdown",
   "id": "bfa7c9a6-8016-49e5-9843-3098c96d8e5c",
   "metadata": {},
   "source": [
    "## Reactor geometry and temperature profile\n",
    "\n",
    "A sketch of the chemical reactor is provided below. Gas inlet is made by the left side in the diameter of 28 mm and flows at about room temperature until reaching the heated chamber at 20 cm. Pressure is measured at outlet and this will be important later for proper setup of boundary conditions.\n",
    "\n"
   ]
  },
  {
   "cell_type": "markdown",
   "id": "0e98178f-fc0b-4306-8951-6d2554b57233",
   "metadata": {},
   "source": [
    "<center><img src=\"media/foam-day-16-tutorial-02-pyrolysis-reactor.png\"/></center>"
   ]
  },
  {
   "cell_type": "markdown",
   "id": "6d0605f5-7035-4b85-a3be-8d867dd5833d",
   "metadata": {},
   "source": [
    "To fit a function of wall temperature profile the following table is used. Notice here that measurements do not cover the full 80 cm of the reactor, but are in fact centered in the hot zone across a length of 52 cm. The first 3 rows we manually added (not actual measurements, so heated chamber starts actually at 12 cm) to provide a physically suitable shape for fitting the curve. Same was done on last row because measurement on chamber exit was highly unreliable because of thermocouple placement and contact with the wall."
   ]
  },
  {
   "cell_type": "code",
   "execution_count": 5,
   "id": "df1dde0f-0623-46b4-a89e-99adf64f3a0d",
   "metadata": {},
   "outputs": [
    {
     "data": {
      "text/html": [
       "<div>\n",
       "<style scoped>\n",
       "    .dataframe tbody tr th:only-of-type {\n",
       "        vertical-align: middle;\n",
       "    }\n",
       "\n",
       "    .dataframe tbody tr th {\n",
       "        vertical-align: top;\n",
       "    }\n",
       "\n",
       "    .dataframe thead th {\n",
       "        text-align: right;\n",
       "    }\n",
       "</style>\n",
       "<table border=\"1\" class=\"dataframe\">\n",
       "  <thead>\n",
       "    <tr style=\"text-align: right;\">\n",
       "      <th></th>\n",
       "      <th>x</th>\n",
       "      <th>773</th>\n",
       "      <th>873</th>\n",
       "      <th>973</th>\n",
       "      <th>1023</th>\n",
       "      <th>1073</th>\n",
       "      <th>1123</th>\n",
       "      <th>1173</th>\n",
       "      <th>1223</th>\n",
       "      <th>1273</th>\n",
       "    </tr>\n",
       "  </thead>\n",
       "  <tbody>\n",
       "    <tr>\n",
       "      <th>0</th>\n",
       "      <td>0.00</td>\n",
       "      <td>298</td>\n",
       "      <td>298.0</td>\n",
       "      <td>298</td>\n",
       "      <td>298</td>\n",
       "      <td>298.0</td>\n",
       "      <td>298</td>\n",
       "      <td>298.0</td>\n",
       "      <td>298.0</td>\n",
       "      <td>298.0</td>\n",
       "    </tr>\n",
       "    <tr>\n",
       "      <th>1</th>\n",
       "      <td>0.05</td>\n",
       "      <td>299</td>\n",
       "      <td>299.0</td>\n",
       "      <td>299</td>\n",
       "      <td>299</td>\n",
       "      <td>299.0</td>\n",
       "      <td>299</td>\n",
       "      <td>299.0</td>\n",
       "      <td>299.0</td>\n",
       "      <td>299.0</td>\n",
       "    </tr>\n",
       "    <tr>\n",
       "      <th>2</th>\n",
       "      <td>0.10</td>\n",
       "      <td>300</td>\n",
       "      <td>300.0</td>\n",
       "      <td>300</td>\n",
       "      <td>300</td>\n",
       "      <td>300.0</td>\n",
       "      <td>300</td>\n",
       "      <td>300.0</td>\n",
       "      <td>300.0</td>\n",
       "      <td>300.0</td>\n",
       "    </tr>\n",
       "    <tr>\n",
       "      <th>3</th>\n",
       "      <td>0.12</td>\n",
       "      <td>400</td>\n",
       "      <td>503.0</td>\n",
       "      <td>653</td>\n",
       "      <td>689</td>\n",
       "      <td>726.0</td>\n",
       "      <td>755</td>\n",
       "      <td>783.0</td>\n",
       "      <td>793.0</td>\n",
       "      <td>803.0</td>\n",
       "    </tr>\n",
       "    <tr>\n",
       "      <th>4</th>\n",
       "      <td>0.15</td>\n",
       "      <td>650</td>\n",
       "      <td>757.0</td>\n",
       "      <td>873</td>\n",
       "      <td>896</td>\n",
       "      <td>919.0</td>\n",
       "      <td>959</td>\n",
       "      <td>1000.0</td>\n",
       "      <td>1048.0</td>\n",
       "      <td>1095.0</td>\n",
       "    </tr>\n",
       "    <tr>\n",
       "      <th>5</th>\n",
       "      <td>0.20</td>\n",
       "      <td>750</td>\n",
       "      <td>834.0</td>\n",
       "      <td>918</td>\n",
       "      <td>965</td>\n",
       "      <td>1013.0</td>\n",
       "      <td>1057</td>\n",
       "      <td>1101.0</td>\n",
       "      <td>1151.0</td>\n",
       "      <td>1200.0</td>\n",
       "    </tr>\n",
       "    <tr>\n",
       "      <th>6</th>\n",
       "      <td>0.25</td>\n",
       "      <td>762</td>\n",
       "      <td>850.0</td>\n",
       "      <td>949</td>\n",
       "      <td>1001</td>\n",
       "      <td>1052.0</td>\n",
       "      <td>1098</td>\n",
       "      <td>1143.0</td>\n",
       "      <td>1189.0</td>\n",
       "      <td>1235.0</td>\n",
       "    </tr>\n",
       "    <tr>\n",
       "      <th>7</th>\n",
       "      <td>0.30</td>\n",
       "      <td>763</td>\n",
       "      <td>869.0</td>\n",
       "      <td>971</td>\n",
       "      <td>1018</td>\n",
       "      <td>1064.0</td>\n",
       "      <td>1110</td>\n",
       "      <td>1156.0</td>\n",
       "      <td>1205.0</td>\n",
       "      <td>1253.0</td>\n",
       "    </tr>\n",
       "    <tr>\n",
       "      <th>8</th>\n",
       "      <td>0.35</td>\n",
       "      <td>763</td>\n",
       "      <td>859.0</td>\n",
       "      <td>954</td>\n",
       "      <td>1001</td>\n",
       "      <td>1047.5</td>\n",
       "      <td>1095</td>\n",
       "      <td>1142.5</td>\n",
       "      <td>1188.5</td>\n",
       "      <td>1233.5</td>\n",
       "    </tr>\n",
       "    <tr>\n",
       "      <th>9</th>\n",
       "      <td>0.40</td>\n",
       "      <td>763</td>\n",
       "      <td>849.0</td>\n",
       "      <td>937</td>\n",
       "      <td>984</td>\n",
       "      <td>1031.0</td>\n",
       "      <td>1080</td>\n",
       "      <td>1129.0</td>\n",
       "      <td>1172.0</td>\n",
       "      <td>1214.0</td>\n",
       "    </tr>\n",
       "    <tr>\n",
       "      <th>10</th>\n",
       "      <td>0.45</td>\n",
       "      <td>582</td>\n",
       "      <td>697.5</td>\n",
       "      <td>780</td>\n",
       "      <td>837</td>\n",
       "      <td>894.0</td>\n",
       "      <td>931</td>\n",
       "      <td>967.5</td>\n",
       "      <td>990.5</td>\n",
       "      <td>1012.5</td>\n",
       "    </tr>\n",
       "    <tr>\n",
       "      <th>11</th>\n",
       "      <td>0.50</td>\n",
       "      <td>440</td>\n",
       "      <td>546.0</td>\n",
       "      <td>623</td>\n",
       "      <td>690</td>\n",
       "      <td>757.0</td>\n",
       "      <td>782</td>\n",
       "      <td>806.0</td>\n",
       "      <td>809.0</td>\n",
       "      <td>811.0</td>\n",
       "    </tr>\n",
       "    <tr>\n",
       "      <th>12</th>\n",
       "      <td>0.52</td>\n",
       "      <td>400</td>\n",
       "      <td>400.0</td>\n",
       "      <td>400</td>\n",
       "      <td>400</td>\n",
       "      <td>400.0</td>\n",
       "      <td>400</td>\n",
       "      <td>400.0</td>\n",
       "      <td>400.0</td>\n",
       "      <td>400.0</td>\n",
       "    </tr>\n",
       "  </tbody>\n",
       "</table>\n",
       "</div>"
      ],
      "text/plain": [
       "       x  773    873  973  1023    1073  1123    1173    1223    1273\n",
       "0   0.00  298  298.0  298   298   298.0   298   298.0   298.0   298.0\n",
       "1   0.05  299  299.0  299   299   299.0   299   299.0   299.0   299.0\n",
       "2   0.10  300  300.0  300   300   300.0   300   300.0   300.0   300.0\n",
       "3   0.12  400  503.0  653   689   726.0   755   783.0   793.0   803.0\n",
       "4   0.15  650  757.0  873   896   919.0   959  1000.0  1048.0  1095.0\n",
       "5   0.20  750  834.0  918   965  1013.0  1057  1101.0  1151.0  1200.0\n",
       "6   0.25  762  850.0  949  1001  1052.0  1098  1143.0  1189.0  1235.0\n",
       "7   0.30  763  869.0  971  1018  1064.0  1110  1156.0  1205.0  1253.0\n",
       "8   0.35  763  859.0  954  1001  1047.5  1095  1142.5  1188.5  1233.5\n",
       "9   0.40  763  849.0  937   984  1031.0  1080  1129.0  1172.0  1214.0\n",
       "10  0.45  582  697.5  780   837   894.0   931   967.5   990.5  1012.5\n",
       "11  0.50  440  546.0  623   690   757.0   782   806.0   809.0   811.0\n",
       "12  0.52  400  400.0  400   400   400.0   400   400.0   400.0   400.0"
      ]
     },
     "execution_count": 5,
     "metadata": {},
     "output_type": "execute_result"
    }
   ],
   "source": [
    "data = pd.read_csv(case_wall_tm)\n",
    "data"
   ]
  },
  {
   "cell_type": "markdown",
   "id": "4447b8d4-c535-4a66-b924-86de8fbd6a54",
   "metadata": {},
   "source": [
    "As we observe on row 7, temperature in the middle of the reactor heated zone does not reach the set-point value. Below we verify that actually abot 99% of the value is actually reached and this is an important factor for a proper kinetics simulation given the exponential role of activation energies."
   ]
  },
  {
   "cell_type": "code",
   "execution_count": 6,
   "id": "33ad62b9-c4d6-435a-be86-baadb17821d4",
   "metadata": {},
   "outputs": [
    {
     "data": {
      "text/plain": [
       "array([0.98706339, 0.9954181 , 0.9979445 , 0.99511241, 0.9916123 ,\n",
       "       0.98842386, 0.98550725, 0.98528209, 0.98428908])"
      ]
     },
     "execution_count": 6,
     "metadata": {},
     "output_type": "execute_result"
    }
   ],
   "source": [
    "T_pv = data.iloc[7, 1:].to_numpy()\n",
    "T_sp = data.columns[1:].astype(float).to_numpy()\n",
    "scale = (T_pv / T_sp)\n",
    "scale"
   ]
  },
  {
   "cell_type": "markdown",
   "id": "fa48f5ad-d965-4650-8120-264639ee4369",
   "metadata": {},
   "source": [
    "Given the increasing-plateau-decreasing shape of the profile, a composition of sigmoid functions is proposed as a model for the data. The function is evaluated in terms of temperature and has a physical parameter `T_sp` for set-point temperature. Other parameters are fitted to match the profile. Parameters `a1`/`a2` provide the inflexion points and `m1`/`m2` the slopes of uphill/downhill profiles."
   ]
  },
  {
   "cell_type": "code",
   "execution_count": 7,
   "id": "1ecb822f-64d7-4af7-ab04-318fbfdc4481",
   "metadata": {},
   "outputs": [],
   "source": [
    "def temperature_profile(x, T_sp, a1, a2, m1, m2):\n",
    "    \"\"\" Wall temperature profile function. \"\"\"\n",
    "    st_trm = (T_sp - 301.0) * (1.0 - np.exp(-(x / a1) ** m1))\n",
    "    nd_trm = (T_sp - 400.0) * (1.0 - np.exp(-(x / a2) ** m2))\n",
    "    return 301.0 + st_trm - nd_trm"
   ]
  },
  {
   "cell_type": "markdown",
   "id": "5c98717f-484b-4a0d-879d-5665b3221675",
   "metadata": {},
   "source": [
    "Next we make use of `scipy.optimize.curve_fit` to find the unknown parameters and visualize the results."
   ]
  },
  {
   "cell_type": "code",
   "execution_count": 8,
   "id": "bd4ce219-233c-47c1-a9fd-3af25288b577",
   "metadata": {},
   "outputs": [
    {
     "data": {
      "image/png": "[encoded data removed]",
      "text/plain": [
       "<Figure size 864x432 with 1 Axes>"
      ]
     },
     "metadata": {},
     "output_type": "display_data"
    }
   ],
   "source": [
    "params = []\n",
    "\n",
    "plt.style.use(\"seaborn-white\")\n",
    "plt.close(\"all\")\n",
    "plt.figure(figsize=(12, 6))\n",
    "\n",
    "X = np.linspace(data[\"x\"].min(), data[\"x\"].max(), 100)\n",
    "\n",
    "for k, T_sp in enumerate(data.columns[1:]):\n",
    "    arrX = data[\"x\"].to_numpy()\n",
    "    arrT = data[T_sp].to_numpy()\n",
    "\n",
    "    def wrap(x, a1, a2, m1, m2):\n",
    "        T_pv = float(T_sp) * scale[k]\n",
    "        return temperature_profile(x, T_pv, a1, a2, m1, m2)\n",
    "\n",
    "    with warnings.catch_warnings():\n",
    "        warnings.simplefilter(\"ignore\")\n",
    "        guess = 0.1, 0.6, 2.0, 2.0\n",
    "        popt, pcov = curve_fit(wrap, arrX, arrT, guess, maxfev=10_000)\n",
    "    \n",
    "    params.append([float(T_sp), scale[k], *popt])\n",
    "    plt.scatter(arrX, arrT, label=f\"{T_sp} K\")\n",
    "    plt.plot(X, wrap(X, *popt), \"k:\", label=\"_none_\")\n",
    "    \n",
    "plt.grid(linestyle=\":\")\n",
    "plt.legend(loc=2)\n",
    "plt.tight_layout()"
   ]
  },
  {
   "cell_type": "code",
   "execution_count": 9,
   "id": "f711b604-b2d9-412b-9e94-85c7d1ca4eb5",
   "metadata": {},
   "outputs": [
    {
     "data": {
      "text/html": [
       "<div>\n",
       "<style scoped>\n",
       "    .dataframe tbody tr th:only-of-type {\n",
       "        vertical-align: middle;\n",
       "    }\n",
       "\n",
       "    .dataframe tbody tr th {\n",
       "        vertical-align: top;\n",
       "    }\n",
       "\n",
       "    .dataframe thead th {\n",
       "        text-align: right;\n",
       "    }\n",
       "</style>\n",
       "<table border=\"1\" class=\"dataframe\">\n",
       "  <thead>\n",
       "    <tr style=\"text-align: right;\">\n",
       "      <th></th>\n",
       "      <th>T</th>\n",
       "      <th>scale</th>\n",
       "      <th>a1</th>\n",
       "      <th>a2</th>\n",
       "      <th>m1</th>\n",
       "      <th>m2</th>\n",
       "    </tr>\n",
       "  </thead>\n",
       "  <tbody>\n",
       "    <tr>\n",
       "      <th>0</th>\n",
       "      <td>773.0</td>\n",
       "      <td>0.987063</td>\n",
       "      <td>0.143839</td>\n",
       "      <td>0.465366</td>\n",
       "      <td>8.498838</td>\n",
       "      <td>15.589542</td>\n",
       "    </tr>\n",
       "    <tr>\n",
       "      <th>1</th>\n",
       "      <td>873.0</td>\n",
       "      <td>0.995418</td>\n",
       "      <td>0.138845</td>\n",
       "      <td>0.485018</td>\n",
       "      <td>7.161445</td>\n",
       "      <td>12.858167</td>\n",
       "    </tr>\n",
       "    <tr>\n",
       "      <th>2</th>\n",
       "      <td>973.0</td>\n",
       "      <td>0.997945</td>\n",
       "      <td>0.130311</td>\n",
       "      <td>0.490096</td>\n",
       "      <td>7.219046</td>\n",
       "      <td>12.825122</td>\n",
       "    </tr>\n",
       "    <tr>\n",
       "      <th>3</th>\n",
       "      <td>1023.0</td>\n",
       "      <td>0.995112</td>\n",
       "      <td>0.131512</td>\n",
       "      <td>0.495795</td>\n",
       "      <td>6.623234</td>\n",
       "      <td>14.073047</td>\n",
       "    </tr>\n",
       "    <tr>\n",
       "      <th>4</th>\n",
       "      <td>1073.0</td>\n",
       "      <td>0.991612</td>\n",
       "      <td>0.132188</td>\n",
       "      <td>0.500856</td>\n",
       "      <td>6.254104</td>\n",
       "      <td>16.953023</td>\n",
       "    </tr>\n",
       "    <tr>\n",
       "      <th>5</th>\n",
       "      <td>1123.0</td>\n",
       "      <td>0.988424</td>\n",
       "      <td>0.131778</td>\n",
       "      <td>0.501189</td>\n",
       "      <td>6.313607</td>\n",
       "      <td>17.562174</td>\n",
       "    </tr>\n",
       "    <tr>\n",
       "      <th>6</th>\n",
       "      <td>1173.0</td>\n",
       "      <td>0.985507</td>\n",
       "      <td>0.131360</td>\n",
       "      <td>0.501379</td>\n",
       "      <td>6.396871</td>\n",
       "      <td>18.019475</td>\n",
       "    </tr>\n",
       "    <tr>\n",
       "      <th>7</th>\n",
       "      <td>1223.0</td>\n",
       "      <td>0.985282</td>\n",
       "      <td>0.131623</td>\n",
       "      <td>0.498994</td>\n",
       "      <td>6.550948</td>\n",
       "      <td>15.856002</td>\n",
       "    </tr>\n",
       "    <tr>\n",
       "      <th>8</th>\n",
       "      <td>1273.0</td>\n",
       "      <td>0.984289</td>\n",
       "      <td>0.131839</td>\n",
       "      <td>0.496996</td>\n",
       "      <td>6.695226</td>\n",
       "      <td>14.754026</td>\n",
       "    </tr>\n",
       "  </tbody>\n",
       "</table>\n",
       "</div>"
      ],
      "text/plain": [
       "        T     scale        a1        a2        m1         m2\n",
       "0   773.0  0.987063  0.143839  0.465366  8.498838  15.589542\n",
       "1   873.0  0.995418  0.138845  0.485018  7.161445  12.858167\n",
       "2   973.0  0.997945  0.130311  0.490096  7.219046  12.825122\n",
       "3  1023.0  0.995112  0.131512  0.495795  6.623234  14.073047\n",
       "4  1073.0  0.991612  0.132188  0.500856  6.254104  16.953023\n",
       "5  1123.0  0.988424  0.131778  0.501189  6.313607  17.562174\n",
       "6  1173.0  0.985507  0.131360  0.501379  6.396871  18.019475\n",
       "7  1223.0  0.985282  0.131623  0.498994  6.550948  15.856002\n",
       "8  1273.0  0.984289  0.131839  0.496996  6.695226  14.754026"
      ]
     },
     "execution_count": 9,
     "metadata": {},
     "output_type": "execute_result"
    }
   ],
   "source": [
    "params_df = pd.DataFrame(params)\n",
    "params_df.columns = [\"T\", \"scale\", \"a1\", \"a2\", \"m1\", \"m2\"]\n",
    "params_df"
   ]
  },
  {
   "cell_type": "markdown",
   "id": "9b91a342-d8b9-4ba1-8a85-e00562febc08",
   "metadata": {},
   "source": [
    "We translate the fitted function in C++ and create a `codedFixedValue` boundary condition for enforcing the profile."
   ]
  },
  {
   "cell_type": "code",
   "execution_count": 10,
   "id": "1a2976e7-596b-44f4-a2d6-076740f09b56",
   "metadata": {},
   "outputs": [
    {
     "name": "stdout",
     "output_type": "stream",
     "text": [
      "        type  codedFixedValue;\n",
      "            value $internalField;\n",
      "            name  wall_temperature_bc;\n",
      "\n",
      "            code\n",
      "            #{\n",
      "                double T_sp = 0.984289 * 1273.00;\n",
      "                double a1 = 0.131839270047, m1 = 6.695226497314;\n",
      "                double a2 = 0.496996297567, m2 = 14.754026494170;\n",
      "\n",
      "                vector axisX = vector(1, 0, 0);\n",
      "                scalarField x = (patch().Cf() & axisX);\n",
      "\n",
      "                scalarField u = Foam::pow(x / a1, m1);\n",
      "                scalarField d = Foam::pow(x / a2, m2);\n",
      "\n",
      "                scalarField Tu = (T_sp - 301.0) * (1 - Foam::exp(-u));\n",
      "                scalarField Td = (T_sp - 400.0) * (1 - Foam::exp(-d));\n",
      "\n",
      "                scalarField Tval = 301 + Tu - Td;\n",
      "                operator==(Tval);\n",
      "            #};\n"
     ]
    }
   ],
   "source": [
    "where = abs(params_df[\"T\"] - setup[\"T\"]) < 0.0001\n",
    "params = params_df.loc[where].to_dict(\"r\")[0]\n",
    "\n",
    "wall_temperature_bc = \"\"\"\\\n",
    "        type  codedFixedValue;\n",
    "            value $internalField;\n",
    "            name  wall_temperature_bc;\n",
    "\n",
    "            code\n",
    "            #{{\n",
    "                double T_sp = {scale:.6f} * {T:.2f};\n",
    "                double a1 = {a1:.12f}, m1 = {m1:.12f};\n",
    "                double a2 = {a2:.12f}, m2 = {m2:.12f};\n",
    "\n",
    "                vector axisX = vector(1, 0, 0);\n",
    "                scalarField x = (patch().Cf() & axisX);\n",
    "\n",
    "                scalarField u = Foam::pow(x / a1, m1);\n",
    "                scalarField d = Foam::pow(x / a2, m2);\n",
    "\n",
    "                scalarField Tu = (T_sp - 301.0) * (1 - Foam::exp(-u));\n",
    "                scalarField Td = (T_sp - 400.0) * (1 - Foam::exp(-d));\n",
    "\n",
    "                scalarField Tval = 301 + Tu - Td;\n",
    "                operator==(Tval);\n",
    "            #}};\\\n",
    "\"\"\".format(**params)\n",
    "\n",
    "print(wall_temperature_bc)"
   ]
  },
  {
   "cell_type": "markdown",
   "id": "971e4431-fb80-400b-91f0-f6f060791bc4",
   "metadata": {},
   "source": [
    "A parametric mesh was conceived with `gmsh` scripting. Next we execute the system command to generate `msh2` format that can be read by `gmshToFoam` later.\n",
    "\n",
    "**TODO:** use `gmsh` direct from Python and write mesh here without system call."
   ]
  },
  {
   "cell_type": "code",
   "execution_count": 11,
   "id": "8ade4ee8-7dd1-435a-8e36-c2389104a124",
   "metadata": {},
   "outputs": [],
   "source": [
    "!cd meshes && gmsh mesh_wedge_phd.geo -3 -format msh2 > gmsh.log"
   ]
  },
  {
   "cell_type": "markdown",
   "id": "b644d0cc-c8ed-44a8-bd25-f598c18110c4",
   "metadata": {},
   "source": [
    "We visualize the mesh applying a 10-fold magnification over y axis to check the grading."
   ]
  },
  {
   "cell_type": "code",
   "execution_count": 12,
   "id": "f80d72c8-5f85-4794-93b8-cfd20fb169bd",
   "metadata": {},
   "outputs": [
    {
     "data": {
      "image/png": "[encoded data removed]",
      "text/plain": [
       "<PIL.Image.Image image mode=RGB size=1024x768 at 0x7F3C312C4640>"
      ]
     },
     "metadata": {},
     "output_type": "display_data"
    }
   ],
   "source": [
    "cpos = ((0.3, 0.005, 1.0),\n",
    "        (0.3, 0.005, 0.0),\n",
    "        (0.0, 0.000, 0.0))\n",
    "\n",
    "mtm = np.diag([1, 20, 1, 1])\n",
    "\n",
    "fu.mesh.plot_mesh(case_mesh_of, cpos=cpos, mtm=mtm)"
   ]
  },
  {
   "cell_type": "markdown",
   "id": "71cb12d4-73d1-4c8d-b66f-db60cde6973a",
   "metadata": {},
   "source": [
    "## Case fields template"
   ]
  },
  {
   "cell_type": "markdown",
   "id": "e4e683cf-9f60-4068-9ee8-b21f1a1a928d",
   "metadata": {},
   "source": [
    "To build the case boundary conditions we need to generate a template for filling with the parameters for each variable in the problem. Module `cfdtoolbox.foam.mesh` provides a functionality for parsing MSH2 format exported from `gmsh` and retrieve field names. Notice that since we add volume fields we might wish to filter the list returned by this function. In the following we need to suppress `inner` from the list (check `.geo` file for details)."
   ]
  },
  {
   "cell_type": "code",
   "execution_count": 13,
   "id": "ccaba299-d9f1-4917-8dbc-03162d754965",
   "metadata": {},
   "outputs": [
    {
     "data": {
      "text/plain": [
       "['front', 'back', 'wall', 'inlet', 'outlet', 'inner']"
      ]
     },
     "execution_count": 13,
     "metadata": {},
     "output_type": "execute_result"
    }
   ],
   "source": [
    "boundaries = fu.mesh.get_gmsh2_patches_names(case_mesh_of)\n",
    "boundaries"
   ]
  },
  {
   "cell_type": "markdown",
   "id": "7e96d282-43c2-4c94-b45a-4239da712a39",
   "metadata": {},
   "source": [
    "Below we create the template compatible with the patches of this case."
   ]
  },
  {
   "cell_type": "code",
   "execution_count": 14,
   "id": "537bb3ac-712a-49ba-be41-441e347e1f01",
   "metadata": {},
   "outputs": [
    {
     "name": "stdout",
     "output_type": "stream",
     "text": [
      "dimensions      ;\n",
      "\n",
      "internalField   uniform ;\n",
      "\n",
      "boundaryField\n",
      "{\n",
      "\n",
      "    front\n",
      "    {\n",
      "\n",
      "    }\n",
      "\n",
      "    back\n",
      "    {\n",
      "\n",
      "    }\n",
      "\n",
      "    wall\n",
      "    {\n",
      "\n",
      "    }\n",
      "\n",
      "    inlet\n",
      "    {\n",
      "\n",
      "    }\n",
      "\n",
      "    outlet\n",
      "    {\n",
      "\n",
      "    }\n",
      "\n",
      "}\n",
      "\n"
     ]
    }
   ],
   "source": [
    "boundaries = boundaries[:-1]\n",
    "boundaryField = fu.boundary_fields_template(boundaries)\n",
    "print(dedent(boundaryField.render()))"
   ]
  },
  {
   "cell_type": "markdown",
   "id": "24a61e8f-e61c-4d0f-a2e2-d039f625bd50",
   "metadata": {},
   "source": [
    "## Initial conditions"
   ]
  },
  {
   "cell_type": "markdown",
   "id": "9afefe13-8afe-4772-9f02-e944152233d4",
   "metadata": {},
   "source": [
    "Here we will simulate case number 6 of table 5.9 of the reference thesis. \n",
    "\n",
    "As a first step we provide temperature and pressure.\n",
    "\n",
    "Inlet mean gas speed is computed from flow rate and reactor cross-section."
   ]
  },
  {
   "cell_type": "code",
   "execution_count": 15,
   "id": "44c05799-4c08-4cdc-b954-a5af4915ebc8",
   "metadata": {},
   "outputs": [],
   "source": [
    "T = setup[\"T\"]\n",
    "P = setup[\"P\"]\n",
    "\n",
    "T_room = 301.0\n",
    "A = np.pi * 0.014 ** 2\n",
    "U = prep.sccm_to_meter_per_second(setup[\"Q\"], T_room, P, A)"
   ]
  },
  {
   "cell_type": "markdown",
   "id": "84ea6735-3485-43a7-8e46-50eae2457a7e",
   "metadata": {},
   "source": [
    "Next we compute the reference initial conditions in required units. \n",
    "\n",
    "Since acetylene is stored in liquid acetone, pollution of the gas is expected are discussed by [Noringa, 2009].\n",
    "\n",
    "Composition is converted to mass fractions as required by `reactingFoam`."
   ]
  },
  {
   "cell_type": "code",
   "execution_count": 16,
   "id": "85bc5fde-24bf-4825-b83e-828f3c4a151c",
   "metadata": {},
   "outputs": [
    {
     "data": {
      "text/html": [
       "<div>\n",
       "<style scoped>\n",
       "    .dataframe tbody tr th:only-of-type {\n",
       "        vertical-align: middle;\n",
       "    }\n",
       "\n",
       "    .dataframe tbody tr th {\n",
       "        vertical-align: top;\n",
       "    }\n",
       "\n",
       "    .dataframe thead th {\n",
       "        text-align: right;\n",
       "    }\n",
       "</style>\n",
       "<table border=\"1\" class=\"dataframe\">\n",
       "  <thead>\n",
       "    <tr style=\"text-align: right;\">\n",
       "      <th></th>\n",
       "      <th>C2H2</th>\n",
       "      <th>CH3COCH3</th>\n",
       "      <th>CH4</th>\n",
       "      <th>N2</th>\n",
       "      <th>total</th>\n",
       "    </tr>\n",
       "  </thead>\n",
       "  <tbody>\n",
       "    <tr>\n",
       "      <th>0</th>\n",
       "      <td>0.334007</td>\n",
       "      <td>0.013684</td>\n",
       "      <td>0.00042</td>\n",
       "      <td>0.651889</td>\n",
       "      <td>1.0</td>\n",
       "    </tr>\n",
       "  </tbody>\n",
       "</table>\n",
       "</div>"
      ],
      "text/plain": [
       "       C2H2  CH3COCH3      CH4        N2  total\n",
       "0  0.334007  0.013684  0.00042  0.651889    1.0"
      ]
     },
     "execution_count": 16,
     "metadata": {},
     "output_type": "execute_result"
    }
   ],
   "source": [
    "C = 0.36\n",
    "X = {\"N2\":       0.64,\n",
    "     \"C2H2\":     0.980 * C,\n",
    "     \"CH3COCH3\": 0.018 * C,\n",
    "     \"CH4\":      0.002 * C}\n",
    "\n",
    "gas = ct.Solution(case_mech_ct, \"gas\")\n",
    "gas.TPX = T, P, X\n",
    "\n",
    "Y = gas.mass_fraction_dict()\n",
    "Y[\"total\"] = sum(Y.values())\n",
    "pd.DataFrame.from_dict([Y])"
   ]
  },
  {
   "cell_type": "markdown",
   "id": "523f0233-00b8-4066-a7e6-015cb5ff676a",
   "metadata": {},
   "source": [
    "Since the wedge boundary conditions is shared by all variables we create a dictionary for storing it."
   ]
  },
  {
   "cell_type": "code",
   "execution_count": 17,
   "id": "5f743d2a-ee06-453b-a9e3-5f633ae074d5",
   "metadata": {},
   "outputs": [],
   "source": [
    "wedges = {\"front\": fu.BC_WEDGE, \"back\": fu.BC_WEDGE}"
   ]
  },
  {
   "cell_type": "markdown",
   "id": "641b1e15-8949-45f7-a4a4-4fce7ba2cedc",
   "metadata": {},
   "source": [
    "Another recurring template is the one used for species, so we prepare here its general view.\n",
    "\n",
    "Composition is fixed at inlet and an `inletOutlet` is applied to outlet."
   ]
  },
  {
   "cell_type": "code",
   "execution_count": 18,
   "id": "46ee566e-71da-44bb-b1e7-99e913d2a0cf",
   "metadata": {},
   "outputs": [],
   "source": [
    "body_species = {\n",
    "    \"dimensions\": fu.DIMENSIONS[\"0\"],\n",
    "    \"uniform\":    \"{{ inlet }}\",\n",
    "    \"inlet\":      fu.BC_FIXED_VALUE.format(value=\"{{ inlet }}\"),\n",
    "    \"outlet\":     fu.BC_INLET_OUTLET.format(value=\"{{ inlet }}\", inletValue=\"{{ inlet }}\"),\n",
    "    \"wall\":       fu.BC_ZERO_GRADIENT,\n",
    "    **wedges\n",
    "}\n",
    "\n",
    "body_species = Template(boundaryField.render(**body_species))"
   ]
  },
  {
   "cell_type": "code",
   "execution_count": 19,
   "id": "bc9e8802-efde-4096-9fdf-ee7dcb0212d2",
   "metadata": {},
   "outputs": [],
   "source": [
    "body_p = {\n",
    "    \"dimensions\": fu.DIMENSIONS[\"p\"],\n",
    "    \"uniform\":    P,\n",
    "    \"inlet\":      fu.BC_ZERO_GRADIENT,\n",
    "    \"outlet\":     fu.BC_TOTAL_PRESSURE.format(p0=\"$internalField\"),\n",
    "    \"wall\":       fu.BC_ZERO_GRADIENT,\n",
    "    **wedges\n",
    "}\n",
    "\n",
    "body_U = {\n",
    "    \"dimensions\": fu.DIMENSIONS[\"U\"],\n",
    "    \"uniform\":    f\"({U} 0 0)\",\n",
    "    \"inlet\":      fu.BC_FIXED_VALUE.format(value=f\"({U} 0 0)\"),\n",
    "    \"outlet\":     fu.BC_PRESSURE_INLET_OUTLET_VELOCITY.format(value=\"$internalField\"),\n",
    "    \"wall\":       fu.BC_NOSLIP,\n",
    "    **wedges\n",
    "}\n",
    "\n",
    "body_T = {\n",
    "    \"dimensions\": fu.DIMENSIONS[\"T\"],\n",
    "    \"uniform\":    T_room,\n",
    "    \"inlet\":      fu.BC_FIXED_VALUE.format(value=T_room),\n",
    "    \"outlet\":     fu.BC_INLET_OUTLET.format(value=T_room, inletValue=T_room),\n",
    "    \"wall\":       wall_temperature_bc,\n",
    "    **wedges\n",
    "}\n",
    "\n",
    "body_p        = dedent(boundaryField.render(**body_p))\n",
    "body_U        = dedent(boundaryField.render(**body_U))\n",
    "body_T        = dedent(boundaryField.render(**body_T))\n",
    "body_C2H2     = dedent(body_species.render(inlet=Y[\"C2H2\"]))\n",
    "body_CH3COCH3 = dedent(body_species.render(inlet=Y[\"CH3COCH3\"]))\n",
    "body_CH4      = dedent(body_species.render(inlet=Y[\"CH4\"]))\n",
    "body_N2       = dedent(body_species.render(inlet=Y[\"N2\"]))\n",
    "body_Ydefault = dedent(body_species.render(inlet=0.0))"
   ]
  },
  {
   "cell_type": "markdown",
   "id": "228c956d-6870-459e-96ae-995d5396f51a",
   "metadata": {},
   "source": [
    "This is the full set of initial conditions.\n",
    "\n",
    "You are strongly recommended to check the outputs to see if files are well-formed."
   ]
  },
  {
   "cell_type": "code",
   "execution_count": 20,
   "id": "498bf850-034e-44ef-aa28-2364e1303ff9",
   "metadata": {},
   "outputs": [
    {
     "name": "stdout",
     "output_type": "stream",
     "text": [
      "**** p ****\n",
      "dimensions      [ 1 -1 -2  0  0  0  0 ];\n",
      "\n",
      "internalField   uniform 10000.0;\n",
      "\n",
      "boundaryField\n",
      "{\n",
      "\n",
      "    front\n",
      "    {\n",
      "        type            wedge;\n",
      "    }\n",
      "\n",
      "    back\n",
      "    {\n",
      "        type            wedge;\n",
      "    }\n",
      "\n",
      "    wall\n",
      "    {\n",
      "        type            zeroGradient;\n",
      "    }\n",
      "\n",
      "    inlet\n",
      "    {\n",
      "        type            zeroGradient;\n",
      "    }\n",
      "\n",
      "    outlet\n",
      "    {\n",
      "        type            totalPressure;\n",
      "        p0              $internalField;\n",
      "    }\n",
      "\n",
      "}\n",
      "\n",
      "********************************************************************\n",
      "**** U ****\n",
      "dimensions      [ 0  1 -1  0  0  0  0 ];\n",
      "\n",
      "internalField   uniform (0.06712993721239924 0 0);\n",
      "\n",
      "boundaryField\n",
      "{\n",
      "\n",
      "    front\n",
      "    {\n",
      "        type            wedge;\n",
      "    }\n",
      "\n",
      "    back\n",
      "    {\n",
      "        type            wedge;\n",
      "    }\n",
      "\n",
      "    wall\n",
      "    {\n",
      "        type            noSlip;\n",
      "    }\n",
      "\n",
      "    inlet\n",
      "    {\n",
      "        type            fixedValue;\n",
      "        value           uniform (0.06712993721239924 0 0);\n",
      "    }\n",
      "\n",
      "    outlet\n",
      "    {\n",
      "        type            pressureInletOutletVelocity;\n",
      "        value           $internalField;\n",
      "    }\n",
      "\n",
      "}\n",
      "\n",
      "********************************************************************\n",
      "**** T ****\n",
      "dimensions      [ 0  0  0  1  0  0  0 ];\n",
      "\n",
      "internalField   uniform 301.0;\n",
      "\n",
      "boundaryField\n",
      "{\n",
      "\n",
      "    front\n",
      "    {\n",
      "        type            wedge;\n",
      "    }\n",
      "\n",
      "    back\n",
      "    {\n",
      "        type            wedge;\n",
      "    }\n",
      "\n",
      "    wall\n",
      "    {\n",
      "        type  codedFixedValue;\n",
      "        value $internalField;\n",
      "        name  wall_temperature_bc;\n",
      "\n",
      "        code\n",
      "        #{\n",
      "            double T_sp = 0.984289 * 1273.00;\n",
      "            double a1 = 0.131839270047, m1 = 6.695226497314;\n",
      "            double a2 = 0.496996297567, m2 = 14.754026494170;\n",
      "\n",
      "            vector axisX = vector(1, 0, 0);\n",
      "            scalarField x = (patch().Cf() & axisX);\n",
      "\n",
      "            scalarField u = Foam::pow(x / a1, m1);\n",
      "            scalarField d = Foam::pow(x / a2, m2);\n",
      "\n",
      "            scalarField Tu = (T_sp - 301.0) * (1 - Foam::exp(-u));\n",
      "            scalarField Td = (T_sp - 400.0) * (1 - Foam::exp(-d));\n",
      "\n",
      "            scalarField Tval = 301 + Tu - Td;\n",
      "            operator==(Tval);\n",
      "        #};\n",
      "    }\n",
      "\n",
      "    inlet\n",
      "    {\n",
      "        type            fixedValue;\n",
      "        value           uniform 301.0;\n",
      "    }\n",
      "\n",
      "    outlet\n",
      "    {\n",
      "        type            inletOutlet;\n",
      "        inletValue      uniform 301.0;\n",
      "        value           uniform 301.0;\n",
      "    }\n",
      "\n",
      "}\n",
      "\n",
      "********************************************************************\n",
      "**** C2H2 ****\n",
      "dimensions      [ 0  0  0  0  0  0  0 ];\n",
      "\n",
      "internalField   uniform 0.33400651185931207;\n",
      "\n",
      "boundaryField\n",
      "{\n",
      "\n",
      "    front\n",
      "    {\n",
      "        type            wedge;\n",
      "    }\n",
      "\n",
      "    back\n",
      "    {\n",
      "        type            wedge;\n",
      "    }\n",
      "\n",
      "    wall\n",
      "    {\n",
      "        type            zeroGradient;\n",
      "    }\n",
      "\n",
      "    inlet\n",
      "    {\n",
      "        type            fixedValue;\n",
      "        value           uniform 0.33400651185931207;\n",
      "    }\n",
      "\n",
      "    outlet\n",
      "    {\n",
      "        type            inletOutlet;\n",
      "        inletValue      uniform 0.33400651185931207;\n",
      "        value           uniform 0.33400651185931207;\n",
      "    }\n",
      "\n",
      "}\n",
      "\n",
      "********************************************************************\n",
      "**** CH3COCH3 ****\n",
      "dimensions      [ 0  0  0  0  0  0  0 ];\n",
      "\n",
      "internalField   uniform 0.013684229476158051;\n",
      "\n",
      "boundaryField\n",
      "{\n",
      "\n",
      "    front\n",
      "    {\n",
      "        type            wedge;\n",
      "    }\n",
      "\n",
      "    back\n",
      "    {\n",
      "        type            wedge;\n",
      "    }\n",
      "\n",
      "    wall\n",
      "    {\n",
      "        type            zeroGradient;\n",
      "    }\n",
      "\n",
      "    inlet\n",
      "    {\n",
      "        type            fixedValue;\n",
      "        value           uniform 0.013684229476158051;\n",
      "    }\n",
      "\n",
      "    outlet\n",
      "    {\n",
      "        type            inletOutlet;\n",
      "        inletValue      uniform 0.013684229476158051;\n",
      "        value           uniform 0.013684229476158051;\n",
      "    }\n",
      "\n",
      "}\n",
      "\n",
      "********************************************************************\n",
      "**** CH4 ****\n",
      "dimensions      [ 0  0  0  0  0  0  0 ];\n",
      "\n",
      "internalField   uniform 0.00041998793519667046;\n",
      "\n",
      "boundaryField\n",
      "{\n",
      "\n",
      "    front\n",
      "    {\n",
      "        type            wedge;\n",
      "    }\n",
      "\n",
      "    back\n",
      "    {\n",
      "        type            wedge;\n",
      "    }\n",
      "\n",
      "    wall\n",
      "    {\n",
      "        type            zeroGradient;\n",
      "    }\n",
      "\n",
      "    inlet\n",
      "    {\n",
      "        type            fixedValue;\n",
      "        value           uniform 0.00041998793519667046;\n",
      "    }\n",
      "\n",
      "    outlet\n",
      "    {\n",
      "        type            inletOutlet;\n",
      "        inletValue      uniform 0.00041998793519667046;\n",
      "        value           uniform 0.00041998793519667046;\n",
      "    }\n",
      "\n",
      "}\n",
      "\n",
      "********************************************************************\n",
      "**** N2 ****\n",
      "dimensions      [ 0  0  0  0  0  0  0 ];\n",
      "\n",
      "internalField   uniform 0.6518892707293332;\n",
      "\n",
      "boundaryField\n",
      "{\n",
      "\n",
      "    front\n",
      "    {\n",
      "        type            wedge;\n",
      "    }\n",
      "\n",
      "    back\n",
      "    {\n",
      "        type            wedge;\n",
      "    }\n",
      "\n",
      "    wall\n",
      "    {\n",
      "        type            zeroGradient;\n",
      "    }\n",
      "\n",
      "    inlet\n",
      "    {\n",
      "        type            fixedValue;\n",
      "        value           uniform 0.6518892707293332;\n",
      "    }\n",
      "\n",
      "    outlet\n",
      "    {\n",
      "        type            inletOutlet;\n",
      "        inletValue      uniform 0.6518892707293332;\n",
      "        value           uniform 0.6518892707293332;\n",
      "    }\n",
      "\n",
      "}\n",
      "\n",
      "********************************************************************\n",
      "**** Ydefault ****\n",
      "dimensions      [ 0  0  0  0  0  0  0 ];\n",
      "\n",
      "internalField   uniform 0.0;\n",
      "\n",
      "boundaryField\n",
      "{\n",
      "\n",
      "    front\n",
      "    {\n",
      "        type            wedge;\n",
      "    }\n",
      "\n",
      "    back\n",
      "    {\n",
      "        type            wedge;\n",
      "    }\n",
      "\n",
      "    wall\n",
      "    {\n",
      "        type            zeroGradient;\n",
      "    }\n",
      "\n",
      "    inlet\n",
      "    {\n",
      "        type            fixedValue;\n",
      "        value           uniform 0.0;\n",
      "    }\n",
      "\n",
      "    outlet\n",
      "    {\n",
      "        type            inletOutlet;\n",
      "        inletValue      uniform 0.0;\n",
      "        value           uniform 0.0;\n",
      "    }\n",
      "\n",
      "}\n",
      "\n",
      "********************************************************************\n"
     ]
    }
   ],
   "source": [
    "print(\"**** p ****\",        body_p,        \"*\" * 68, sep=\"\\n\")\n",
    "print(\"**** U ****\",        body_U,        \"*\" * 68, sep=\"\\n\")\n",
    "print(\"**** T ****\",        body_T,        \"*\" * 68, sep=\"\\n\")\n",
    "print(\"**** C2H2 ****\",     body_C2H2,     \"*\" * 68, sep=\"\\n\")\n",
    "print(\"**** CH3COCH3 ****\", body_CH3COCH3, \"*\" * 68, sep=\"\\n\")\n",
    "print(\"**** CH4 ****\",      body_CH4,      \"*\" * 68, sep=\"\\n\")\n",
    "print(\"**** N2 ****\",       body_N2,       \"*\" * 68, sep=\"\\n\")\n",
    "print(\"**** Ydefault ****\", body_Ydefault, \"*\" * 68, sep=\"\\n\")"
   ]
  },
  {
   "cell_type": "markdown",
   "id": "74487adf-1e88-4ada-bd09-76fdc2ba6238",
   "metadata": {},
   "source": [
    "## Constant"
   ]
  },
  {
   "cell_type": "markdown",
   "id": "017c884d-cdbd-4252-9420-7429c1c40c8c",
   "metadata": {},
   "source": [
    "Next we constitute the dictionaries for `constant/` directory.\n",
    "\n",
    "The first one is `chemicalProperties` for which the most important point is the choice of `seulex` as stiff ODE solver."
   ]
  },
  {
   "cell_type": "code",
   "execution_count": 21,
   "id": "d108f6bc-7a35-4d4e-b317-b27083702c22",
   "metadata": {},
   "outputs": [],
   "source": [
    "body_chemistryProperties = \"\"\"\\\n",
    "chemistryType\n",
    "{\n",
    "    chemistrySolver  ode;\n",
    "    chemistryThermo  psi;\n",
    "    TDAC             off;\n",
    "}\n",
    "\n",
    "chemistry            on;\n",
    "\n",
    "importantSpecies\n",
    "{\n",
    "    C2H2;\n",
    "    C4H2;\n",
    "    C4H4;\n",
    "    CH4;\n",
    "    H2;\n",
    "}\n",
    "\n",
    "initialChemicalTimeStep 1.0e-07;\n",
    "\n",
    "odeCoeffs\n",
    "{\n",
    "    solver          seulex;\n",
    "    absTol          1.0e-12;\n",
    "    relTol          1.0e-03;\n",
    "}\n",
    "\"\"\""
   ]
  },
  {
   "cell_type": "markdown",
   "id": "4a6bb56e-4215-4efb-b25b-943584d48868",
   "metadata": {},
   "source": [
    "Given the low speeds and low pressure of the problem a laminar model is created.\n",
    "\n",
    "In `combustionProperties` we set `active` to `true`, otherwise chemistry is not solved. I find this particularly intriguing because in `chemistryProperties` we have already a flag `chemistry` to turn it on/off. Need to clarify why both are required."
   ]
  },
  {
   "cell_type": "code",
   "execution_count": 22,
   "id": "7e8dbbcb-92bd-4ab7-b89d-613b60060e03",
   "metadata": {},
   "outputs": [],
   "source": [
    "body_turbulenceProperties = \"\"\"\\\n",
    "simulationType  laminar;\n",
    "\"\"\"\n",
    "\n",
    "body_combustionProperties = \"\"\"\\\n",
    "combustionModel laminar;\n",
    "\n",
    "active          true;\n",
    "\"\"\""
   ]
  },
  {
   "cell_type": "markdown",
   "id": "ec50db65-747e-48db-8f9f-11f6bb7c77be",
   "metadata": {},
   "source": [
    "Finally we set gravity on vertical axis and the `thermophysicalProperties` file, which points to the mechanism and thermodynamic properties files.\n",
    "\n",
    "Transport properties are composition dependent through a Sutherland model and thermodynamic properties are provided by JANAF polynomials."
   ]
  },
  {
   "cell_type": "code",
   "execution_count": 23,
   "id": "899fe85c-2120-43a7-ab7b-89b4e807dc23",
   "metadata": {},
   "outputs": [],
   "source": [
    "body_g = fu.gravity_file(\"y\")\n",
    "\n",
    "body_thermophysicalProperties = \"\"\"\\\n",
    "thermoType\n",
    "{\n",
    "    type            hePsiThermo;\n",
    "    mixture         reactingMixture;\n",
    "    transport       sutherland;\n",
    "    thermo          janaf;\n",
    "    energy          sensibleEnthalpy;\n",
    "    equationOfState perfectGas;\n",
    "    specie          specie;\n",
    "}\n",
    "\n",
    "inertSpecie N2;\n",
    "\n",
    "chemistryReader         foamChemistryReader;\n",
    "foamChemistryFile       \"<constant>/reactions\";\n",
    "foamChemistryThermoFile \"<constant>/thermo\";\n",
    "\"\"\""
   ]
  },
  {
   "cell_type": "markdown",
   "id": "4e4448a9-31bf-4484-90fa-a65b2fc6c10a",
   "metadata": {},
   "source": [
    "## System"
   ]
  },
  {
   "cell_type": "markdown",
   "id": "692885c5-245b-48c5-9daf-f5cbe60a6e46",
   "metadata": {},
   "source": [
    "In `controlDict` we set a small time-step required for properly integrating chemistry initially.\n",
    "\n",
    "Actually `reactingFoam` will perform a pseudo-time-stepping and while adjusting to keep Courant number below 0.25 it will eventually converge to steady state.\n",
    "\n",
    "That is the reason why we use a high `endTime`: interpret each time step as an iteration, it is not physically right (unless you keep time-step as low as the stiffness of your case requires, here it would be about 1.0e-07 and computation would take forever)."
   ]
  },
  {
   "cell_type": "code",
   "execution_count": 24,
   "id": "931cd526-3d0f-4fef-96ab-d0bf7637f470",
   "metadata": {},
   "outputs": [],
   "source": [
    "body_controlDict = \"\"\"\\\n",
    "application       reactingFoam;\n",
    "\n",
    "startFrom         latestTime;\n",
    "\n",
    "startTime         0;\n",
    "\n",
    "stopAt            endTime;\n",
    "\n",
    "endTime           200.0;\n",
    "\n",
    "deltaT            1.0e-05;\n",
    "\n",
    "writeControl      runTime;\n",
    "\n",
    "writeInterval     10;\n",
    "\n",
    "purgeWrite        0;\n",
    "\n",
    "writeFormat       ascii;\n",
    "\n",
    "writePrecision    6;\n",
    "\n",
    "writeCompression  off;\n",
    "\n",
    "timeFormat        fixed;\n",
    "\n",
    "timePrecision     5;\n",
    "\n",
    "runTimeModifiable true;\n",
    "\n",
    "maxCo             0.25;\n",
    "\n",
    "adjustTimeStep    yes;\n",
    "\"\"\""
   ]
  },
  {
   "cell_type": "markdown",
   "id": "1ff93e07-33ed-41e6-aad9-732b1a4da7bc",
   "metadata": {},
   "source": [
    "Regarding `fvSchemes` we use an implicit time-stepping with `backward` for improved stability and limited divergent schemes in most cases."
   ]
  },
  {
   "cell_type": "code",
   "execution_count": 25,
   "id": "60e9cd6e-c55e-4cb7-b537-9a324c3cc541",
   "metadata": {},
   "outputs": [],
   "source": [
    "body_fvSchemes = \"\"\"\\\n",
    "ddtSchemes\n",
    "{\n",
    "    default          backward;\n",
    "}\n",
    "\n",
    "gradSchemes\n",
    "{\n",
    "    default          Gauss linear;\n",
    "}\n",
    "\n",
    "divSchemes\n",
    "{\n",
    "    default          none;\n",
    "    div(phid,p)      Gauss limitedLinear   1;\n",
    "    div(phi,U)       Gauss limitedLinearV  1;\n",
    "    div(phi,K)       Gauss limitedLinear   1;\n",
    "    div(phi,Yi_h)    Gauss limitedLinear01 1;\n",
    "    div(((rho*nuEff)*dev2(T(grad(U))))) Gauss linear;\n",
    "}\n",
    "\n",
    "laplacianSchemes\n",
    "{\n",
    "    default          Gauss linear orthogonal;\n",
    "}\n",
    "\n",
    "interpolationSchemes\n",
    "{\n",
    "    default          linear;\n",
    "}\n",
    "\n",
    "snGradSchemes\n",
    "{\n",
    "    default          orthogonal;\n",
    "}\n",
    "\"\"\""
   ]
  },
  {
   "cell_type": "markdown",
   "id": "bd598d18-6f60-4992-8c9e-e1a065168236",
   "metadata": {},
   "source": [
    "For `fvSolution` we tighten convergence criteria for species and energy.\n",
    "\n",
    "Configuration of PIMPLE remains mostly standard."
   ]
  },
  {
   "cell_type": "code",
   "execution_count": 26,
   "id": "3f244765-1128-4a6f-a53f-c23330b0ba54",
   "metadata": {},
   "outputs": [],
   "source": [
    "body_fvSolution = \"\"\"\\\n",
    "solvers\n",
    "{\n",
    "    \"rho.*\"\n",
    "    {\n",
    "        solver          diagonal;\n",
    "    }\n",
    "\n",
    "    p\n",
    "    {\n",
    "        solver          PCG;\n",
    "        preconditioner  DIC;\n",
    "        tolerance       1.0e-06;\n",
    "        relTol          0.01;\n",
    "    }\n",
    "\n",
    "    pFinal\n",
    "    {\n",
    "        $p;\n",
    "        relTol          0;\n",
    "    }\n",
    "\n",
    "    U\n",
    "    {\n",
    "        solver          PBiCGStab;\n",
    "        preconditioner  DILU;\n",
    "        tolerance       1.0e-06;\n",
    "        relTol          0.1;\n",
    "    }\n",
    "\n",
    "    UFinal\n",
    "    {\n",
    "        solver          PBiCGStab;\n",
    "        preconditioner  DILU;\n",
    "        tolerance       1.0e-06;\n",
    "        relTol          0;\n",
    "    }\n",
    "\n",
    "    h\n",
    "    {\n",
    "        solver          PBiCGStab;\n",
    "        preconditioner  DILU;\n",
    "        tolerance       1.0e-07;\n",
    "        relTol          0.1;\n",
    "    }\n",
    "\n",
    "    hFinal\n",
    "    {\n",
    "        solver          PBiCGStab;\n",
    "        preconditioner  DILU;\n",
    "        tolerance       1.0e-09;\n",
    "        relTol          0;\n",
    "    }\n",
    "    \n",
    "    Yi\n",
    "    {\n",
    "        solver          PBiCGStab;\n",
    "        preconditioner  DILU;\n",
    "        tolerance       1.0e-12;\n",
    "        relTol          0.01;\n",
    "    }\n",
    "}\n",
    "\n",
    "PIMPLE\n",
    "{\n",
    "    momentumPredictor        no;\n",
    "    nOuterCorrectors         1;\n",
    "    nCorrectors              2;\n",
    "    nNonOrthogonalCorrectors 0;\n",
    "\n",
    "    maxDeltaT                1.0e-03;\n",
    "    maxCo                    0.25;\n",
    "    alphaTemp                0.05;\n",
    "    alphaY                   0.05;\n",
    "    Yref\n",
    "    {\n",
    "        N2                   0.6;\n",
    "        H2                   0.1;\n",
    "        C2H2                 0.3;\n",
    "    }\n",
    "    rDeltaTSmoothingCoeff    0.025;\n",
    "    rDeltaTDampingCoeff      1;\n",
    "}\n",
    "\n",
    "relaxationFactors\n",
    "{\n",
    "    fields\n",
    "    {\n",
    "        p                    0.3;\n",
    "    }\n",
    "    equations\n",
    "    {\n",
    "        U                    0.7;\n",
    "        \".*\"                 0.4;\n",
    "    }\n",
    "}\n",
    "\"\"\""
   ]
  },
  {
   "cell_type": "markdown",
   "id": "70f4d3ae-8280-4026-9085-8780c3977b6b",
   "metadata": {},
   "source": [
    "It is unrealistic to simulate chemical kinetics without parallelism.\n",
    "\n",
    "Here we split the system in 4 processors along the flow direction, leading to 3 interfaces."
   ]
  },
  {
   "cell_type": "code",
   "execution_count": 27,
   "id": "7a2813d3-cc87-44c6-86b3-5afaa10616f0",
   "metadata": {},
   "outputs": [],
   "source": [
    "body_decomposeParDict = \"\"\"\\\n",
    "numberOfSubdomains  4;\n",
    "\n",
    "method              hierarchical;\n",
    "\n",
    "coeffs\n",
    "{\n",
    "    n               (4 1 1);\n",
    "}\n",
    "\"\"\""
   ]
  },
  {
   "cell_type": "markdown",
   "id": "335f99b0-ffb2-4c43-bd4a-c87c5aba7850",
   "metadata": {
    "tags": []
   },
   "source": [
    "## Generate case"
   ]
  },
  {
   "cell_type": "code",
   "execution_count": 28,
   "id": "8a533024-4f45-46fd-9ce4-eac9e234ed5b",
   "metadata": {},
   "outputs": [],
   "source": [
    "source = \"/usr/lib/openfoam/openfoam2106/etc/bashrc\""
   ]
  },
  {
   "cell_type": "code",
   "execution_count": 29,
   "id": "ca48b235-86c9-499e-b6b5-99e8631f65e0",
   "metadata": {},
   "outputs": [],
   "source": [
    "fu.make_file(case, \"0.00000\",  \"p\",                        body_p)\n",
    "fu.make_file(case, \"0.00000\",  \"U\",                        body_U)\n",
    "fu.make_file(case, \"0.00000\",  \"T\",                        body_T)\n",
    "fu.make_file(case, \"0.00000\",  \"C2H2\",                     body_C2H2,     class_type=\"scalar\")\n",
    "fu.make_file(case, \"0.00000\",  \"CH3COCH3\",                 body_CH3COCH3, class_type=\"scalar\")\n",
    "fu.make_file(case, \"0.00000\",  \"CH4\",                      body_CH4,      class_type=\"scalar\")\n",
    "fu.make_file(case, \"0.00000\",  \"N2\",                       body_N2,       class_type=\"scalar\")\n",
    "fu.make_file(case, \"0.00000\",  \"Ydefault\",                 body_Ydefault, class_type=\"scalar\")\n",
    "fu.make_file(case, \"constant\", \"chemistryProperties\",      body_chemistryProperties)\n",
    "fu.make_file(case, \"constant\", \"combustionProperties\",     body_combustionProperties)\n",
    "fu.make_file(case, \"constant\", \"g\",                        body_g)\n",
    "fu.make_file(case, \"constant\", \"thermophysicalProperties\", body_thermophysicalProperties)\n",
    "fu.make_file(case, \"constant\", \"turbulenceProperties\",     body_turbulenceProperties)\n",
    "fu.make_file(case, \"system\",   \"controlDict\",              body_controlDict)\n",
    "fu.make_file(case, \"system\",   \"decomposeParDict\",         body_decomposeParDict)\n",
    "fu.make_file(case, \"system\",   \"fvSchemes\",                body_fvSchemes)\n",
    "fu.make_file(case, \"system\",   \"fvSolution\",               body_fvSolution)\n",
    "    \n",
    "_ = shutil.copy(case_mesh_of, f\"{case}/mesh.msh\")\n",
    "_ = shutil.copy(case_mech_of, f\"{case}/constant/reactions\")\n",
    "_ = shutil.copy(case_ther_of, f\"{case}/constant/thermo\")"
   ]
  },
  {
   "cell_type": "markdown",
   "id": "4b0afe79-fba9-4fe3-babe-7a5bfb1145fe",
   "metadata": {},
   "source": [
    "We still need to convert mesh to OpenFOAM format with `gmshToFoam`."
   ]
  },
  {
   "cell_type": "code",
   "execution_count": 30,
   "id": "889ff894-ff5f-4366-8a3d-88ae9043e2d1",
   "metadata": {},
   "outputs": [
    {
     "name": "stdout",
     "output_type": "stream",
     "text": [
      "Running from cases/foam-day-16-tutorial-02-pyrolysis_12\n"
     ]
    }
   ],
   "source": [
    "cfd.run_cmd(case, \"log.gmshToFoam\",\n",
    "            f\". {source} && gmshToFoam mesh.msh\")"
   ]
  },
  {
   "cell_type": "markdown",
   "id": "2de11486-9e9e-4497-beeb-cf575bd5fa0f",
   "metadata": {},
   "source": [
    "It is good practice to check mesh quality and keep a report of it with `checkMesh`."
   ]
  },
  {
   "cell_type": "code",
   "execution_count": 31,
   "id": "0bd97010-54dd-4925-9748-aae74fe94a0e",
   "metadata": {},
   "outputs": [
    {
     "name": "stdout",
     "output_type": "stream",
     "text": [
      "Running from cases/foam-day-16-tutorial-02-pyrolysis_12\n"
     ]
    }
   ],
   "source": [
    "cfd.run_cmd(case, \"log.checkMesh\",\n",
    "            f\". {source} && checkMesh\")"
   ]
  },
  {
   "cell_type": "markdown",
   "id": "f645521b-97dd-4095-9491-47ecd4a656b4",
   "metadata": {},
   "source": [
    "File `constant/polyMesh/boundary` has to be edited to declare the wedges.\n",
    "\n",
    "This can be done with `pyFoamChangeBoundaryType.py` from `pyfoam` package."
   ]
  },
  {
   "cell_type": "code",
   "execution_count": 32,
   "id": "31aeca4b-763a-4922-b79e-619d736ae09a",
   "metadata": {},
   "outputs": [
    {
     "name": "stdout",
     "output_type": "stream",
     "text": [
      "Running from cases/foam-day-16-tutorial-02-pyrolysis_12\n",
      "Running from cases/foam-day-16-tutorial-02-pyrolysis_12\n"
     ]
    }
   ],
   "source": [
    "cfd.run_cmd(case, \"log.pyFoamChangeBoundaryTypeFront\",\n",
    "            f\". {source} && pyFoamChangeBoundaryType.py . front wedge\")\n",
    "cfd.run_cmd(case, \"log.pyFoamChangeBoundaryTypeBack\",\n",
    "            f\". {source} && pyFoamChangeBoundaryType.py . back  wedge\")"
   ]
  },
  {
   "cell_type": "markdown",
   "id": "e7fe45e6-81bd-4be9-afbb-ec642c5455a7",
   "metadata": {},
   "source": [
    "Decomposition of domain over multiple processors is reached with `decomposePar`."
   ]
  },
  {
   "cell_type": "code",
   "execution_count": 33,
   "id": "2ef8ffdb-2573-467e-b72b-4d9368faac92",
   "metadata": {},
   "outputs": [
    {
     "name": "stdout",
     "output_type": "stream",
     "text": [
      "Running from cases/foam-day-16-tutorial-02-pyrolysis_12\n"
     ]
    }
   ],
   "source": [
    "cfd.run_cmd(case, \"log.decomposePar\",\n",
    "            f\". {source} && decomposePar\")"
   ]
  },
  {
   "cell_type": "markdown",
   "id": "60612820-74f1-4efa-bd71-1365d28b99ab",
   "metadata": {},
   "source": [
    "Finally the case is ready to be launched though `mpirun` or alternatively with `foamJob`.\n",
    "\n",
    "You can generate XY data for plotting convergence by running `foamLog log.reactingFoam`."
   ]
  },
  {
   "cell_type": "code",
   "execution_count": 34,
   "id": "5a515b70-dc6c-4863-ae38-d09da6b79ad1",
   "metadata": {},
   "outputs": [
    {
     "name": "stdout",
     "output_type": "stream",
     "text": [
      "Running from cases/foam-day-16-tutorial-02-pyrolysis_12\n"
     ]
    }
   ],
   "source": [
    "cfd.run_cmd(case, \"log.reactingFoam\",\n",
    "            f\". {source} && mpirun -np 4 reactingFoam -parallel &\",\n",
    "            mode=\"a\")"
   ]
  },
  {
   "cell_type": "markdown",
   "id": "df2e7668-88e5-4073-b41a-41840f86ec3a",
   "metadata": {
    "tags": []
   },
   "source": [
    "## Post-processing"
   ]
  },
  {
   "cell_type": "markdown",
   "id": "0506c451-0f5b-4b5f-b219-0fdfab4224cf",
   "metadata": {},
   "source": [
    "Chemical composition units output by `reactingFoam` are not convenient for analysis.\n",
    "\n",
    "Below we make use of Cantera to perform conversion of compositions into mole fractions."
   ]
  },
  {
   "cell_type": "code",
   "execution_count": 35,
   "id": "58e00901-5ad7-43fb-a11b-bae5c7566911",
   "metadata": {},
   "outputs": [],
   "source": [
    "def run_post_processing(latest_step):\n",
    "    \"\"\" Post-process case data and return its VTK mesh. \"\"\"\n",
    "    mesh = pv.read(latest_step)\n",
    "    \n",
    "    print(f\"Processing {latest_step}\")\n",
    "    print(f\"Time = {mesh['TimeValue'][0]}\")\n",
    "    \n",
    "    # With T straight it doesn't work (maybe transposal?)!\n",
    "    mesh.point_data[\"Temperature [K]\"] = np.array(mesh.point_data[\"T\"])\n",
    "    mesh.point_data[\"Velocity-X [m/s]\"] = np.array(mesh.point_data[\"U\"][:, 0])\n",
    "\n",
    "    gas = ct.Solution(case_mech_ct)\n",
    "    mass_frac_df = pd.DataFrame({species: mesh.point_data[species] \n",
    "                                 for species in gas.species_names})\n",
    "    mass_frac_df[\"T\"] = mesh.point_data[\"T\"]\n",
    "    mass_frac_df[\"P\"] = mesh.point_data[\"p\"]\n",
    "\n",
    "    mole_frac_df = []\n",
    "    for k, row in mass_frac_df.iterrows():\n",
    "        gas.TPY = row[\"T\"], row[\"P\"], row[gas.species_names]\n",
    "        mole_frac_df.append(gas.mole_fraction_dict())\n",
    "\n",
    "    mole_frac_df = pd.DataFrame(mole_frac_df)\n",
    "\n",
    "    for species in mole_frac_df.columns:\n",
    "        mesh.point_data[f\"X({species})\"] = mole_frac_df[species].to_numpy()\n",
    "        \n",
    "    return mesh"
   ]
  },
  {
   "cell_type": "markdown",
   "id": "ea269dbe-8ce4-468f-bb9a-ea670e773f98",
   "metadata": {},
   "source": [
    "These elements constitute de final result, which can now be visualized."
   ]
  },
  {
   "cell_type": "code",
   "execution_count": 36,
   "id": "c736d1bb-678c-4a6f-907e-85045de4804b",
   "metadata": {},
   "outputs": [],
   "source": [
    "def display_results(latest_step):\n",
    "    \"\"\" Generate solution plots for analysis of results. \"\"\"\n",
    "    cpos = ((0.3, 0.006, 1.0),\n",
    "            (0.3, 0.006, 0.0),\n",
    "            (0.0, 0.0, 0.0))\n",
    "\n",
    "    opts = dict(\n",
    "        cmap=\"jet\",\n",
    "        pbr=False,\n",
    "        scalar_bar_args=dict(\n",
    "            height=0.1,\n",
    "            width=0.9, \n",
    "            vertical=False, \n",
    "            position_x=0.05,\n",
    "            position_y=0.12,\n",
    "            color=\"w\",\n",
    "            n_colors=12,\n",
    "            n_labels=7,\n",
    "            fmt=\"%.3f\"\n",
    "        )\n",
    "    )\n",
    "\n",
    "    lopts = dict(color=\"k\", line_width=1)\n",
    "\n",
    "    mesh = run_post_processing(latest_step)\n",
    "    midplane = mesh.slice(normal=[0, 0, 1])\n",
    "\n",
    "    p = pv.Plotter(shape=\"2|2\", notebook=True)\n",
    "    p.set_background(color=\"k\")\n",
    "\n",
    "    p.subplot(0)\n",
    "    opts[\"scalar_bar_args\"][\"fmt\"] = \"%.2f\"\n",
    "    p.add_mesh(midplane.copy(), **opts, scalars=\"Velocity-X [m/s]\")\n",
    "    p.add_mesh(midplane.contour(10, scalars=\"Velocity-X [m/s]\"), **lopts)\n",
    "\n",
    "    p.subplot(1)\n",
    "    opts[\"scalar_bar_args\"][\"fmt\"] = \"%.3f\"\n",
    "    p.add_mesh(midplane.copy(), **opts, scalars=\"X(C2H2)\")\n",
    "    p.add_mesh(midplane.contour(10, scalars=\"X(C2H2)\"), **lopts)\n",
    "\n",
    "    p.subplot(2)\n",
    "    opts[\"scalar_bar_args\"][\"fmt\"] = \"%.4f\"\n",
    "    p.add_mesh(midplane.copy(), **opts, scalars=\"X(H2)\")\n",
    "    p.add_mesh(midplane.contour(10, scalars=\"X(H2)\"), **lopts)\n",
    "\n",
    "    p.subplot(3)\n",
    "    opts[\"scalar_bar_args\"][\"fmt\"] = \"%.0f\"\n",
    "    p.add_mesh(midplane.copy(), **opts, scalars=\"Temperature [K]\")\n",
    "    p.add_mesh(midplane.contour(5, scalars=\"Temperature [K]\"), **lopts)\n",
    "\n",
    "    p.link_views()\n",
    "    p.camera.model_transform_matrix = np.diag([1, 20, 1, 1])\n",
    "    p.show(cpos=cpos)\n",
    "\n",
    "    imsave(f\"media/foam-day-16-tutorial-02-pyrolysis_{selected}.png\", p.image)\n",
    "    \n",
    "    return mesh"
   ]
  },
  {
   "cell_type": "code",
   "execution_count": 37,
   "id": "a70e15c1-8704-4d62-b34a-202b63776cee",
   "metadata": {},
   "outputs": [
    {
     "ename": "AssertionError",
     "evalue": "Manually run the next commands",
     "output_type": "error",
     "traceback": [
      "\u001b[0;31m---------------------------------------------------------------------------\u001b[0m",
      "\u001b[0;31mAssertionError\u001b[0m                            Traceback (most recent call last)",
      "\u001b[0;32m/tmp/ipykernel_2306/2196284289.py\u001b[0m in \u001b[0;36m<module>\u001b[0;34m\u001b[0m\n\u001b[1;32m      1\u001b[0m \u001b[0;31m# Keep this here to prevent automatic execution\u001b[0m\u001b[0;34m\u001b[0m\u001b[0;34m\u001b[0m\u001b[0m\n\u001b[0;32m----> 2\u001b[0;31m \u001b[0;32massert\u001b[0m \u001b[0;32mFalse\u001b[0m\u001b[0;34m,\u001b[0m \u001b[0;34m\"Manually run the next commands\"\u001b[0m\u001b[0;34m\u001b[0m\u001b[0;34m\u001b[0m\u001b[0m\n\u001b[0m",
      "\u001b[0;31mAssertionError\u001b[0m: Manually run the next commands"
     ]
    }
   ],
   "source": [
    "# Keep this here to prevent automatic execution\n",
    "assert False, \"Manually run the next commands\""
   ]
  },
  {
   "cell_type": "markdown",
   "id": "17140e63-260f-455b-8628-1a532ed4c965",
   "metadata": {},
   "source": [
    "To provide full system visualization we need to run `reconstructPar`.\n",
    "\n",
    "Option `-newTimes` is provided to process only those steps not already converted.\n",
    "\n",
    "Since post-processing is carried out with `pyvista` we convert all files to `VTK` format with `foamToVTK`.\n",
    "\n",
    "Notice that option `-newTimes` is not available in this case and we convert only the latest."
   ]
  },
  {
   "cell_type": "code",
   "execution_count": null,
   "id": "d3d600b7-c906-4cb3-b395-f118961bb5eb",
   "metadata": {},
   "outputs": [
    {
     "name": "stdout",
     "output_type": "stream",
     "text": [
      "Running from cases/foam-day-16-tutorial-02-pyrolysis_12\n",
      "Running from cases/foam-day-16-tutorial-02-pyrolysis_12\n",
      "Processing cases/foam-day-16-tutorial-02-pyrolysis_12/VTK/foam-day-16-tutorial-02-pyrolysis_12_97681/internal.vtu\n",
      "Time = 219.9995574951172\n"
     ]
    }
   ],
   "source": [
    "cfd.run_cmd(case, \"log.reconstructPar\",\n",
    "            f\". {source} && reconstructPar -newTimes\")\n",
    "\n",
    "cfd.run_cmd(case, \"log.foamToVTK\",\n",
    "            f\". {source} && foamToVTK -latestTime\")\n",
    "\n",
    "vtk_files = Path(case) / \"VTK\"\n",
    "latest_step = [str(f) for f in vtk_files.iterdir() if f.is_dir()]\n",
    "latest_step.sort(key=lambda f: int(re.sub('\\D', '', f)))\n",
    "\n",
    "mesh = display_results(latest_step[-1] + \"/internal.vtu\")"
   ]
  },
  {
   "cell_type": "code",
   "execution_count": null,
   "id": "e20b6731-0f71-490a-8ec4-cf09f0fdca73",
   "metadata": {},
   "outputs": [],
   "source": [
    "# Uncomment next line to inspect mesh data.\n",
    "# mesh"
   ]
  },
  {
   "cell_type": "markdown",
   "id": "8604f977-860e-4b49-bf15-71279d7578b0",
   "metadata": {},
   "source": [
    "## Final remarks"
   ]
  },
  {
   "cell_type": "markdown",
   "id": "b911e2fb-6ce9-4280-805b-814a51973bad",
   "metadata": {},
   "source": [
    "This notebook illustrated an end-to-end project of chemically reacting flows.\n",
    "\n",
    "Hope you have enjoyed, see you next time!"
   ]
  }
 ],
 "metadata": {
  "kernelspec": {
   "display_name": "Python 3 (ipykernel)",
   "language": "python",
   "name": "python3"
  },
  "language_info": {
   "codemirror_mode": {
    "name": "ipython",
    "version": 3
   },
   "file_extension": ".py",
   "mimetype": "text/x-python",
   "name": "python",
   "nbconvert_exporter": "python",
   "pygments_lexer": "ipython3",
   "version": "3.9.9"
  }
 },
 "nbformat": 4,
 "nbformat_minor": 5
}
