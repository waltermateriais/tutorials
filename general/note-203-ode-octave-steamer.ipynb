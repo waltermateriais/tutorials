{
 "cells": [
  {
   "cell_type": "markdown",
   "id": "11fe74f0-ece9-42d2-a5a4-7c823b6d9b7b",
   "metadata": {},
   "source": [
    "# Constant level steam boiler"
   ]
  },
  {
   "cell_type": "markdown",
   "id": "518609ac-202b-4e0f-86ce-7967d67afe04",
   "metadata": {},
   "source": [
    "## General model description\n",
    "\n",
    "In this notebook we develop a global naïve steam generation model that represents the evaporation in a constant level (i.e. same internal mass) boiler. Physics is uncomplete but anyways the model is useful in some practical scenarios. If willing to go deeper, one needs to account for water partial pressure in gas above liquid level and the volume of the fed system, and also gas-liquid phase equilibria calculation. Here we keep only the solution of heat equation assuming that above a certaing temperature $T_{b}$ all heat is used to produce phase change and. The following equation accounts for the derivative of temperature below $T_{b}$ and denotes the terms account for energy entering the system (in) and leaving the system (out):\n",
    "\n",
    "$$\n",
    "m c_{p}\\dot{T} = \n",
    "    \\big(u + g c_{p}T_{0}\\big)_{in} - \n",
    "    \\big(g L_{h} + h \\left(T - T_{\\infty}\\right)\\big)_{out}\n",
    "$$\n",
    "\n",
    "In this equation $m$ is the mass of water in the container, $c_{p}$ its specific heat in mass units, $T_{0}$ is water inlet temperature, $u$ the external power input, $g$ the mass flow rate of water feeding the system, $L_{h}$ is water latent heat at ebulition temperature and $T_{\\infty}$ is the environment temperature so that $T_{\\infty} \\le T_{b}$."
   ]
  },
  {
   "cell_type": "markdown",
   "id": "652683e0-f47d-4b97-a204-22893ec98f95",
   "metadata": {},
   "source": [
    "## Formulation at constant level\n",
    "\n",
    "Once $T$ reaches $T_{b}$, since it is a pure substance, phase change takes place at constant temperature. It is assumed that the rate of evaporation is compensated by an equivalent flow $g$ so that system is helt at constant level. Setting the left-hand side of the above equation to zero and solving for $g$ one produces:\n",
    "\n",
    "$$\n",
    "g = \\frac{u - h \\left(T - T_{\\infty}\\right)}{c_{p}T_{(0)} - L_{h}} = v M_{w}\n",
    "\\quad\\implies\\quad\n",
    "v = \\frac{1}{M_{w}}\\frac{u - h \\left(T - T_{\\infty}\\right)}{c_{p}T_{(0)} - L_{h}}\n",
    "$$\n",
    "\n",
    "For working with chemistry it is often use mole units thus here we convert the mass flow rate $g$ into a molar flow rate $v$ through the water molar mass $M_{w}$. Since for $T<T_{b}$ there will be no water flow in the system (assuming evaporation can be neglected), the flow term $g$ can be removed from temperature equation and the following system of equations models the problem:\n",
    "\n",
    "\\begin{align}\n",
    "    m c_{p}\\dot{T} & = H(T_{b} - T) \\left[u - h \\left(T - T_{\\infty}\\right)\\right]\n",
    "    \\\\[6pt]\n",
    "    v              & = H(T - T_{b}) \\left[\n",
    "                         \\frac{1}{M_{w}}\n",
    "                         \\frac{u - h \\left(T - T_{\\infty}\\right)}{c_{p}T_{(0)} - L_{h}}\n",
    "                       \\right]\n",
    "\\end{align}\n",
    "\n",
    "In the above equations we have introduced two Heaviside functions to enforce the domain of each equation, ensuring derivative is zero above $T_{b}$ and activating ebulition with rate $v$."
   ]
  },
  {
   "cell_type": "markdown",
   "id": "1380c54c-dc4a-439c-ad7a-9106859d5145",
   "metadata": {},
   "source": [
    "## Reworking for numerical representation\n",
    "\n",
    "Equations can be further simplified by introducing the following reduced temperature transforms:\n",
    "\n",
    "\\begin{align}\n",
    "    \\theta     & = T - T_{\\infty}\\implies \\dot{T} = \\dot{\\theta} \\\\[6pt]\n",
    "    \\theta_{b} & = T_{b} - T_{\\infty}\n",
    "\\end{align}\n",
    "\n",
    "One can also benefit from the terms representing thermal inertia in the systems for simplification:\n",
    "\n",
    "\\begin{align}\n",
    "    c_{\\theta} & = \\big(m c_{p}\\big)^{-1}                                \\\\[6pt]\n",
    "    c_{v}      & = \\big(M_{w}(c_{p}T_{(0)} - L_{h})\\big)^{-1}\n",
    "\\end{align}\n",
    "\n",
    "And the system of equations is reduced to:\n",
    "\n",
    "\\begin{align}\n",
    "    \\dot{\\theta} & = H(\\theta_{b} - \\theta)c_{\\theta}\\left[u - h \\theta\\right]\n",
    "    \\\\[6pt]\n",
    "    v            & = H(\\theta - \\theta_{b})c_{v}\\left[u - h \\theta\\right]\n",
    "\\end{align}\n",
    "\n",
    "Evaporation rate $v$ can be inversed to find out the required power $\\tilde{u}$ to produce a given rate of production of steam:\n",
    "\n",
    "\\begin{equation}\n",
    "    \\tilde{u} = h\\theta + \\frac{v}{c_{v}}\n",
    "\\end{equation}"
   ]
  },
  {
   "cell_type": "markdown",
   "id": "4c227efb-c95a-420c-98fb-fe502fa06825",
   "metadata": {},
   "source": [
    "## Problem parameters\n",
    "\n",
    "There are four sets of parameters that arise from this this formulation: water physical constants (heat capacity, latent heat, molar mass, boiling temperature), boiler related dimensions (water mass, global heat transfer coefficient, implicitly - we discuss later - nominal power), environment characteristics (water inlet reference temperature, environment temperature), and process related parameters, as discussed in what follows.\n",
    "\n",
    "### Physical constants"
   ]
  },
  {
   "cell_type": "code",
   "execution_count": 1,
   "id": "fdc420fd-e804-4974-a3ab-d17f84ff576b",
   "metadata": {},
   "outputs": [],
   "source": [
    "% Water molecular weight [kg/mol].\n",
    "global WaterMolecularWeight = 0.018;\n",
    "\n",
    "% Water boiling latent heat [J/kg].\n",
    "global WaterBoilLatentHeat = 2256000;\n",
    "\n",
    "% Water heat capacity [J/(kg.K)].\n",
    "global WaterHeatCapacity = 4200;\n",
    "\n",
    "% Water boiling temperature [K].\n",
    "global WaterBoilingTemp = 373.15;"
   ]
  },
  {
   "cell_type": "markdown",
   "id": "9058477d-9571-4b75-8845-db93ae55a393",
   "metadata": {},
   "source": [
    "### Boiler related dimensions"
   ]
  },
  {
   "cell_type": "code",
   "execution_count": 2,
   "id": "7bf37da6-b554-4f3d-96be-f654d0a90da3",
   "metadata": {},
   "outputs": [],
   "source": [
    "% Boiler global heat transfer coefficient [W/K].\n",
    "global ParamBoilerHtc = 21.0;\n",
    "\n",
    "% Boiler water mass [kg].\n",
    "global ParamBoilerMass = 6.0;\n",
    "\n",
    "% Boiler nominal power [W].\n",
    "global ParamBoilerPower = 6800;"
   ]
  },
  {
   "cell_type": "markdown",
   "id": "7a327e9b-4e71-4162-9c9f-74f1ce05f57d",
   "metadata": {},
   "source": [
    "### Environment characteristics"
   ]
  },
  {
   "cell_type": "code",
   "execution_count": 3,
   "id": "bdae8457-cdc1-4538-96cc-6793ccf9ab19",
   "metadata": {},
   "outputs": [],
   "source": [
    "% Inlet water temperature [K].\n",
    "global ParamTempRef = 273.15;\n",
    "\n",
    "% Environment temperature [K].\n",
    "global ParamTempEnv = 298.15;"
   ]
  },
  {
   "cell_type": "markdown",
   "id": "643bb7f6-aedd-4f1d-890d-c5018b0b441f",
   "metadata": {},
   "source": [
    "### Process related parameters\n",
    "\n",
    "This last set of parameters was added for practical purposes which are not dealt with by the problem equations. For instance, given flow measurement precision or simply pressure drop in the system, there might be a minimum flow rate for which the boiler could work, so we added `WalterMinimumOutput`. For quickly reaching boiling temperature, the boiler might enforce a fixed fraction of its nominal power if no steam is being produced and for safety reasons that might be below the maximum value, what can be controlled through `ParamBoilerPowerStart`."
   ]
  },
  {
   "cell_type": "code",
   "execution_count": 4,
   "id": "279aab94-3269-495d-8267-2f67d3210f7a",
   "metadata": {},
   "outputs": [],
   "source": [
    "% Water minumum output [mol/s].\n",
    "global WaterMinimumOutput = 0.01;\n",
    "\n",
    "% Boiler fraction of power to start [-].\n",
    "global ParamBoilerPowerStart = 1.0;"
   ]
  },
  {
   "cell_type": "markdown",
   "id": "feba247c-c7a5-40a6-a97d-e27b4eefc61f",
   "metadata": {},
   "source": [
    "## Auxiliary quantities\n",
    "\n",
    "Now we define functions that produce quantities required by the main application program. To start with we compute the constant of inertia for ebulition $c_{v}$ as `ConstantCv` given by $c_{v}=\\big(M_{w}(c_{p}T_{(0)} - L_{h})\\big)^{-1}$."
   ]
  },
  {
   "cell_type": "code",
   "execution_count": 5,
   "id": "314979c2-8851-4508-883d-71164018a54a",
   "metadata": {},
   "outputs": [],
   "source": [
    "global ConstantCv = (WaterMolecularWeight * (\n",
    "    WaterBoilLatentHeat - WaterHeatCapacity * ParamTempRef))^(-1);"
   ]
  },
  {
   "cell_type": "markdown",
   "id": "cdd26166-71c8-417f-8ce5-eeeb708c508e",
   "metadata": {},
   "source": [
    "Following the trend we also compute $c_{\\theta} = \\big(m c_{p}\\big)^{-1}$ and make it accessible through `ConstantTheta`. "
   ]
  },
  {
   "cell_type": "code",
   "execution_count": 6,
   "id": "aa8df1dc-4ae8-4860-9fdf-5ee59c07b7c3",
   "metadata": {},
   "outputs": [],
   "source": [
    "global ConstantTheta = (ParamBoilerMass * WaterHeatCapacity)^(-1);"
   ]
  },
  {
   "cell_type": "markdown",
   "id": "a15e7c76-0d3a-4611-82da-f00729561e07",
   "metadata": {},
   "source": [
    "Finally we also need to compute total capacity of steam generation rate. "
   ]
  },
  {
   "cell_type": "code",
   "execution_count": 7,
   "id": "fa3b3de0-5f51-484a-a6cb-48b974a7b96e",
   "metadata": {},
   "outputs": [],
   "source": [
    "global BoilerSteamCap = ConstantCv * (ParamBoilerPower \n",
    "    - ParamBoilerHtc * (WaterBoilingTemp - ParamTempEnv))"
   ]
  },
  {
   "cell_type": "markdown",
   "id": "a50ee78d-f6e6-4a45-a7e9-8e8c8d0fe3fc",
   "metadata": {},
   "source": [
    "Since we added the flag `ParamSteamFlowIsPower` we need to handle the case where a desired evaporation rate is supplied and then is converted to power or when the steam flow value is already in power units. This is done by `RequestedFlowToPower` which computes $\\tilde{u} = h\\theta + v/c_{v}$ when necessary."
   ]
  },
  {
   "cell_type": "code",
   "execution_count": 8,
   "id": "5f41f047-35a4-470c-91a0-1d783c974b5d",
   "metadata": {},
   "outputs": [],
   "source": [
    "function u = RequestedFlowToPower(theta, steamFlow)\n",
    "    % Convert flow rate to power to feed boiler.\n",
    "    global ParamBoilerHtc;\n",
    "    global ConstantCv;\n",
    "\n",
    "    u = ParamBoilerHtc * theta + steamFlow / ConstantCv;\n",
    "end"
   ]
  },
  {
   "cell_type": "markdown",
   "id": "94313e18-4b0d-42aa-8791-d744225cf5da",
   "metadata": {},
   "source": [
    "Another function for the algebraic computation of boiler output flow rate $v=c_{v}\\left[u - h \\theta\\right]$ is provided in `BoilerOutputFlow`."
   ]
  },
  {
   "cell_type": "code",
   "execution_count": 9,
   "id": "8faae158-e839-4280-ac2d-e062a271ac56",
   "metadata": {},
   "outputs": [],
   "source": [
    "function v = BoilerOutputFlow(theta, u)\n",
    "    % Compute output from boiler in [mol/s].\n",
    "    global ConstantCv;\n",
    "    global ParamBoilerHtc;\n",
    "    \n",
    "    v = ConstantCv * (u - ParamBoilerHtc * theta);\n",
    "end"
   ]
  },
  {
   "cell_type": "markdown",
   "id": "384cd5a8-c302-418d-8a72-903ac918becd",
   "metadata": {},
   "source": [
    "The next function `ComposeCommand` is related to the process constraints we discussed above. First we check if power is supplied (or steam requested) and boiling temperature is not yet reached. In this case we use the allowed fraction of nominal power to quickly heat water with power `u` and steam output `v` equals zero. Otherwise we get the power and compute output. Remember that for practical reasons we might want the output to be forced to zero in below some required steam generation rate, what is also handled by a conditional evaluation."
   ]
  },
  {
   "cell_type": "code",
   "execution_count": 10,
   "id": "019d6765-bedc-4483-b0da-72e2009c7399",
   "metadata": {},
   "outputs": [],
   "source": [
    "function [u, v] = ComposeCommand(theta, steamFlow)\n",
    "    % Convert flow rate to power and ensure management.\n",
    "    global ParamTempEnv;\n",
    "    global WaterBoilingTemp;\n",
    "    global WaterMinimumOutput;\n",
    "    global ParamBoilerPowerStart;\n",
    "    global ParamBoilerPower;\n",
    "    \n",
    "    shouldHeatWater = steamFlow > 0;\n",
    "    notYetBoiling = theta + ParamTempEnv < WaterBoilingTemp;\n",
    "\n",
    "    if (notYetBoiling && shouldHeatWater)\n",
    "        u = ParamBoilerPowerStart * ParamBoilerPower;\n",
    "        v = 0.0;\n",
    "    else\n",
    "        u = RequestedFlowToPower(theta, steamFlow);\n",
    "        u = max(0, min(u, ParamBoilerPower));\n",
    "        v = BoilerOutputFlow(theta, u);\n",
    "\n",
    "        if (v <= WaterMinimumOutput)\n",
    "            u = 0;\n",
    "            v = 0;\n",
    "        end\n",
    "    end\n",
    "end"
   ]
  },
  {
   "cell_type": "markdown",
   "id": "56a425bc-3002-4ec1-a6ce-fdb1484b0ee9",
   "metadata": {},
   "source": [
    "## Main model and integration\n",
    "\n",
    "Finally we need to evaluate the temperature derivative $\\dot{\\theta} = c_{\\theta}\\left[u - h \\theta\\right]$ to be able to integrate the problem. If working in state space formulation this is generally done through an expression as $\\dot{y}=Ay + Bu$, where the derivative of $y$ depends on a linear transformation of current state $Ay$ and on an exogenous effect $Bu$. Making an analogy to our equation, $A = - c_{\\theta}h$ and $B = c_{\\theta}$. This formalism is useful because now it is easy to modify this model for inclusion of, for instant, reactor balances."
   ]
  },
  {
   "cell_type": "code",
   "execution_count": 11,
   "id": "9ef5a4da-b12c-4acf-81fc-c322f575d61a",
   "metadata": {},
   "outputs": [],
   "source": [
    "function [A, B] = ComputeCoefficients(u, theta)\n",
    "    % Compute state space matrices.\n",
    "    global ParamBoilerHtc;\n",
    "    global ParamTempEnv;\n",
    "    global WaterBoilingTemp;\n",
    "    global ConstantTheta;\n",
    "    \n",
    "    % TODO test if power is supplied too!\n",
    "    boilerIsOn = u >= ParamBoilerHtc * theta;\n",
    "    boilerBoils = theta + ParamTempEnv >= WaterBoilingTemp;\n",
    "\n",
    "    if (boilerIsOn && boilerBoils)\n",
    "        A = B = 0.0;\n",
    "    else\n",
    "        B = ConstantTheta;\n",
    "        A = -B * ParamBoilerHtc;\n",
    "    end\n",
    "end"
   ]
  },
  {
   "cell_type": "markdown",
   "id": "efcb4caa-c918-4f93-be1e-13d9f5cc77b1",
   "metadata": {},
   "source": [
    "To be able to evaluate our system we create a function that computes time-evolution and provides us with a table of results containing the columns:\n",
    "\n",
    "1. Physical time, in seconds,\n",
    "1. Boiler temperature, in kelvin,\n",
    "1. Required boiler power input, in watts,\n",
    "1. Required boiler output, in moles per second,\n",
    "1. Computed boiler output, in moles per second."
   ]
  },
  {
   "cell_type": "code",
   "execution_count": 12,
   "id": "88d1f838-8311-43c7-999c-83049f716ed5",
   "metadata": {},
   "outputs": [],
   "source": [
    "function sol = SimulateSystem(nSteps, timeStep, boilerTempIni, powerSupply)\n",
    "    % Simulate system dynamics with provided actions.\n",
    "    global ParamTempEnv;\n",
    "    global BoilerSteamCap;\n",
    "    \n",
    "    sol = zeros(nSteps, 5);\n",
    "    theta = boilerTempIni - ParamTempEnv;\n",
    "    \n",
    "    for t = 1:nSteps\n",
    "        mv = powerSupply(t) * BoilerSteamCap;\n",
    "        [u, v] = ComposeCommand(theta, mv);\n",
    "        sol(t, 1:end) = [(t - 1) * timeStep theta u mv v];\n",
    "\n",
    "        [A, B] = ComputeCoefficients(u, theta);\n",
    "        theta = theta + timeStep * (A * theta + B * u);\n",
    "    end\n",
    "end"
   ]
  },
  {
   "cell_type": "markdown",
   "id": "ebf87063-900f-4c69-810f-75d11756085e",
   "metadata": {},
   "source": [
    "We anticipate our post-processing needs by providing a function compatible with the outputs of `SimulateSystem`, so that we can always have standardized results display."
   ]
  },
  {
   "cell_type": "code",
   "execution_count": 13,
   "id": "aa54b23d-ec68-4cc9-b466-ba8124c3a9e6",
   "metadata": {},
   "outputs": [],
   "source": [
    "function PlotResponse(sol)\n",
    "    % PLOT RESPONSE\n",
    "    %   Display integrated solution in time.\n",
    "    global ParamTempEnv;\n",
    "    global ParamBoilerPower;\n",
    "    \n",
    "    t = sol(:, 1);\n",
    "    T = sol(:, 2) + ParamTempEnv;\n",
    "    P = sol(:, 3) * 100 / ParamBoilerPower;\n",
    "    U = sol(:, 4);\n",
    "    V = sol(:, 5);\n",
    "    \n",
    "    figure;\n",
    "\n",
    "    subplot(3, 1, 1);\n",
    "    plot(t, T, 'k', 'linewidth', 4); hold on;\n",
    "    grid on; set(gca, 'GridLineStyle', ':');\n",
    "    xlabel('Time [s]'); ylabel('Temperature [K]');\n",
    "\n",
    "    subplot(3, 1, 2);\n",
    "    plot(t, U, 'g', 'linewidth', 4); hold on;\n",
    "    plot(t, V, 'r', 'linewidth', 4); hold on;\n",
    "    grid on; set(gca, 'GridLineStyle', ':');\n",
    "    xlabel('Time [s]'); ylabel('Flow rate [mol/s]');\n",
    "    h = legend({'SP ', 'PV '});  \n",
    "    set(h, \"fontsize\", 6);\n",
    "    \n",
    "    subplot(3, 1, 3);\n",
    "    plot(t, P, 'r', 'linewidth', 4); hold on;\n",
    "    grid on; set(gca, 'GridLineStyle', ':');\n",
    "    xlabel('Time [s]'); ylabel('Relative power [%]');\n",
    "endfunction"
   ]
  },
  {
   "cell_type": "markdown",
   "id": "b685b385-610b-45ff-92eb-0058ba0033c9",
   "metadata": {},
   "source": [
    "## Application program\n",
    "\n",
    "So let's make a simple simulation. Starting with a boiler at ambient temperature, we apply some series of predefined steam output requirements to see what kind of steam output we can expect. All the physical parameters related to this boiler were already defined."
   ]
  },
  {
   "cell_type": "code",
   "execution_count": 14,
   "id": "64cf8fd4-6e72-4e68-a7dc-0f626e2799fc",
   "metadata": {},
   "outputs": [],
   "source": [
    "% Size of time step [s]\n",
    "timeStep = 1.0;\n",
    "\n",
    "% Number of steps in simulation.\n",
    "nSteps = 4000;\n",
    "\n",
    "% Initial temperature [K].\n",
    "boilerTempIni = 288.15;\n",
    "\n",
    "% Input power to boiler [-].\n",
    "powerSupply = zeros(nSteps, 1);\n",
    "\n",
    "% Create step of commands [-].  \n",
    "powerSupply(1:nSteps/4) = 0.8;\n",
    "powerSupply(nSteps/2:3*nSteps/4) = 0.3;\n",
    "\n",
    "% Run simulation.\n",
    "sol = SimulateSystem(nSteps, timeStep, boilerTempIni, powerSupply);"
   ]
  },
  {
   "cell_type": "markdown",
   "id": "a7eeae9d-e2d3-42b6-9dc3-71dc9b1a8bc2",
   "metadata": {},
   "source": [
    "Below in the post processing we see that when boiler is not producing steam but steam flow is requested it keeps power at 100%, falling back to requested output when boiling of water is achieved. Notice that in our power supply above we made a step of 0.8 (80%) and another of 0.3 (30%) of total generation capacity, but in terms of power that does not correspond to these values. This is normal, since the relative effect of heat losses is different under these conditions and more relevant at lower steam output request."
   ]
  },
  {
   "cell_type": "code",
   "execution_count": 15,
   "id": "cb175434-07c1-4586-9833-096dbcd4fd6b",
   "metadata": {},
   "outputs": [
    {
     "data": {
      "image/png": "[encoded data removed]",
      "text/plain": [
       "<IPython.core.display.Image object>"
      ]
     },
     "metadata": {},
     "output_type": "display_data"
    }
   ],
   "source": [
    "%plot -s 900,800\n",
    "PlotResponse(sol)"
   ]
  },
  {
   "cell_type": "markdown",
   "id": "bbda90cc-67e3-426f-80d3-7dec14ffb035",
   "metadata": {},
   "source": [
    "## Next steps\n",
    "\n",
    "Ok, this seems to work just fine, but implementing reusable code in a notebook is not good. To be able to test and expand this program an object-oriented implementation is provided under [note-203-ode-octave-steamer](./note-203-ode-octave-steamer) directory (same name as this notebook). Let's add this implementation and check how to use it."
   ]
  },
  {
   "cell_type": "code",
   "execution_count": 16,
   "id": "4f73a200-ecf0-4782-9de7-8defc3fb6031",
   "metadata": {},
   "outputs": [],
   "source": [
    "addpath('code/note-203-ode-octave-steamer')"
   ]
  },
  {
   "cell_type": "markdown",
   "id": "22dc6f8d-a066-4677-990d-c1ce3e4ac3a0",
   "metadata": {},
   "source": [
    "To use all parameters by default (same as implemented above) and replicate the previous simulation simply instantiate the class `BoilerModel` and use its public methods. Notice here that only the simulation and plotting functions were made public, so the principle of abstraction is used, hiding what the end user does not need to know/modify."
   ]
  },
  {
   "cell_type": "code",
   "execution_count": 17,
   "id": "9b6fe977-dd65-4be2-8dff-310acfc65eab",
   "metadata": {},
   "outputs": [
    {
     "data": {
      "image/png": "[encoded data removed]",
      "text/plain": [
       "<IPython.core.display.Image object>"
      ]
     },
     "metadata": {},
     "output_type": "display_data"
    }
   ],
   "source": [
    "model = BoilerModel();\n",
    "sol = model.SimulateSystem(nSteps, timeStep, boilerTempIni, powerSupply);\n",
    "model.PlotResponse(sol)"
   ]
  },
  {
   "cell_type": "markdown",
   "id": "8db9ea0a-895f-4156-8809-1c505d3d1558",
   "metadata": {},
   "source": [
    "You can also inspect the object properties by suppressing the semicolons."
   ]
  },
  {
   "cell_type": "code",
   "execution_count": 18,
   "id": "918d8d80-a2fe-4022-aea3-a2ab495dd67c",
   "metadata": {},
   "outputs": [
    {
     "name": "stdout",
     "output_type": "stream",
     "text": [
      "model =\n",
      "\n",
      "<object BoilerModel>\n",
      "\n"
     ]
    }
   ],
   "source": [
    "model = BoilerModel()"
   ]
  },
  {
   "cell_type": "markdown",
   "id": "6dac7732-0981-41ef-9172-5879d771d78e",
   "metadata": {},
   "source": [
    "For instance, now to compute a smaller boiler with power 2800 W and mass of 2 kg, you simply do:"
   ]
  },
  {
   "cell_type": "code",
   "execution_count": 19,
   "id": "02f0fc85-cabe-4269-8693-feeec93315bc",
   "metadata": {},
   "outputs": [
    {
     "data": {
      "image/png": "[encoded data removed]",
      "text/plain": [
       "<IPython.core.display.Image object>"
      ]
     },
     "metadata": {},
     "output_type": "display_data"
    }
   ],
   "source": [
    "model = BoilerModel();\n",
    "model.ParamBoilerPower = 2800;\n",
    "model.ParamBoilerHtc = 12.0;\n",
    "model.ParamBoilerMass = 2.0;\n",
    "\n",
    "sol = model.SimulateSystem(nSteps, timeStep, boilerTempIni, powerSupply);\n",
    "model.PlotResponse(sol)"
   ]
  }
 ],
 "metadata": {
  "kernelspec": {
   "display_name": "Octave",
   "language": "octave",
   "name": "octave"
  },
  "language_info": {
   "file_extension": ".m",
   "help_links": [
    {
     "text": "GNU Octave",
     "url": "https://www.gnu.org/software/octave/support.html"
    },
    {
     "text": "Octave Kernel",
     "url": "https://github.com/Calysto/octave_kernel"
    },
    {
     "text": "MetaKernel Magics",
     "url": "https://metakernel.readthedocs.io/en/latest/source/README.html"
    }
   ],
   "mimetype": "text/x-octave",
   "name": "octave",
   "version": "5.2.0"
  }
 },
 "nbformat": 4,
 "nbformat_minor": 5
}
