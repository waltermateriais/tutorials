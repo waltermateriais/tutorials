{
 "cells": [
  {
   "cell_type": "markdown",
   "id": "cc1e25d0-5e57-40c4-a1fc-4cbf0822ad21",
   "metadata": {},
   "source": [
    "# Getting image metadata\n",
    "\n",
    "\n",
    "In this brief notebook we explore how to get image metadata, more specifically EXIF (Exchangeable image file format) data from a file. More about the format can be found on [Wikipedia](https://en.wikipedia.org/wiki/Exif) and the implementation is based on [this answer](https://stackoverflow.com/questions/4764932). So let's use some pictures on my personal database to see what sort of information we may extract.\n",
    "\n",
    "To follow this notebook you will need `PIL==8.3.1`, `exifread==2.3.2`, and `folium==0.12.1`. Other versions might work, but since I am not making a `requirements.txt` for this notebook it is better to keep track of the versions it worked with. Methods for extracting data with be explained for both `PIL` and [`exifread`](https://github.com/ianare/exif-py), `folium` is there to do something actually usefull with the data. So let's import the packages:"
   ]
  },
  {
   "cell_type": "code",
   "execution_count": 1,
   "id": "f9ef2562-9a2f-42ef-af91-c7edc960654e",
   "metadata": {},
   "outputs": [],
   "source": [
    "from pathlib import Path\n",
    "from PIL import Image\n",
    "import exifread\n",
    "import folium"
   ]
  },
  {
   "cell_type": "markdown",
   "id": "b61e48fd-53fe-4912-9a4f-0f560c605c22",
   "metadata": {},
   "source": [
    "I put some images from my last cool trip in 2018 to play with under ['data/note-500-image-metadata'](./data/note-500-image-metadata). Here we make use of Python `pathlib.Path` to get all images matching the extension `jpg` in a list. We will use a single image here but in the end you can change index of the list and check the others."
   ]
  },
  {
   "cell_type": "code",
   "execution_count": 2,
   "id": "d050fd58-d0a8-4b28-b536-194584f65547",
   "metadata": {},
   "outputs": [
    {
     "data": {
      "text/plain": [
       "[PosixPath('data/note-500-image-metadata/20180430_195550.jpg'),\n",
       " PosixPath('data/note-500-image-metadata/20180522_140536.jpg'),\n",
       " PosixPath('data/note-500-image-metadata/20180522_205408.jpg'),\n",
       " PosixPath('data/note-500-image-metadata/20180526_090143.jpg')]"
      ]
     },
     "execution_count": 2,
     "metadata": {},
     "output_type": "execute_result"
    }
   ],
   "source": [
    "file_path = Path('data/note-500-image-metadata')\n",
    "file_list = list(file_path.glob('*.jpg'))\n",
    "file_list"
   ]
  },
  {
   "cell_type": "markdown",
   "id": "d80bc6bf-51a5-4985-a56b-e047e4a6e2a8",
   "metadata": {},
   "source": [
    "Next we select one image from the list. If you want to see it you can uncomment `Image.open(selected)` below. I keep it commented to keep the file size of this notebook small (since the images are already in the repository)."
   ]
  },
  {
   "cell_type": "code",
   "execution_count": 3,
   "id": "ffbf9cfc-fd68-47e3-b4ea-10d8216da04d",
   "metadata": {},
   "outputs": [],
   "source": [
    "selected =  file_list[1]\n",
    "\n",
    "# Image.open(selected)"
   ]
  },
  {
   "cell_type": "markdown",
   "id": "73338cae-abce-4314-9a95-cc83c2c23d37",
   "metadata": {},
   "source": [
    "## Using PIL.Image (not recommended)\n",
    "\n",
    "Using the well-known `PIL.Image` is not the recommended way and we choose to present it first so that we can explore further the recommended way. The image object has a method `getexif` (commented line) that provides (i) little data and in (ii) a nonsense format. Using the private method (you should not to do so) `_getexif` gets more data, but good luck making any proper use of it."
   ]
  },
  {
   "cell_type": "code",
   "execution_count": 4,
   "id": "4c2092fc-a40f-4ade-bd03-3aeaef0b5a83",
   "metadata": {},
   "outputs": [
    {
     "data": {
      "text/plain": [
       "{34853: {0: b'\\x02\\x02\\x00\\x00',\n",
       "  1: 'N',\n",
       "  2: (45.0, 20.0, 53.0),\n",
       "  3: 'E',\n",
       "  4: (14.0, 3.0, 4.0),\n",
       "  5: b'\\x00',\n",
       "  6: 397.0,\n",
       "  7: (12.0, 5.0, 34.0),\n",
       "  29: '2018:05:22'},\n",
       " 296: 2,\n",
       " 34665: 214,\n",
       " 271: 'samsung',\n",
       " 272: 'SM-G955F',\n",
       " 305: 'G955FXXU1CRD7',\n",
       " 274: 6,\n",
       " 306: '2018:05:22 14:05:36',\n",
       " 531: 1,\n",
       " 282: 72.0,\n",
       " 283: 72.0,\n",
       " 36864: b'0220',\n",
       " 37121: b'\\x01\\x02\\x03\\x00',\n",
       " 37377: 9.78,\n",
       " 36867: '2018:05:22 14:05:36',\n",
       " 36868: '2018:05:22 14:05:36',\n",
       " 37378: 1.53,\n",
       " 37379: 7.61,\n",
       " 37380: 0.0,\n",
       " 37381: 1.53,\n",
       " 37383: 5,\n",
       " 37385: 0,\n",
       " 37386: 4.2,\n",
       " 37510: b'\\x00\\x00\\x00\\x00\\x00\\x00\\x00\\x00\\x00\\x00\\x00\\x00\\x00',\n",
       " 40961: 1,\n",
       " 40962: 4032,\n",
       " 41990: 0,\n",
       " 37520: '0546',\n",
       " 37521: '0546',\n",
       " 37522: '0546',\n",
       " 40963: 3024,\n",
       " 33434: 0.001141552511415525,\n",
       " 40965: 852,\n",
       " 33437: 1.7,\n",
       " 42016: 'F12LLJA00VM F12LLKL01GM\\n',\n",
       " 34850: 2,\n",
       " 34855: 40,\n",
       " 41986: 0,\n",
       " 40960: b'0100',\n",
       " 41987: 0,\n",
       " 41989: 26}"
      ]
     },
     "execution_count": 4,
     "metadata": {},
     "output_type": "execute_result"
    }
   ],
   "source": [
    "# exif_data = Image.open(selected).getexif().items()\n",
    "exif_data = Image.open(selected)._getexif().items()\n",
    "exif_data = {k: v for k, v in exif_data if k != 37500}\n",
    "exif_data"
   ]
  },
  {
   "cell_type": "markdown",
   "id": "4a35835f-61bd-4204-8886-5c2feb318bfc",
   "metadata": {},
   "source": [
    "## Using exifread (recommended)\n",
    "\n",
    "This small and embedable package [exifread](https://github.com/ianare/exif-py) provides what it takes to get EXIF data from an image in a well formated dictionary. The following snippet illustrates how to do so:"
   ]
  },
  {
   "cell_type": "code",
   "execution_count": 5,
   "id": "14a9374a-e2a4-4717-9ec8-9b38c0c23b0c",
   "metadata": {},
   "outputs": [
    {
     "data": {
      "text/plain": [
       "{'Image Make': (0x010F) ASCII=samsung @ 162,\n",
       " 'Image Model': (0x0110) ASCII=SM-G955F @ 170,\n",
       " 'Image Orientation': (0x0112) Short=Rotated 90 CW @ 42,\n",
       " 'Image XResolution': (0x011A) Ratio=72 @ 146,\n",
       " 'Image YResolution': (0x011B) Ratio=72 @ 154,\n",
       " 'Image ResolutionUnit': (0x0128) Short=Pixels/Inch @ 78,\n",
       " 'Image Software': (0x0131) ASCII=G955FXXU1CRD7 @ 180,\n",
       " 'Image DateTime': (0x0132) ASCII=2018:05:22 14:05:36 @ 194,\n",
       " 'Image YCbCrPositioning': (0x0213) Short=Centered @ 114,\n",
       " 'Image ExifOffset': (0x8769) Long=214 @ 126,\n",
       " 'GPS GPSVersionID': (0x0000) Byte=[2, 2, 0, 0] @ 892,\n",
       " 'GPS GPSLatitudeRef': (0x0001) ASCII=N @ 904,\n",
       " 'GPS GPSLatitude': (0x0002) Ratio=[45, 20, 53] @ 996,\n",
       " 'GPS GPSLongitudeRef': (0x0003) ASCII=E @ 928,\n",
       " 'GPS GPSLongitude': (0x0004) Ratio=[14, 3, 4] @ 1020,\n",
       " 'GPS GPSAltitudeRef': (0x0005) Byte=0 @ 952,\n",
       " 'GPS GPSAltitude': (0x0006) Ratio=397 @ 1044,\n",
       " 'GPS GPSTimeStamp': (0x0007) Ratio=[12, 5, 34] @ 1064,\n",
       " 'GPS GPSDate': (0x001D) ASCII=2018:05:22 @ 1052,\n",
       " 'Image GPSInfo': (0x8825) Long=882 @ 138,\n",
       " 'Thumbnail ImageWidth': (0x0100) Long=504 @ 1098,\n",
       " 'Thumbnail ImageLength': (0x0101) Long=376 @ 1110,\n",
       " 'Thumbnail Compression': (0x0103) Short=JPEG (old-style) @ 1122,\n",
       " 'Thumbnail Orientation': (0x0112) Short=Rotated 90 CW @ 1134,\n",
       " 'Thumbnail XResolution': (0x011A) Ratio=72 @ 1202,\n",
       " 'Thumbnail YResolution': (0x011B) Ratio=72 @ 1210,\n",
       " 'Thumbnail ResolutionUnit': (0x0128) Short=Pixels/Inch @ 1170,\n",
       " 'Thumbnail JPEGInterchangeFormat': (0x0201) Long=1218 @ 1182,\n",
       " 'Thumbnail JPEGInterchangeFormatLength': (0x0202) Long=29581 @ 1194,\n",
       " 'EXIF ExposureTime': (0x829A) Ratio=1/876 @ 592,\n",
       " 'EXIF FNumber': (0x829D) Ratio=17/10 @ 600,\n",
       " 'EXIF ExposureProgram': (0x8822) Short=Program Normal @ 248,\n",
       " 'EXIF ISOSpeedRatings': (0x8827) Short=40 @ 260,\n",
       " 'EXIF ExifVersion': (0x9000) Undefined=0220 @ 272,\n",
       " 'EXIF DateTimeOriginal': (0x9003) ASCII=2018:05:22 14:05:36 @ 608,\n",
       " 'EXIF DateTimeDigitized': (0x9004) ASCII=2018:05:22 14:05:36 @ 628,\n",
       " 'EXIF ComponentsConfiguration': (0x9101) Undefined=YCbCr @ 308,\n",
       " 'EXIF ShutterSpeedValue': (0x9201) Signed Ratio=489/50 @ 648,\n",
       " 'EXIF ApertureValue': (0x9202) Ratio=153/100 @ 656,\n",
       " 'EXIF BrightnessValue': (0x9203) Signed Ratio=761/100 @ 664,\n",
       " 'EXIF ExposureBiasValue': (0x9204) Signed Ratio=0 @ 672,\n",
       " 'EXIF MaxApertureValue': (0x9205) Ratio=153/100 @ 680,\n",
       " 'EXIF MeteringMode': (0x9207) Short=Pattern @ 380,\n",
       " 'EXIF Flash': (0x9209) Short=Flash did not fire @ 392,\n",
       " 'EXIF FocalLength': (0x920A) Ratio=21/5 @ 688,\n",
       " 'EXIF MakerNote': (0x927C) Undefined=[7, 0, 1, 0, 7, 0, 4, 0, 0, 0, 48, 49, 48, 48, 2, 0, 4, 0, 1, 0, ... ] @ 754,\n",
       " 'EXIF UserComment': (0x9286) Undefined=[0, 0, 0, 0, 0] @ 714,\n",
       " 'EXIF SubSecTime': (0x9290) ASCII=0546 @ 696,\n",
       " 'EXIF SubSecTimeOriginal': (0x9291) ASCII=0546 @ 702,\n",
       " 'EXIF SubSecTimeDigitized': (0x9292) ASCII=0546 @ 708,\n",
       " 'EXIF FlashPixVersion': (0xA000) Undefined=0100 @ 476,\n",
       " 'EXIF ColorSpace': (0xA001) Short=sRGB @ 488,\n",
       " 'EXIF ExifImageWidth': (0xA002) Long=4032 @ 500,\n",
       " 'EXIF ExifImageLength': (0xA003) Long=3024 @ 512,\n",
       " 'Interoperability InteroperabilityIndex': (0x0001) ASCII=R98 @ 862,\n",
       " 'Interoperability InteroperabilityVersion': (0x0002) Undefined=[48, 49, 48, 48] @ 874,\n",
       " 'EXIF InteroperabilityOffset': (0xA005) Long=852 @ 524,\n",
       " 'EXIF ExposureMode': (0xA402) Short=Auto Exposure @ 536,\n",
       " 'EXIF WhiteBalance': (0xA403) Short=Auto @ 548,\n",
       " 'EXIF FocalLengthIn35mmFilm': (0xA405) Short=26 @ 560,\n",
       " 'EXIF SceneCaptureType': (0xA406) Short=Standard @ 572,\n",
       " 'EXIF ImageUniqueID': (0xA420) ASCII=F12LLJA00VM F12LLKL01GM\n",
       "  @ 728}"
      ]
     },
     "execution_count": 5,
     "metadata": {},
     "output_type": "execute_result"
    }
   ],
   "source": [
    "with open(selected, 'rb') as reader:\n",
    "    exif_data = exifread.process_file(reader).items()\n",
    "    exif_data = {k:v for k, v in exif_data if k != 'JPEGThumbnail'}\n",
    "\n",
    "exif_data"
   ]
  },
  {
   "cell_type": "markdown",
   "id": "2933fda1-bfb3-4b4f-a3d2-6c91c6267f9b",
   "metadata": {},
   "source": [
    "There is a bunch of information above, but let's imagine here you forgot where a picture was taken. Well, if your camera or cellphone has a GPS embedded you get find out with the extracted metadata. The following function extracts the latitude and logitude from the format exported by `exifread` for you and provides the results in degrees."
   ]
  },
  {
   "cell_type": "code",
   "execution_count": 6,
   "id": "dc9aaa6f-63a7-4e8a-a508-9674fcff57b2",
   "metadata": {},
   "outputs": [],
   "source": [
    "def get_exif_location(exif_data):\n",
    "    \"\"\" Returns the latitude and longitude from exif data.\n",
    "    \n",
    "    Based on https://gist.github.com/snakeye/fdc372dbf11370fe29eb which\n",
    "    by its way is based on https://gist.github.com/erans/983821.\n",
    "    \"\"\"\n",
    "    \n",
    "    def to_degress(value):\n",
    "        \"\"\" Convert the GPS coordinates stored in the EXIF to degrees. \"\"\"\n",
    "        d = float(value.values[0].num) / float(value.values[0].den)\n",
    "        m = float(value.values[1].num) / float(value.values[1].den)\n",
    "        s = float(value.values[2].num) / float(value.values[2].den)\n",
    "        return d + m / 60 + s / 3600\n",
    "\n",
    "    lat, lon = None, None\n",
    "    gps_lat_val = exif_data.get('GPS GPSLatitude', None)\n",
    "    gps_lat_ref = exif_data.get('GPS GPSLatitudeRef', None)\n",
    "    gps_lon_val = exif_data.get('GPS GPSLongitude', None)\n",
    "    gps_lon_ref = exif_data.get('GPS GPSLongitudeRef', None)\n",
    "\n",
    "    if gps_lat_val and gps_lat_ref and gps_lon_val and gps_lon_ref:\n",
    "        lat = to_degress(gps_lat_val)\n",
    "        lon = to_degress(gps_lon_val)\n",
    "        \n",
    "        lat = -lat if gps_lat_ref.values[0] != 'N' else lat\n",
    "        lon = -lon if gps_lon_ref.values[0] != 'E' else lon\n",
    "\n",
    "    return lat, lon"
   ]
  },
  {
   "cell_type": "markdown",
   "id": "189b6ee4-34a3-4ade-8d67-8c61da959faf",
   "metadata": {},
   "source": [
    "So here we go, we get the coordinates from the image and with help of `folium` we check on the map where it was taken."
   ]
  },
  {
   "cell_type": "code",
   "execution_count": 7,
   "id": "60a94c83-bb98-4291-ad7f-d7eeefe0cfe9",
   "metadata": {},
   "outputs": [
    {
     "data": {
      "text/html": [
       "<div style=\"width:100%;\"><div style=\"position:relative;width:100%;height:0;padding-bottom:60%;\"><span style=\"color:#565656\">Make this Notebook Trusted to load map: File -> Trust Notebook</span><iframe src=\"about:blank\" style=\"position:absolute;width:100%;height:100%;left:0;top:0;border:none !important;\" data-html=%3C%21DOCTYPE%20html%3E%0A%3Chead%3E%20%20%20%20%0A%20%20%20%20%3Cmeta%20http-equiv%3D%22content-type%22%20content%3D%22text/html%3B%20charset%3DUTF-8%22%20/%3E%0A%20%20%20%20%0A%20%20%20%20%20%20%20%20%3Cscript%3E%0A%20%20%20%20%20%20%20%20%20%20%20%20L_NO_TOUCH%20%3D%20false%3B%0A%20%20%20%20%20%20%20%20%20%20%20%20L_DISABLE_3D%20%3D%20false%3B%0A%20%20%20%20%20%20%20%20%3C/script%3E%0A%20%20%20%20%0A%20%20%20%20%3Cstyle%3Ehtml%2C%20body%20%7Bwidth%3A%20100%25%3Bheight%3A%20100%25%3Bmargin%3A%200%3Bpadding%3A%200%3B%7D%3C/style%3E%0A%20%20%20%20%3Cstyle%3E%23map%20%7Bposition%3Aabsolute%3Btop%3A0%3Bbottom%3A0%3Bright%3A0%3Bleft%3A0%3B%7D%3C/style%3E%0A%20%20%20%20%3Cscript%20src%3D%22https%3A//cdn.jsdelivr.net/npm/leaflet%401.6.0/dist/leaflet.js%22%3E%3C/script%3E%0A%20%20%20%20%3Cscript%20src%3D%22https%3A//code.jquery.com/jquery-1.12.4.min.js%22%3E%3C/script%3E%0A%20%20%20%20%3Cscript%20src%3D%22https%3A//maxcdn.bootstrapcdn.com/bootstrap/3.2.0/js/bootstrap.min.js%22%3E%3C/script%3E%0A%20%20%20%20%3Cscript%20src%3D%22https%3A//cdnjs.cloudflare.com/ajax/libs/Leaflet.awesome-markers/2.0.2/leaflet.awesome-markers.js%22%3E%3C/script%3E%0A%20%20%20%20%3Clink%20rel%3D%22stylesheet%22%20href%3D%22https%3A//cdn.jsdelivr.net/npm/leaflet%401.6.0/dist/leaflet.css%22/%3E%0A%20%20%20%20%3Clink%20rel%3D%22stylesheet%22%20href%3D%22https%3A//maxcdn.bootstrapcdn.com/bootstrap/3.2.0/css/bootstrap.min.css%22/%3E%0A%20%20%20%20%3Clink%20rel%3D%22stylesheet%22%20href%3D%22https%3A//maxcdn.bootstrapcdn.com/bootstrap/3.2.0/css/bootstrap-theme.min.css%22/%3E%0A%20%20%20%20%3Clink%20rel%3D%22stylesheet%22%20href%3D%22https%3A//maxcdn.bootstrapcdn.com/font-awesome/4.6.3/css/font-awesome.min.css%22/%3E%0A%20%20%20%20%3Clink%20rel%3D%22stylesheet%22%20href%3D%22https%3A//cdnjs.cloudflare.com/ajax/libs/Leaflet.awesome-markers/2.0.2/leaflet.awesome-markers.css%22/%3E%0A%20%20%20%20%3Clink%20rel%3D%22stylesheet%22%20href%3D%22https%3A//cdn.jsdelivr.net/gh/python-visualization/folium/folium/templates/leaflet.awesome.rotate.min.css%22/%3E%0A%20%20%20%20%0A%20%20%20%20%20%20%20%20%20%20%20%20%3Cmeta%20name%3D%22viewport%22%20content%3D%22width%3Ddevice-width%2C%0A%20%20%20%20%20%20%20%20%20%20%20%20%20%20%20%20initial-scale%3D1.0%2C%20maximum-scale%3D1.0%2C%20user-scalable%3Dno%22%20/%3E%0A%20%20%20%20%20%20%20%20%20%20%20%20%3Cstyle%3E%0A%20%20%20%20%20%20%20%20%20%20%20%20%20%20%20%20%23map_779d0584d9cd43719e06a2bfe2e7ab8c%20%7B%0A%20%20%20%20%20%20%20%20%20%20%20%20%20%20%20%20%20%20%20%20position%3A%20relative%3B%0A%20%20%20%20%20%20%20%20%20%20%20%20%20%20%20%20%20%20%20%20width%3A%20100.0%25%3B%0A%20%20%20%20%20%20%20%20%20%20%20%20%20%20%20%20%20%20%20%20height%3A%20100.0%25%3B%0A%20%20%20%20%20%20%20%20%20%20%20%20%20%20%20%20%20%20%20%20left%3A%200.0%25%3B%0A%20%20%20%20%20%20%20%20%20%20%20%20%20%20%20%20%20%20%20%20top%3A%200.0%25%3B%0A%20%20%20%20%20%20%20%20%20%20%20%20%20%20%20%20%7D%0A%20%20%20%20%20%20%20%20%20%20%20%20%3C/style%3E%0A%20%20%20%20%20%20%20%20%0A%3C/head%3E%0A%3Cbody%3E%20%20%20%20%0A%20%20%20%20%0A%20%20%20%20%20%20%20%20%20%20%20%20%3Cdiv%20class%3D%22folium-map%22%20id%3D%22map_779d0584d9cd43719e06a2bfe2e7ab8c%22%20%3E%3C/div%3E%0A%20%20%20%20%20%20%20%20%0A%3C/body%3E%0A%3Cscript%3E%20%20%20%20%0A%20%20%20%20%0A%20%20%20%20%20%20%20%20%20%20%20%20var%20map_779d0584d9cd43719e06a2bfe2e7ab8c%20%3D%20L.map%28%0A%20%20%20%20%20%20%20%20%20%20%20%20%20%20%20%20%22map_779d0584d9cd43719e06a2bfe2e7ab8c%22%2C%0A%20%20%20%20%20%20%20%20%20%20%20%20%20%20%20%20%7B%0A%20%20%20%20%20%20%20%20%20%20%20%20%20%20%20%20%20%20%20%20center%3A%20%5B45.34805555555556%2C%2014.051111111111112%5D%2C%0A%20%20%20%20%20%20%20%20%20%20%20%20%20%20%20%20%20%20%20%20crs%3A%20L.CRS.EPSG3857%2C%0A%20%20%20%20%20%20%20%20%20%20%20%20%20%20%20%20%20%20%20%20zoom%3A%2010%2C%0A%20%20%20%20%20%20%20%20%20%20%20%20%20%20%20%20%20%20%20%20zoomControl%3A%20true%2C%0A%20%20%20%20%20%20%20%20%20%20%20%20%20%20%20%20%20%20%20%20preferCanvas%3A%20false%2C%0A%20%20%20%20%20%20%20%20%20%20%20%20%20%20%20%20%7D%0A%20%20%20%20%20%20%20%20%20%20%20%20%29%3B%0A%0A%20%20%20%20%20%20%20%20%20%20%20%20%0A%0A%20%20%20%20%20%20%20%20%0A%20%20%20%20%0A%20%20%20%20%20%20%20%20%20%20%20%20var%20tile_layer_bc2b32c0ef8648b186acaf4519257f9d%20%3D%20L.tileLayer%28%0A%20%20%20%20%20%20%20%20%20%20%20%20%20%20%20%20%22https%3A//%7Bs%7D.tile.openstreetmap.org/%7Bz%7D/%7Bx%7D/%7By%7D.png%22%2C%0A%20%20%20%20%20%20%20%20%20%20%20%20%20%20%20%20%7B%22attribution%22%3A%20%22Data%20by%20%5Cu0026copy%3B%20%5Cu003ca%20href%3D%5C%22http%3A//openstreetmap.org%5C%22%5Cu003eOpenStreetMap%5Cu003c/a%5Cu003e%2C%20under%20%5Cu003ca%20href%3D%5C%22http%3A//www.openstreetmap.org/copyright%5C%22%5Cu003eODbL%5Cu003c/a%5Cu003e.%22%2C%20%22detectRetina%22%3A%20false%2C%20%22maxNativeZoom%22%3A%2018%2C%20%22maxZoom%22%3A%2018%2C%20%22minZoom%22%3A%200%2C%20%22noWrap%22%3A%20false%2C%20%22opacity%22%3A%201%2C%20%22subdomains%22%3A%20%22abc%22%2C%20%22tms%22%3A%20false%7D%0A%20%20%20%20%20%20%20%20%20%20%20%20%29.addTo%28map_779d0584d9cd43719e06a2bfe2e7ab8c%29%3B%0A%20%20%20%20%20%20%20%20%0A%20%20%20%20%0A%20%20%20%20%20%20%20%20%20%20%20%20var%20marker_cb4a31033a014888a2615963097fb20d%20%3D%20L.marker%28%0A%20%20%20%20%20%20%20%20%20%20%20%20%20%20%20%20%5B45.34805555555556%2C%2014.051111111111112%5D%2C%0A%20%20%20%20%20%20%20%20%20%20%20%20%20%20%20%20%7B%7D%0A%20%20%20%20%20%20%20%20%20%20%20%20%29.addTo%28map_779d0584d9cd43719e06a2bfe2e7ab8c%29%3B%0A%20%20%20%20%20%20%20%20%0A%3C/script%3E onload=\"this.contentDocument.open();this.contentDocument.write(    decodeURIComponent(this.getAttribute('data-html')));this.contentDocument.close();\" allowfullscreen webkitallowfullscreen mozallowfullscreen></iframe></div></div>"
      ],
      "text/plain": [
       "<folium.folium.Map at 0x7f7a04227ac0>"
      ]
     },
     "execution_count": 7,
     "metadata": {},
     "output_type": "execute_result"
    }
   ],
   "source": [
    "coordinates = get_exif_location(exif_data)\n",
    "\n",
    "m = folium.Map(location=coordinates)\n",
    "folium.Marker(coordinates).add_to(m)\n",
    "m"
   ]
  }
 ],
 "metadata": {
  "kernelspec": {
   "display_name": "Python 3 (ipykernel)",
   "language": "python",
   "name": "python3"
  },
  "language_info": {
   "codemirror_mode": {
    "name": "ipython",
    "version": 3
   },
   "file_extension": ".py",
   "mimetype": "text/x-python",
   "name": "python",
   "nbconvert_exporter": "python",
   "pygments_lexer": "ipython3",
   "version": "3.9.9"
  }
 },
 "nbformat": 4,
 "nbformat_minor": 5
}
