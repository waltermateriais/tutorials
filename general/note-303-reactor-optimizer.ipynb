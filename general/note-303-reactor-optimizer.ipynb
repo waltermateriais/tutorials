{
 "cells": [
  {
   "cell_type": "markdown",
   "metadata": {},
   "source": [
    "# Chemical reactor optimization"
   ]
  },
  {
   "cell_type": "markdown",
   "metadata": {},
   "source": [
    "This notebook introduces the optimization of a continuous stirred tank reactor (CSTR) with a requirement of time-varying output composition. The dummy case consists of a catalytic reaction $A + s \\rightarrow B + C + s$ where $s$ denotes a surface site where reaction takes place with rate constant $k$. Reagent and products are diluted in inert species $D$. Composition can be controlled through dilution with increased flow rate $q$ of species $D$ or injection of species $A$ with flow rate $u$. In what follows details of problem implementation are exposed progressivelly.\n",
    "\n",
    "We start by importing the required packages. Problem is built and tested with `casadi` and `opengen` is used to generate a deployable version which can be hosted in a server to control the actual tank."
   ]
  },
  {
   "cell_type": "code",
   "execution_count": 1,
   "metadata": {},
   "outputs": [],
   "source": [
    "import numpy as np\n",
    "import casadi as cs\n",
    "import opengen as og\n",
    "import matplotlib.pyplot as plt\n",
    "\n",
    "%matplotlib inline"
   ]
  },
  {
   "cell_type": "markdown",
   "metadata": {},
   "source": [
    "The tank reactor is assumed to have a volume comporting `n = 500` moles of matter. Catalyst integral constant (rate constant multiplied by area) is set to `k = 100` in units of mole per second. These values together specify the main dimensions of the problem."
   ]
  },
  {
   "cell_type": "code",
   "execution_count": 2,
   "metadata": {},
   "outputs": [],
   "source": [
    "n = 500.0\n",
    "k = 100.0"
   ]
  },
  {
   "cell_type": "markdown",
   "metadata": {},
   "source": [
    "The system is equipped with two fluid sources $u$ for species $A$ and $q$ for species $D$. For safety reasons flow $q$ cannot be set below `qmin = 4` moles per second and its maximum capacity is `qmax = 9` moles per second. Flow of $A$ is limited to `umax = 1`. Variables `xq` and `xu` are introduced to store the composition of these pure species sources, with mole fractions ordered as $A$, $B$, $C$, and $D$. We also declare the symbolic variables for these flow rates."
   ]
  },
  {
   "cell_type": "code",
   "execution_count": 3,
   "metadata": {},
   "outputs": [],
   "source": [
    "qmin = 4.0\n",
    "qmax = 9.0\n",
    "\n",
    "umin = 0.0\n",
    "umax = 1.0\n",
    "\n",
    "xq = cs.vertcat(0.00, 0.00, 0.00, 1.00)\n",
    "xu = cs.vertcat(1.00, 0.00, 0.00, 0.00)\n",
    "\n",
    "q = cs.SX.sym(\"q\")\n",
    "u = cs.SX.sym(\"u\")"
   ]
  },
  {
   "cell_type": "markdown",
   "metadata": {},
   "source": [
    "Also for safety reasons, our dummy process cannot contain more than 5% of each of species $A$, $B$, and $C$. Ranges of minimum and maximum values for each species in system are given by `xmin` and `xmax` next."
   ]
  },
  {
   "cell_type": "code",
   "execution_count": 4,
   "metadata": {},
   "outputs": [],
   "source": [
    "xmin = [0.00, 0.00, 0.00, 0.90]\n",
    "xmax = [0.05, 0.05, 0.05, 1.00]"
   ]
  },
  {
   "cell_type": "markdown",
   "metadata": {},
   "source": [
    "The fluid is composed of `ns = 4` chemical species as stated in introduction. Given the time-scales involved in the problem, a control loop with measurements being performed every `tau = 5` seconds is a good choice (you can study problem sensitivity by changing this value later). A horizon of prediction of 30 minutes given the expected transient times of $3V/Q\\approx300$ seconds seems reasonable to be able to illustrate at least a pair of managed transitions."
   ]
  },
  {
   "cell_type": "code",
   "execution_count": 5,
   "metadata": {},
   "outputs": [],
   "source": [
    "ns = 4\n",
    "nt = 360\n",
    "tau = 5"
   ]
  },
  {
   "cell_type": "markdown",
   "metadata": {},
   "source": [
    "System chemical composition is stored in `x` under the same order as `xq` or `xu`."
   ]
  },
  {
   "cell_type": "code",
   "execution_count": 6,
   "metadata": {},
   "outputs": [],
   "source": [
    "x = cs.SX.sym(\"x\", ns)"
   ]
  },
  {
   "cell_type": "markdown",
   "metadata": {},
   "source": [
    "Reaction rate depends only on species $A$ at `x[0]` and is irreversible. Generation rate `wdot` (often noted $\\dot{\\omega}$ in literature) of each species depends on its stoichiometric coefficient on the afore mentionned reaction and can be computed as follows."
   ]
  },
  {
   "cell_type": "code",
   "execution_count": 7,
   "metadata": {},
   "outputs": [],
   "source": [
    "rate = k * x[0]\n",
    "wdot = cs.vertcat(-1, 1, 1, 0) * rate"
   ]
  },
  {
   "cell_type": "markdown",
   "metadata": {},
   "source": [
    "Assuming system outlet does not promote any resistance to flow variations such that it is possible to keep the system at fixed size `n` and given the fact that the catalysis reaction generates two moles of product for each mole of precursor $A$ (thus generates and expantion), one writes the balance equation to computing the vector derivatives with all species as:\n",
    "\n",
    "$$\n",
    "\\dot{x}=\\dfrac{\\sum{x_{F}F} - (\\sum{F}+\\Delta\\nu\\dot{\\omega})x + \\dot{\\omega}}{n}\n",
    "$$\n",
    "\n",
    "where $F$ denotes a flow with composition $x_{F}$ and $\\Delta\\nu$ is the variation of number of moles in reaction. Notice the inertia of system given by its size is given by the number of moles $n$. Expanding with our symbol convention this can be rewritten as:\n",
    "\n",
    "$$\n",
    "\\dot{x}=\\dfrac{x_{q}q + x_{u}u- (q + u + \\dot{\\omega})x + \\dot{\\omega}}{n}\n",
    "$$\n",
    "\n",
    "Since everything was already programmed in a vectorized for, this expression can be written as follows:"
   ]
  },
  {
   "cell_type": "code",
   "execution_count": 8,
   "metadata": {},
   "outputs": [],
   "source": [
    "xdot = (xq * q + xu * u - (q + u + rate) * x + wdot) / n"
   ]
  },
  {
   "cell_type": "markdown",
   "metadata": {},
   "source": [
    "Using `casadi.Function` constructor this expression can be encapsulated in `f` to be evaluated with different inputs, whether numerically or symbolically. We make use of this powerful feature to compose value of the composition at the end of a time-step `tau` by writing down a Runge-Kutta 4th order stepping function `F`."
   ]
  },
  {
   "cell_type": "code",
   "execution_count": 9,
   "metadata": {},
   "outputs": [],
   "source": [
    "f = cs.Function(\"f\", [x, q, u], [xdot])\n",
    "\n",
    "k1 = f(x, q, u)\n",
    "k2 = f(x + tau * k1 / 2, q, u)\n",
    "k3 = f(x + tau * k2 / 2, q, u)\n",
    "k4 = f(x + tau * k3, q, u)\n",
    "\n",
    "rets = [x + tau * (k1 + 2 * k2 + 2 * k3 + k4) / 6]\n",
    "F = cs.Function(\"F\", [x, q, u], rets)"
   ]
  },
  {
   "cell_type": "markdown",
   "metadata": {},
   "source": [
    "Next we declare our known parameters upon which the problem will be built. These include the time-dependent set-point vector of species $B$ given by `xs` (notice its size is `np`, with a value provided for each time point in the prediction horizon), the initial composition `x0`, and flow rates, `q0` and `u0`."
   ]
  },
  {
   "cell_type": "code",
   "execution_count": 10,
   "metadata": {},
   "outputs": [],
   "source": [
    "xs = cs.SX.sym(\"xs\", nt)\n",
    "x0 = cs.SX.sym(\"x0\", ns)\n",
    "q0 = cs.SX.sym(\"q0\")\n",
    "u0 = cs.SX.sym(\"u0\")"
   ]
  },
  {
   "cell_type": "markdown",
   "metadata": {},
   "source": [
    "Although until now the formulation has been fully based on system mass balance, we need to introduce some numerical parameters to control how the optimization with penalize different things. First, we want to control the output content of species $B$, so the square of error with regards to set-point is computed. To this error we give a unit weight through vector `Q`. Nothing impeaches us of using a different profile, *e.g.* increasing the weight over time might be interesting in certain scenarios, but for our introductory purpose a constant weight is enough. \n",
    "\n",
    "Another penalty to be added to cost function are the rate of changes in commands `q` and `u`. To provide smooth operation the change in these set-points must provide additional cost so that they do not vary wildely, what is done here through `R` and `S`, respectivelly. If the order of magnitude of the variables changes too much, then one must consider choosing proper scales to these different weights, but that is not the case here."
   ]
  },
  {
   "cell_type": "code",
   "execution_count": 11,
   "metadata": {},
   "outputs": [],
   "source": [
    "Q = cs.GenDM_ones(nt)\n",
    "R = cs.GenDM_ones(nt) * 0.5\n",
    "S = cs.GenDM_ones(nt) * 0.5"
   ]
  },
  {
   "cell_type": "markdown",
   "metadata": {},
   "source": [
    "## Multiple-shooting solution"
   ]
  },
  {
   "cell_type": "markdown",
   "metadata": {},
   "source": [
    "This preparation allows us to start the problem integration over time. We create symbolic variables for those to be found by the optimizer and add then to list `x`. Since their values are fixed (initial conditions) in the first step, generally we should set the lower and upper boundaries `lbx` and `ubx` to the same value and equal to initial conditions. Because symbolic parameters are not supported by `casadi` in these bounds lists and we want to create a deployable version of the model with `opengen`, we use the default bounds for these variables and add constraints in list `g` to enforce initial state. That might look odd if you have already gone through sample cases provided by `casadi`."
   ]
  },
  {
   "cell_type": "code",
   "execution_count": 12,
   "metadata": {},
   "outputs": [],
   "source": [
    "xj = cs.SX.sym(\"x0\", ns)\n",
    "qj = cs.SX.sym(\"q0\")\n",
    "uj = cs.SX.sym(\"u0\")\n",
    "\n",
    "x = [xj, qj, uj]\n",
    "lbx = [*xmin, qmin, umin]\n",
    "ubx = [*xmax, qmax, umax]\n",
    "\n",
    "g = []\n",
    "g.append(xj - x0)\n",
    "g.append(qj - q0)\n",
    "g.append(uj - u0)"
   ]
  },
  {
   "cell_type": "markdown",
   "metadata": {},
   "source": [
    "Next we initialize cost `f = 0` and loop from step one to the end `np` making use of `F` to predict the value at current step which is used to compute the cost related to error of species `B` at `x[1]`. After the first step we also add penalties to the controls `q` and `u`. In each step of the loop we create new symbols for the unknowns, extend the list `x` and the bounds and enforce the previous prediction to be equal the new symbols, what consists the method of multiple-shooting."
   ]
  },
  {
   "cell_type": "code",
   "execution_count": 13,
   "metadata": {},
   "outputs": [],
   "source": [
    "f = 0\n",
    "\n",
    "for j in range(1, nt):\n",
    "    xj = F(xj, qj, uj)\n",
    "    f += Q[j] * pow(xj[1] - xs[j], 2)\n",
    "\n",
    "    if j != 1:\n",
    "        f += R[j] * pow(qj - qj_prev, 2)\n",
    "        f += S[j] * pow(uj - uj_prev, 2)\n",
    "\n",
    "    xj_prev = xj\n",
    "    qj_prev = qj\n",
    "    uj_prev = uj\n",
    "\n",
    "    xj = cs.SX.sym(F\"x{j}\", ns)\n",
    "    qj = cs.SX.sym(F\"q{j}\")\n",
    "    uj = cs.SX.sym(F\"u{j}\")\n",
    "\n",
    "    x.extend([xj, qj, uj])\n",
    "    lbx.extend([*xmin, qmin, umin])\n",
    "    ubx.extend([*xmax, qmax, umax])\n",
    "\n",
    "    g.append(xj_prev - xj)"
   ]
  },
  {
   "cell_type": "markdown",
   "metadata": {},
   "source": [
    "The problem is assembled and we can now create a solver with `casadi.nlpsol`. Free variables to be provide by end-user are concatenated in `p` in the dictionary of problem constructor. For solution we make use of `ipopt` optimizer."
   ]
  },
  {
   "cell_type": "code",
   "execution_count": 14,
   "metadata": {},
   "outputs": [],
   "source": [
    "nlp = {\n",
    "    \"f\": f,\n",
    "    \"x\": cs.vertcat(*x),\n",
    "    \"g\": cs.vertcat(*g),\n",
    "    \"p\": cs.vertcat(xs, x0, q0, u0)\n",
    "}\n",
    "\n",
    "solver = cs.nlpsol(\"solver\", \"ipopt\", nlp)"
   ]
  },
  {
   "cell_type": "markdown",
   "metadata": {},
   "source": [
    "## Sample test case"
   ]
  },
  {
   "cell_type": "markdown",
   "metadata": {},
   "source": [
    "Now we can use the solver with actual numeric values. For the set-point of species $B$ we provide a stepwise profile at three different concentrations. System is initialized to be filled with pure compound $D$ fed alone by its source $q$. Stacking the parameters in the same order as used in problem construction one can call the solver as follows."
   ]
  },
  {
   "cell_type": "code",
   "execution_count": 15,
   "metadata": {},
   "outputs": [
    {
     "name": "stdout",
     "output_type": "stream",
     "text": [
      "\n",
      "******************************************************************************\n",
      "This program contains Ipopt, a library for large-scale nonlinear optimization.\n",
      " Ipopt is released as open source code under the Eclipse Public License (EPL).\n",
      "         For more information visit http://projects.coin-or.org/Ipopt\n",
      "******************************************************************************\n",
      "\n",
      "This is Ipopt version 3.12.3, running with linear solver mumps.\n",
      "NOTE: Other linear solvers might be more efficient (see Ipopt documentation).\n",
      "\n",
      "Number of nonzeros in equality constraint Jacobian...:     6827\n",
      "Number of nonzeros in inequality constraint Jacobian.:        0\n",
      "Number of nonzeros in Lagrangian Hessian.............:     6460\n",
      "\n",
      "Total number of variables............................:     2160\n",
      "                     variables with only lower bounds:        0\n",
      "                variables with lower and upper bounds:     2160\n",
      "                     variables with only upper bounds:        0\n",
      "Total number of equality constraints.................:     1442\n",
      "Total number of inequality constraints...............:        0\n",
      "        inequality constraints with only lower bounds:        0\n",
      "   inequality constraints with lower and upper bounds:        0\n",
      "        inequality constraints with only upper bounds:        0\n",
      "\n",
      "iter    objective    inf_pr   inf_du lg(mu)  ||d||  lg(rg) alpha_du alpha_pr  ls\n",
      "   0  4.6420945e-01 9.60e-01 2.23e-02  -1.0 0.00e+00    -  0.00e+00 0.00e+00   0\n",
      "   1  7.4958892e-01 2.37e-02 3.53e+02  -1.0 9.60e-01    -  2.78e-02 9.75e-01f  1\n",
      "   2  7.3955455e-01 2.45e-04 1.60e+04  -1.0 2.42e-01    -  1.90e-01 9.90e-01h  1\n",
      "   3  5.3911521e-01 3.01e-04 1.49e+06  -1.0 2.25e-01    -  1.41e-01 9.90e-01f  1\n",
      "   4  4.8398847e-01 1.69e-05 5.80e+05  -1.0 1.83e-01    -  9.38e-01 1.00e+00f  1\n",
      "   5  5.6022898e-01 4.86e-05 4.30e-01  -1.0 1.66e+00    -  1.00e+00 1.00e+00f  1\n",
      "   6  4.2500842e-01 9.68e-06 3.03e+06  -5.7 2.66e-01    -  6.97e-01 1.00e+00f  1\n",
      "   7  3.3244770e-01 1.45e-05 7.21e+05  -5.7 2.08e-01    -  7.62e-01 1.00e+00f  1\n",
      "   8  2.7036873e-01 2.06e-05 1.45e+05  -5.7 3.25e-01    -  7.99e-01 1.00e+00f  1\n",
      "   9  2.0793499e-01 2.63e-05 3.46e+04  -5.7 3.84e-01    -  7.61e-01 1.00e+00f  1\n",
      "iter    objective    inf_pr   inf_du lg(mu)  ||d||  lg(rg) alpha_du alpha_pr  ls\n",
      "  10  1.1923578e-01 2.67e-05 1.33e+04  -5.7 3.50e-01    -  6.16e-01 1.00e+00f  1\n",
      "  11  6.7674110e-02 7.78e-05 2.73e+03  -5.7 2.39e-01    -  7.94e-01 1.00e+00h  1\n",
      "  12  4.8513379e-02 7.21e-05 3.83e+02  -5.7 5.87e-01    -  8.60e-01 8.94e-01h  1\n",
      "  13  4.4201957e-02 3.70e-05 6.31e-02  -5.7 3.22e-01    -  1.00e+00 6.47e-01h  1\n",
      "  14  4.2044664e-02 1.13e-05 1.10e-04  -5.7 7.44e-01    -  1.00e+00 1.00e+00f  1\n",
      "  15  4.1987408e-02 8.56e-08 1.84e-06  -5.7 4.15e-03    -  1.00e+00 1.00e+00h  1\n",
      "  16  4.1540907e-02 1.36e-06 6.04e+01  -8.6 9.06e-02    -  9.71e-01 6.43e-01h  1\n",
      "  17  4.1368575e-02 1.01e-06 2.27e+01  -8.6 3.86e-02    -  1.00e+00 6.55e-01h  1\n",
      "  18  4.1293473e-02 4.15e-07 4.01e+00  -8.6 1.27e-02    -  1.00e+00 8.23e-01h  1\n",
      "  19  4.1278890e-02 1.16e-07 8.21e-01  -8.6 2.65e-03    -  1.00e+00 7.95e-01f  1\n",
      "iter    objective    inf_pr   inf_du lg(mu)  ||d||  lg(rg) alpha_du alpha_pr  ls\n",
      "  20  4.1274656e-02 1.18e-08 1.85e-07  -8.6 1.46e-03    -  1.00e+00 1.00e+00f  1\n",
      "  21  4.1274428e-02 1.02e-09 9.64e-09  -8.6 4.92e-04    -  1.00e+00 1.00e+00h  1\n",
      "\n",
      "Number of Iterations....: 21\n",
      "\n",
      "                                   (scaled)                 (unscaled)\n",
      "Objective...............:   4.1274428202684614e-02    4.1274428202684614e-02\n",
      "Dual infeasibility......:   9.6444445842711570e-09    9.6444445842711570e-09\n",
      "Constraint violation....:   1.0190698285228450e-09    1.0190698285228450e-09\n",
      "Complementarity.........:   3.9710753332883978e-09    3.9710753332883978e-09\n",
      "Overall NLP error.......:   9.6444445842711570e-09    9.6444445842711570e-09\n",
      "\n",
      "\n",
      "Number of objective function evaluations             = 22\n",
      "Number of objective gradient evaluations             = 22\n",
      "Number of equality constraint evaluations            = 22\n",
      "Number of inequality constraint evaluations          = 0\n",
      "Number of equality constraint Jacobian evaluations   = 22\n",
      "Number of inequality constraint Jacobian evaluations = 0\n",
      "Number of Lagrangian Hessian evaluations             = 21\n",
      "Total CPU secs in IPOPT (w/o function evaluations)   =      0.197\n",
      "Total CPU secs in NLP function evaluations           =      0.154\n",
      "\n",
      "EXIT: Optimal Solution Found.\n",
      "      solver  :   t_proc      (avg)   t_wall      (avg)    n_eval\n",
      "       nlp_f  |   7.16ms (325.59us)   7.19ms (326.62us)        22\n",
      "       nlp_g  |  12.98ms (590.09us)  12.98ms (589.94us)        22\n",
      "    nlp_grad  |   1.40ms (  1.40ms)   1.40ms (  1.40ms)         1\n",
      "  nlp_grad_f  |  13.31ms (578.57us)  13.24ms (575.73us)        23\n",
      "  nlp_hess_l  |  75.17ms (  3.58ms)  75.00ms (  3.57ms)        21\n",
      "   nlp_jac_g  |  47.74ms (  2.08ms)  47.44ms (  2.06ms)        23\n",
      "       total  | 376.52ms (376.52ms) 363.37ms (363.37ms)         1\n"
     ]
    }
   ],
   "source": [
    "xs_num = cs.GenDM_ones(nt).full().ravel() * 2 / 100\n",
    "xs_num[1*nt//3:] *= 3.0\n",
    "xs_num[2*nt//3:] *= 0.0\n",
    "\n",
    "x0_num = [0.00, 0.00, 0.00, 1.00]\n",
    "q0_num = 5.0\n",
    "u0_num = 0.0\n",
    "\n",
    "p = cs.vertcat(xs_num, x0_num, q0_num, u0_num)\n",
    "sol = solver(p=p, lbx=lbx, ubx=ubx, lbg=0, ubg=0)"
   ]
  },
  {
   "cell_type": "markdown",
   "metadata": {},
   "source": [
    "Solution is found in `sol[\"x\"]` array. Below we unpack the variables. Since we have 4 chemical species and 2 controls parameters, slicing the array every 6 entries starting by the variable index allows us to retrieve the variables. Since the way the multiple shooting loop was written does not enforce anything for the last controls, the last value has no meaning and we over write it with its predecessor just for having nice graphics."
   ]
  },
  {
   "cell_type": "code",
   "execution_count": 16,
   "metadata": {},
   "outputs": [],
   "source": [
    "t = cs.linspace(0.0, nt * tau, nt)\n",
    "x = sol[\"x\"].full().ravel()\n",
    "\n",
    "A = x[0::6] * 100\n",
    "B = x[1::6] * 100\n",
    "C = x[2::6] * 100\n",
    "D = x[3::6] * 100\n",
    "q = x[4::6]\n",
    "u = x[5::6]\n",
    "\n",
    "q[-1] = q[-2]\n",
    "u[-1] = u[-2]"
   ]
  },
  {
   "cell_type": "markdown",
   "metadata": {},
   "source": [
    "It is now simply a matter of plotting. For species $B$ we add a line for the set-point for comparison."
   ]
  },
  {
   "cell_type": "code",
   "execution_count": 17,
   "metadata": {},
   "outputs": [],
   "source": [
    "def plot_results(t, A, B, C, D, q, u, xs_num):\n",
    "    \"\"\" Display optimization results. \"\"\"\n",
    "    plt.close(\"all\")\n",
    "    plt.style.use(\"seaborn-white\")\n",
    "    fig, ax = plt.subplots(3, 2, figsize=(12, 8), sharex=True)\n",
    "\n",
    "    ax[0, 0].plot(t, A, label=\"PV\")\n",
    "    ax[0, 1].plot(t, B, label=\"PV\")\n",
    "    ax[0, 1].step(t, 100 * xs_num, label=\"SP\")\n",
    "    ax[1, 0].plot(t, C, label=\"PV\")\n",
    "    ax[1, 1].plot(t, D, label=\"PV\")\n",
    "    ax[2, 0].step(t, q, label=\"PV\")\n",
    "    ax[2, 1].step(t, u, label=\"PV\")\n",
    "\n",
    "    ax[0, 0].grid(linestyle=\":\")\n",
    "    ax[0, 1].grid(linestyle=\":\")\n",
    "    ax[1, 0].grid(linestyle=\":\")\n",
    "    ax[1, 1].grid(linestyle=\":\")\n",
    "    ax[2, 0].grid(linestyle=\":\")\n",
    "    ax[2, 1].grid(linestyle=\":\")\n",
    "\n",
    "    ax[0, 0].legend(loc=1)\n",
    "    ax[0, 1].legend(loc=1)\n",
    "    ax[1, 0].legend(loc=1)\n",
    "    ax[1, 1].legend(loc=1)\n",
    "    ax[2, 0].legend(loc=1)\n",
    "    ax[2, 1].legend(loc=1)\n",
    "\n",
    "    ax[0, 0].set_ylabel(\"Content of A [%]\")\n",
    "    ax[0, 1].set_ylabel(\"Content of B [%]\")\n",
    "    ax[1, 0].set_ylabel(\"Content of C [%]\")\n",
    "    ax[1, 1].set_ylabel(\"Content of D [%]\")\n",
    "    ax[2, 0].set_ylabel(\"Flow rate of D [mol/s]\")\n",
    "    ax[2, 1].set_ylabel(\"Flow rate of A [mol/s]\")\n",
    "\n",
    "    ax[0, 0].set_xlim(0, nt * tau)\n",
    "    ax[0, 1].set_xlim(0, nt * tau)\n",
    "    ax[1, 0].set_xlim(0, nt * tau)\n",
    "    ax[1, 1].set_xlim(0, nt * tau)\n",
    "    ax[2, 0].set_xlim(0, nt * tau)\n",
    "    ax[2, 1].set_xlim(0, nt * tau)\n",
    "\n",
    "    plt.setp(ax[0, 0].get_xticklabels(), visible=False)\n",
    "    plt.setp(ax[0, 1].get_xticklabels(), visible=False)\n",
    "    plt.setp(ax[1, 0].get_xticklabels(), visible=False)\n",
    "    plt.setp(ax[1, 1].get_xticklabels(), visible=False)\n",
    "\n",
    "    fig.tight_layout()"
   ]
  },
  {
   "cell_type": "code",
   "execution_count": 18,
   "metadata": {},
   "outputs": [
    {
     "data": {
      "image/png": "[encoded data removed]",
      "text/plain": [
       "<Figure size 864x576 with 6 Axes>"
      ]
     },
     "metadata": {},
     "output_type": "display_data"
    }
   ],
   "source": [
    "plot_results(t, A, B, C, D, q, u, xs_num)"
   ]
  },
  {
   "cell_type": "markdown",
   "metadata": {},
   "source": [
    "## TCP interface generation"
   ]
  },
  {
   "cell_type": "code",
   "execution_count": null,
   "metadata": {},
   "outputs": [],
   "source": [
    "# This is an alternative version for same problem:\n",
    "# problem=og.builder.Problem(nlp[\"x\"], nlp[\"p\"], nlp[\"f\"])\n",
    "#     .with_penalty_constraints(nlp[\"g\"])\n",
    "#     .with_constraints(og.constraints.Rectangle(xmin=lbx, xmax=ubx)),\n",
    "\n",
    "builder = og.builder.OpEnOptimizerBuilder(\n",
    "    problem=og.builder.Problem(nlp[\"x\"], nlp[\"p\"], nlp[\"f\"])\n",
    "        .with_aug_lagrangian_constraints(nlp[\"g\"], og.constraints.Zero())\n",
    "        .with_penalty_constraints(nlp[\"g\"])\n",
    "        .with_constraints(og.constraints.Rectangle(xmin=lbx, xmax=ubx)),\n",
    "    metadata=og.config.OptimizerMeta()\n",
    "        .with_version(\"0.1.0\")\n",
    "        .with_authors([\"W. Dal'Maz Silva\"])\n",
    "        .with_licence(\"CC4.0-By\")\n",
    "        .with_optimizer_name(\"cstr_optim\"),\n",
    "    build_configuration=og.config.BuildConfiguration()\n",
    "        .with_build_directory(\"python_build\")\n",
    "        .with_build_mode(\"release\")\n",
    "        .with_tcp_interface_config()\n",
    "        .with_build_python_bindings()\n",
    "        .with_rebuild(True),\n",
    "    solver_configuration=og.config.SolverConfiguration()\n",
    "        .with_delta_tolerance(1.0e-07)\n",
    "        .with_initial_penalty(1000.0)\n",
    "        .with_initial_tolerance(1.0e-06)\n",
    "        .with_max_duration_micros(1_000_000)\n",
    "        .with_max_inner_iterations(5000)\n",
    "        .with_max_outer_iterations(5000)\n",
    "        .with_penalty_weight_update_factor(10.0)\n",
    "        .with_tolerance(1.0e-06)\n",
    "        .with_lbfgs_memory(20)\n",
    ")\n",
    "builder.build()"
   ]
  },
  {
   "cell_type": "code",
   "execution_count": null,
   "metadata": {},
   "outputs": [],
   "source": [
    "# sys.path.insert(0, \"python_build/cstr_optim\")\n",
    "\n",
    "# import cstr_optim\n",
    "\n",
    "# solver = cstr_optim.solver()\n",
    "# result = solver.run(p=p.full().ravel().tolist())\n",
    "# u_star = result.solution\n",
    "\n",
    "# result.exit_status\n",
    "\n",
    "# A = np.array(u_star[0::6]) * 100\n",
    "# B = np.array(u_star[1::6]) * 100\n",
    "# C = np.array(u_star[2::6]) * 100\n",
    "# D = np.array(u_star[3::6]) * 100\n",
    "# q = u_star[4::6]\n",
    "# u = u_star[5::6]\n",
    "\n",
    "# q[-1] = q[-2]\n",
    "# u[-1] = u[-2]\n",
    "\n",
    "# plot_results(t, A, B, C, D, q, u, xs_num)"
   ]
  },
  {
   "cell_type": "markdown",
   "metadata": {},
   "source": [
    "Now run `RUST_LOG=tcp_iface=info cargo run` from TCP interface directory."
   ]
  },
  {
   "cell_type": "code",
   "execution_count": null,
   "metadata": {},
   "outputs": [],
   "source": [
    "# mng = og.tcp.OptimizerTcpManager(\"python_build/cstr_optim\")\n",
    "\n",
    "# response = mng.call(p.full().ravel().tolist())\n",
    "\n",
    "# if response.is_ok():\n",
    "#     solution_data = response.get()\n",
    "#     u_star = solution_data.solution\n",
    "#     exit_status = solution_data.exit_status\n",
    "#     solver_time = solution_data.solve_time_ms\n",
    "#     print(exit_status, solver_time)\n",
    "# else:\n",
    "#     solver_error = response.get()\n",
    "#     error_code = solver_error.code\n",
    "#     error_msg = solver_error.message\n",
    "#     print(error_msg, error_code)\n",
    "\n",
    "# A = np.array(u_star[0::6]) * 100\n",
    "# B = np.array(u_star[1::6]) * 100\n",
    "# C = np.array(u_star[2::6]) * 100\n",
    "# D = np.array(u_star[3::6]) * 100\n",
    "# q = u_star[4::6]\n",
    "# u = u_star[5::6]\n",
    "\n",
    "# q[-1] = q[-2]\n",
    "# u[-1] = u[-2]\n",
    "\n",
    "# plot_results(t, A, B, C, D, q, u, xs_num)"
   ]
  }
 ],
 "metadata": {
  "interpreter": {
   "hash": "31f2aee4e71d21fbe5cf8b01ff0e069b9275f58929596ceb00d14d90e3e16cd6"
  },
  "kernelspec": {
   "display_name": "Python 3.7.3 64-bit",
   "language": "python",
   "name": "python3"
  },
  "language_info": {
   "codemirror_mode": {
    "name": "ipython",
    "version": 3
   },
   "file_extension": ".py",
   "mimetype": "text/x-python",
   "name": "python",
   "nbconvert_exporter": "python",
   "pygments_lexer": "ipython3",
   "version": "3.7.3"
  },
  "orig_nbformat": 4
 },
 "nbformat": 4,
 "nbformat_minor": 2
}
