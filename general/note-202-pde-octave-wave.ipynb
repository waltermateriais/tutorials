{
 "cells": [
  {
   "cell_type": "markdown",
   "metadata": {},
   "source": [
    "# Eigenvalue problems\n",
    "\n",
    "In this notebook we show that quantum mechanics can be easy! Well, at least this sample problem. Here we solve Schrödinger equation in a symmetrical pit. This is a well-known eigenvalue problem for which we will seek the wave function $\\Psi$ that contains all the information about system dynamics. The problem takes the form:\n",
    "\n",
    "$$\n",
    "-\\frac{\\hbar^2}{2m}\\frac{\\partial^2\\Psi}{\\partial{}x^2}+\\Psi{}U=E\\Psi\\implies\n",
    "\\left[-\\frac{\\hbar^2}{2m}\\frac{\\partial^2}{\\partial{}x^2}+U\\right]\\Psi=E\\Psi\n",
    "$$\n",
    "\n",
    "To solve it we provide function `symmetric_pit1d` which computes the approximate version of the operator acting over $\\Psi$."
   ]
  },
  {
   "cell_type": "code",
   "execution_count": 1,
   "metadata": {},
   "outputs": [],
   "source": [
    "function [x, M] = symmetric_pit1d(m, L, N)\n",
    "    # Plank constant h/2pi [J.s].\n",
    "    hbar = 1.05457e-34;\n",
    "    \n",
    "    # Problem multiplier.\n",
    "    p = -hbar^2 / (2 * m);\n",
    "    \n",
    "    # Space discrete step [m].\n",
    "    dx = L / N;\n",
    "    \n",
    "    # Discretize space.\n",
    "    x = linspace(-dx, L + dx, N)';\n",
    "    \n",
    "    # Pit potential [J].\n",
    "    U = zeros(N, 1);\n",
    "    \n",
    "    # Boundary potential is `infinite`.\n",
    "    U(1) = U(end) = 1.0e+300;\n",
    "    \n",
    "    # Create matrix.\n",
    "    Ld = diag(-p / dx^2 * ones(N-1, 1), -1);\n",
    "    Ud = diag(-p / dx^2 * ones(N-1, 1), +1);\n",
    "    Md = diag([U + 2 * p / dx^2], 0);\n",
    "    M = sparse(Ld + Md + Ud);\n",
    "endfunction"
   ]
  },
  {
   "cell_type": "markdown",
   "metadata": {},
   "source": [
    "Now we simply use this function to generate the numerical approximation to the QM operator and with help of `eigs` we retrieve the first 3 eigenvectors close to zero."
   ]
  },
  {
   "cell_type": "code",
   "execution_count": 2,
   "metadata": {},
   "outputs": [],
   "source": [
    "# Electron mass [kg].\n",
    "m = 9.10938e-31;\n",
    "\n",
    "# Pit width [m].\n",
    "L = 1.0e-06;\n",
    "\n",
    "# Create problem matrix.\n",
    "[x, M] = symmetric_pit1d(1000 * m, L, 5000);\n",
    "[V, d] = eigs(M, 3, 0.0);"
   ]
  },
  {
   "cell_type": "markdown",
   "metadata": {},
   "source": [
    "To make $\\Psi$ interpretable as a probability density we take the normalized square of its value."
   ]
  },
  {
   "cell_type": "code",
   "execution_count": 3,
   "metadata": {},
   "outputs": [],
   "source": [
    "v1 = -V(:, 1).^2 / trapz(V(:, 1).^2, x);\n",
    "v2 = -V(:, 2).^2 / trapz(V(:, 2).^2, x);\n",
    "v3 = -V(:, 3).^2 / trapz(V(:, 3).^2, x);"
   ]
  },
  {
   "cell_type": "markdown",
   "metadata": {},
   "source": [
    "Finally we can get to the visualization of solution."
   ]
  },
  {
   "cell_type": "code",
   "execution_count": 4,
   "metadata": {},
   "outputs": [
    {
     "data": {
      "image/png": "[encoded data removed]",
      "text/plain": [
       "<IPython.core.display.Image object>"
      ]
     },
     "metadata": {},
     "output_type": "display_data"
    }
   ],
   "source": [
    "%plot inline -f 'png'\n",
    "figure();\n",
    "plot(x * 1.0e+06, v1 * 1.0e-06, 'color', [1.0, 0.0, 0.0], 'linewidth', 4); hold on;\n",
    "plot(x * 1.0e+06, v2 * 1.0e-06, 'color', [0.0, 0.8, 0.0], 'linewidth', 4); hold on;\n",
    "plot(x * 1.0e+06, v3 * 1.0e-06, 'color', [0.0, 0.0, 1.0], 'linewidth', 4); hold on;\n",
    "xlabel('Position [\\mu{}m]')\n",
    "ylabel('Eigenfunction \\times{}10^{-6} \\Psi^2');\n",
    "grid on; set(gca, 'GridLineStyle', ':');\n",
    "\n",
    "l1 = mat2str(d(1, 1), 4);\n",
    "l2 = mat2str(d(2, 2), 4);\n",
    "l3 = mat2str(d(3, 3), 4);\n",
    "legend(l1, l2, l3);\n",
    "\n",
    "xlim([-0.12, 1.12]);\n",
    "ylim([-0.12, 2.12]);"
   ]
  }
 ],
 "metadata": {
  "kernelspec": {
   "display_name": "Octave",
   "language": "octave",
   "name": "octave"
  },
  "language_info": {
   "file_extension": ".m",
   "help_links": [
    {
     "text": "GNU Octave",
     "url": "https://www.gnu.org/software/octave/support.html"
    },
    {
     "text": "Octave Kernel",
     "url": "https://github.com/Calysto/octave_kernel"
    },
    {
     "text": "MetaKernel Magics",
     "url": "https://metakernel.readthedocs.io/en/latest/source/README.html"
    }
   ],
   "mimetype": "text/x-octave",
   "name": "octave",
   "version": "5.2.0"
  }
 },
 "nbformat": 4,
 "nbformat_minor": 4
}
